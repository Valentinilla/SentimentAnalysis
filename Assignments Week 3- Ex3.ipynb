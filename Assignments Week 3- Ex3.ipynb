{
 "cells": [
  {
   "cell_type": "code",
   "execution_count": 1,
   "metadata": {},
   "outputs": [
    {
     "name": "stdout",
     "output_type": "stream",
     "text": [
      "This non-commercial license of GraphLab Create for academic use is assigned to vf@virtimo.de and will expire on October 04, 2018.\n"
     ]
    },
    {
     "name": "stderr",
     "output_type": "stream",
     "text": [
      "[INFO] graphlab.cython.cy_server: GraphLab Create v2.1 started. Logging: /tmp/graphlab_server_1509108390.log\n"
     ]
    },
    {
     "ename": "IOError",
     "evalue": "/Users/Valina/Documents/DSML-Projects/MLFoundations_CaseStudyApproach27/.data/amazon_baby.gl not found.: unspecified iostream_category error: unspecified iostream_category error",
     "output_type": "error",
     "traceback": [
      "\u001b[0;31m---------------------------------------------------------------------------\u001b[0m",
      "\u001b[0;31mIOError\u001b[0m                                   Traceback (most recent call last)",
      "\u001b[0;32m<ipython-input-1-bf49b3861177>\u001b[0m in \u001b[0;36m<module>\u001b[0;34m()\u001b[0m\n\u001b[1;32m      1\u001b[0m \u001b[0;32mimport\u001b[0m \u001b[0mgraphlab\u001b[0m\u001b[0;34m\u001b[0m\u001b[0m\n\u001b[0;32m----> 2\u001b[0;31m \u001b[0mproducts\u001b[0m \u001b[0;34m=\u001b[0m \u001b[0mgraphlab\u001b[0m\u001b[0;34m.\u001b[0m\u001b[0mSFrame\u001b[0m\u001b[0;34m(\u001b[0m\u001b[0;34m'.data/amazon_baby.gl/'\u001b[0m\u001b[0;34m)\u001b[0m\u001b[0;34m\u001b[0m\u001b[0m\n\u001b[0m\u001b[1;32m      3\u001b[0m \u001b[0mgraphlab\u001b[0m\u001b[0;34m.\u001b[0m\u001b[0mcanvas\u001b[0m\u001b[0;34m.\u001b[0m\u001b[0mset_target\u001b[0m\u001b[0;34m(\u001b[0m\u001b[0;34m'ipynb'\u001b[0m\u001b[0;34m)\u001b[0m\u001b[0;34m\u001b[0m\u001b[0m\n",
      "\u001b[0;32m/Users/Valina/Documents/DSML-Projects/MLFoundations_CaseStudyApproach27/lib/python2.7/site-packages/graphlab/data_structures/sframe.pyc\u001b[0m in \u001b[0;36m__init__\u001b[0;34m(self, data, format, _proxy)\u001b[0m\n\u001b[1;32m    951\u001b[0m                     \u001b[0;32mpass\u001b[0m\u001b[0;34m\u001b[0m\u001b[0m\n\u001b[1;32m    952\u001b[0m                 \u001b[0;32melse\u001b[0m\u001b[0;34m:\u001b[0m\u001b[0;34m\u001b[0m\u001b[0m\n\u001b[0;32m--> 953\u001b[0;31m                     \u001b[0;32mraise\u001b[0m \u001b[0mValueError\u001b[0m\u001b[0;34m(\u001b[0m\u001b[0;34m'Unknown input type: '\u001b[0m \u001b[0;34m+\u001b[0m \u001b[0mformat\u001b[0m\u001b[0;34m)\u001b[0m\u001b[0;34m\u001b[0m\u001b[0m\n\u001b[0m\u001b[1;32m    954\u001b[0m \u001b[0;34m\u001b[0m\u001b[0m\n\u001b[1;32m    955\u001b[0m         \u001b[0msframe_size\u001b[0m \u001b[0;34m=\u001b[0m \u001b[0;34m-\u001b[0m\u001b[0;36m1\u001b[0m\u001b[0;34m\u001b[0m\u001b[0m\n",
      "\u001b[0;32m/Users/Valina/Documents/DSML-Projects/MLFoundations_CaseStudyApproach27/lib/python2.7/site-packages/graphlab/cython/context.pyc\u001b[0m in \u001b[0;36m__exit__\u001b[0;34m(self, exc_type, exc_value, traceback)\u001b[0m\n\u001b[1;32m     47\u001b[0m             \u001b[0;32mif\u001b[0m \u001b[0;32mnot\u001b[0m \u001b[0mself\u001b[0m\u001b[0;34m.\u001b[0m\u001b[0mshow_cython_trace\u001b[0m\u001b[0;34m:\u001b[0m\u001b[0;34m\u001b[0m\u001b[0m\n\u001b[1;32m     48\u001b[0m                 \u001b[0;31m# To hide cython trace, we re-raise from here\u001b[0m\u001b[0;34m\u001b[0m\u001b[0;34m\u001b[0m\u001b[0m\n\u001b[0;32m---> 49\u001b[0;31m                 \u001b[0;32mraise\u001b[0m \u001b[0mexc_type\u001b[0m\u001b[0;34m(\u001b[0m\u001b[0mexc_value\u001b[0m\u001b[0;34m)\u001b[0m\u001b[0;34m\u001b[0m\u001b[0m\n\u001b[0m\u001b[1;32m     50\u001b[0m             \u001b[0;32melse\u001b[0m\u001b[0;34m:\u001b[0m\u001b[0;34m\u001b[0m\u001b[0m\n\u001b[1;32m     51\u001b[0m                 \u001b[0;31m# To show the full trace, we do nothing and let exception propagate\u001b[0m\u001b[0;34m\u001b[0m\u001b[0;34m\u001b[0m\u001b[0m\n",
      "\u001b[0;31mIOError\u001b[0m: /Users/Valina/Documents/DSML-Projects/MLFoundations_CaseStudyApproach27/.data/amazon_baby.gl not found.: unspecified iostream_category error: unspecified iostream_category error"
     ]
    }
   ],
   "source": [
    "import graphlab\n",
    "graphlab.canvas.set_target('ipynb')"
   ]
  },
  {
   "cell_type": "code",
   "execution_count": 7,
   "metadata": {},
   "outputs": [],
   "source": [
    "graphlab.canvas.set_target('ipynb')"
   ]
  },
  {
   "cell_type": "code",
   "execution_count": 2,
   "metadata": {},
   "outputs": [],
   "source": [
    "products = graphlab.SFrame('./data/amazon_baby.gl/')"
   ]
  },
  {
   "cell_type": "code",
   "execution_count": 3,
   "metadata": {},
   "outputs": [],
   "source": [
    "diaper_champ_reviews = products[products['name'] == 'Baby Trend Diaper Champ']"
   ]
  },
  {
   "cell_type": "code",
   "execution_count": 4,
   "metadata": {},
   "outputs": [
    {
     "data": {
      "text/html": [
       "<div style=\"max-height:1000px;max-width:1500px;overflow:auto;\"><table frame=\"box\" rules=\"cols\">\n",
       "    <tr>\n",
       "        <th style=\"padding-left: 1em; padding-right: 1em; text-align: center\">name</th>\n",
       "        <th style=\"padding-left: 1em; padding-right: 1em; text-align: center\">review</th>\n",
       "        <th style=\"padding-left: 1em; padding-right: 1em; text-align: center\">rating</th>\n",
       "    </tr>\n",
       "    <tr>\n",
       "        <td style=\"padding-left: 1em; padding-right: 1em; text-align: center; vertical-align: top\">Baby Trend Diaper Champ</td>\n",
       "        <td style=\"padding-left: 1em; padding-right: 1em; text-align: center; vertical-align: top\">Ok - newsflash.  Diapers<br>are just smelly.  We've ...</td>\n",
       "        <td style=\"padding-left: 1em; padding-right: 1em; text-align: center; vertical-align: top\">4.0</td>\n",
       "    </tr>\n",
       "    <tr>\n",
       "        <td style=\"padding-left: 1em; padding-right: 1em; text-align: center; vertical-align: top\">Baby Trend Diaper Champ</td>\n",
       "        <td style=\"padding-left: 1em; padding-right: 1em; text-align: center; vertical-align: top\">This is a good product to<br>start and very easy to ...</td>\n",
       "        <td style=\"padding-left: 1em; padding-right: 1em; text-align: center; vertical-align: top\">3.0</td>\n",
       "    </tr>\n",
       "    <tr>\n",
       "        <td style=\"padding-left: 1em; padding-right: 1em; text-align: center; vertical-align: top\">Baby Trend Diaper Champ</td>\n",
       "        <td style=\"padding-left: 1em; padding-right: 1em; text-align: center; vertical-align: top\">My husband and I selected<br>the Diaper \"Champ\" ma ...</td>\n",
       "        <td style=\"padding-left: 1em; padding-right: 1em; text-align: center; vertical-align: top\">1.0</td>\n",
       "    </tr>\n",
       "    <tr>\n",
       "        <td style=\"padding-left: 1em; padding-right: 1em; text-align: center; vertical-align: top\">Baby Trend Diaper Champ</td>\n",
       "        <td style=\"padding-left: 1em; padding-right: 1em; text-align: center; vertical-align: top\">Excellent diaper disposal<br>unit.  I used it in ...</td>\n",
       "        <td style=\"padding-left: 1em; padding-right: 1em; text-align: center; vertical-align: top\">5.0</td>\n",
       "    </tr>\n",
       "    <tr>\n",
       "        <td style=\"padding-left: 1em; padding-right: 1em; text-align: center; vertical-align: top\">Baby Trend Diaper Champ</td>\n",
       "        <td style=\"padding-left: 1em; padding-right: 1em; text-align: center; vertical-align: top\">We love our diaper champ.<br>It is very easy to use ...</td>\n",
       "        <td style=\"padding-left: 1em; padding-right: 1em; text-align: center; vertical-align: top\">5.0</td>\n",
       "    </tr>\n",
       "    <tr>\n",
       "        <td style=\"padding-left: 1em; padding-right: 1em; text-align: center; vertical-align: top\">Baby Trend Diaper Champ</td>\n",
       "        <td style=\"padding-left: 1em; padding-right: 1em; text-align: center; vertical-align: top\">Two girlfriends and two<br>family members put me ...</td>\n",
       "        <td style=\"padding-left: 1em; padding-right: 1em; text-align: center; vertical-align: top\">5.0</td>\n",
       "    </tr>\n",
       "    <tr>\n",
       "        <td style=\"padding-left: 1em; padding-right: 1em; text-align: center; vertical-align: top\">Baby Trend Diaper Champ</td>\n",
       "        <td style=\"padding-left: 1em; padding-right: 1em; text-align: center; vertical-align: top\">I waited to review this<br>until I saw how it ...</td>\n",
       "        <td style=\"padding-left: 1em; padding-right: 1em; text-align: center; vertical-align: top\">4.0</td>\n",
       "    </tr>\n",
       "    <tr>\n",
       "        <td style=\"padding-left: 1em; padding-right: 1em; text-align: center; vertical-align: top\">Baby Trend Diaper Champ</td>\n",
       "        <td style=\"padding-left: 1em; padding-right: 1em; text-align: center; vertical-align: top\">I have had a diaper genie<br>for almost 4 years since ...</td>\n",
       "        <td style=\"padding-left: 1em; padding-right: 1em; text-align: center; vertical-align: top\">1.0</td>\n",
       "    </tr>\n",
       "    <tr>\n",
       "        <td style=\"padding-left: 1em; padding-right: 1em; text-align: center; vertical-align: top\">Baby Trend Diaper Champ</td>\n",
       "        <td style=\"padding-left: 1em; padding-right: 1em; text-align: center; vertical-align: top\">I originally put this<br>item on my baby registry ...</td>\n",
       "        <td style=\"padding-left: 1em; padding-right: 1em; text-align: center; vertical-align: top\">5.0</td>\n",
       "    </tr>\n",
       "    <tr>\n",
       "        <td style=\"padding-left: 1em; padding-right: 1em; text-align: center; vertical-align: top\">Baby Trend Diaper Champ</td>\n",
       "        <td style=\"padding-left: 1em; padding-right: 1em; text-align: center; vertical-align: top\">I am so glad I got the<br>Diaper Champ instead of ...</td>\n",
       "        <td style=\"padding-left: 1em; padding-right: 1em; text-align: center; vertical-align: top\">5.0</td>\n",
       "    </tr>\n",
       "</table>\n",
       "[10 rows x 3 columns]<br/>\n",
       "</div>"
      ],
      "text/plain": [
       "Columns:\n",
       "\tname\tstr\n",
       "\treview\tstr\n",
       "\trating\tfloat\n",
       "\n",
       "Rows: 10\n",
       "\n",
       "Data:\n",
       "+-------------------------+-------------------------------+--------+\n",
       "|           name          |             review            | rating |\n",
       "+-------------------------+-------------------------------+--------+\n",
       "| Baby Trend Diaper Champ | Ok - newsflash.  Diapers a... |  4.0   |\n",
       "| Baby Trend Diaper Champ | This is a good product to ... |  3.0   |\n",
       "| Baby Trend Diaper Champ | My husband and I selected ... |  1.0   |\n",
       "| Baby Trend Diaper Champ | Excellent diaper disposal ... |  5.0   |\n",
       "| Baby Trend Diaper Champ | We love our diaper champ. ... |  5.0   |\n",
       "| Baby Trend Diaper Champ | Two girlfriends and two fa... |  5.0   |\n",
       "| Baby Trend Diaper Champ | I waited to review this un... |  4.0   |\n",
       "| Baby Trend Diaper Champ | I have had a diaper genie ... |  1.0   |\n",
       "| Baby Trend Diaper Champ | I originally put this item... |  5.0   |\n",
       "| Baby Trend Diaper Champ | I am so glad I got the Dia... |  5.0   |\n",
       "+-------------------------+-------------------------------+--------+\n",
       "[10 rows x 3 columns]"
      ]
     },
     "execution_count": 4,
     "metadata": {},
     "output_type": "execute_result"
    }
   ],
   "source": [
    "diaper_champ_reviews.head()"
   ]
  },
  {
   "cell_type": "code",
   "execution_count": 8,
   "metadata": {},
   "outputs": [
    {
     "data": {
      "application/javascript": [
       "$(\"head\").append($(\"<link/>\").attr({\n",
       "  rel:  \"stylesheet\",\n",
       "  type: \"text/css\",\n",
       "  href: \"//cdnjs.cloudflare.com/ajax/libs/font-awesome/4.1.0/css/font-awesome.min.css\"\n",
       "}));\n",
       "$(\"head\").append($(\"<link/>\").attr({\n",
       "  rel:  \"stylesheet\",\n",
       "  type: \"text/css\",\n",
       "  href: \"https://static.turi.com/products/graphlab-create/2.1/canvas/css/canvas.css\"\n",
       "}));\n",
       "\n",
       "            (function(){\n",
       "\n",
       "                var e = null;\n",
       "                if (typeof element == 'undefined') {\n",
       "                    var scripts = document.getElementsByTagName('script');\n",
       "                    var thisScriptTag = scripts[scripts.length-1];\n",
       "                    var parentDiv = thisScriptTag.parentNode;\n",
       "                    e = document.createElement('div');\n",
       "                    parentDiv.appendChild(e);\n",
       "                } else {\n",
       "                    e = element[0];\n",
       "                }\n",
       "\n",
       "                if (typeof requirejs !== 'undefined') {\n",
       "                    // disable load timeout; ipython_app.js is large and can take a while to load.\n",
       "                    requirejs.config({waitSeconds: 0});\n",
       "                }\n",
       "\n",
       "                require(['https://static.turi.com/products/graphlab-create/2.1/canvas/js/ipython_app.js'], function(IPythonApp){\n",
       "                    var app = new IPythonApp();\n",
       "                    app.attachView('sarray','Categorical', {\"ipython\": true, \"sketch\": {\"std\": 1.3109269011470326, \"complete\": true, \"min\": 1.0, \"max\": 5.0, \"quantile\": [1.0, 1.0, 1.0, 1.0, 1.0, 1.0, 1.0, 1.0, 1.0, 1.0, 2.0, 2.0, 2.0, 2.0, 2.0, 2.0, 3.0, 3.0, 3.0, 3.0, 3.0, 3.0, 3.0, 3.0, 3.0, 3.0, 4.0, 4.0, 4.0, 4.0, 4.0, 4.0, 4.0, 4.0, 4.0, 4.0, 4.0, 4.0, 4.0, 4.0, 4.0, 4.0, 4.0, 4.0, 5.0, 5.0, 5.0, 5.0, 5.0, 5.0, 5.0, 5.0, 5.0, 5.0, 5.0, 5.0, 5.0, 5.0, 5.0, 5.0, 5.0, 5.0, 5.0, 5.0, 5.0, 5.0, 5.0, 5.0, 5.0, 5.0, 5.0, 5.0, 5.0, 5.0, 5.0, 5.0, 5.0, 5.0, 5.0, 5.0, 5.0, 5.0, 5.0, 5.0, 5.0, 5.0, 5.0, 5.0, 5.0, 5.0, 5.0, 5.0, 5.0, 5.0, 5.0, 5.0, 5.0, 5.0, 5.0, 5.0, 5.0], \"median\": 5.0, \"numeric\": true, \"num_unique\": 5, \"num_undefined\": 0, \"var\": 1.7185293401509618, \"progress\": 1.0, \"size\": 333, \"frequent_items\": {\"1.0\": {\"frequency\": 30, \"value\": 1.0}, \"2.0\": {\"frequency\": 20, \"value\": 2.0}, \"3.0\": {\"frequency\": 35, \"value\": 3.0}, \"4.0\": {\"frequency\": 59, \"value\": 4.0}, \"5.0\": {\"frequency\": 189, \"value\": 5.0}}, \"mean\": 4.072072072072071}, \"selected_variable\": {\"name\": [\"<SArray>\"], \"dtype\": \"float\", \"view_component\": \"Categorical\", \"view_file\": \"sarray\", \"descriptives\": {\"rows\": 333}, \"type\": \"SArray\", \"view_components\": [\"Numeric\", \"Categorical\"]}, \"histogram\": {\"progress\": 1.0, \"histogram\": {\"max\": 5.02, \"bins\": [30, 0, 0, 20, 0, 35, 0, 0, 59, 0, 0, 189], \"min\": 0.988}, \"min\": 1.0, \"complete\": 1, \"max\": 5.0}}, e);\n",
       "                });\n",
       "            })();\n",
       "        "
      ]
     },
     "metadata": {},
     "output_type": "display_data"
    }
   ],
   "source": [
    "diaper_champ_reviews['rating'].show(view='Categorical')"
   ]
  },
  {
   "cell_type": "code",
   "execution_count": 9,
   "metadata": {},
   "outputs": [],
   "source": [
    "diaper_champ_reviews = diaper_champ_reviews[diaper_champ_reviews['rating'] != 3]"
   ]
  },
  {
   "cell_type": "code",
   "execution_count": 10,
   "metadata": {},
   "outputs": [],
   "source": [
    "diaper_champ_reviews['word_count'] = graphlab.text_analytics.count_words(diaper_champ_reviews['review'])"
   ]
  },
  {
   "cell_type": "code",
   "execution_count": 11,
   "metadata": {},
   "outputs": [
    {
     "data": {
      "text/html": [
       "<div style=\"max-height:1000px;max-width:1500px;overflow:auto;\"><table frame=\"box\" rules=\"cols\">\n",
       "    <tr>\n",
       "        <th style=\"padding-left: 1em; padding-right: 1em; text-align: center\">name</th>\n",
       "        <th style=\"padding-left: 1em; padding-right: 1em; text-align: center\">review</th>\n",
       "        <th style=\"padding-left: 1em; padding-right: 1em; text-align: center\">rating</th>\n",
       "        <th style=\"padding-left: 1em; padding-right: 1em; text-align: center\">word_count</th>\n",
       "    </tr>\n",
       "    <tr>\n",
       "        <td style=\"padding-left: 1em; padding-right: 1em; text-align: center; vertical-align: top\">Baby Trend Diaper Champ</td>\n",
       "        <td style=\"padding-left: 1em; padding-right: 1em; text-align: center; vertical-align: top\">Ok - newsflash.  Diapers<br>are just smelly.  We've ...</td>\n",
       "        <td style=\"padding-left: 1em; padding-right: 1em; text-align: center; vertical-align: top\">4.0</td>\n",
       "        <td style=\"padding-left: 1em; padding-right: 1em; text-align: center; vertical-align: top\">{'son': 1, 'just': 2,<br>'less': 1, '-': 3, ...</td>\n",
       "    </tr>\n",
       "    <tr>\n",
       "        <td style=\"padding-left: 1em; padding-right: 1em; text-align: center; vertical-align: top\">Baby Trend Diaper Champ</td>\n",
       "        <td style=\"padding-left: 1em; padding-right: 1em; text-align: center; vertical-align: top\">My husband and I selected<br>the Diaper \"Champ\" ma ...</td>\n",
       "        <td style=\"padding-left: 1em; padding-right: 1em; text-align: center; vertical-align: top\">1.0</td>\n",
       "        <td style=\"padding-left: 1em; padding-right: 1em; text-align: center; vertical-align: top\">{'material)': 1, 'bags,':<br>1, 'less': 1, 'when': 3, ...</td>\n",
       "    </tr>\n",
       "    <tr>\n",
       "        <td style=\"padding-left: 1em; padding-right: 1em; text-align: center; vertical-align: top\">Baby Trend Diaper Champ</td>\n",
       "        <td style=\"padding-left: 1em; padding-right: 1em; text-align: center; vertical-align: top\">Excellent diaper disposal<br>unit.  I used it in ...</td>\n",
       "        <td style=\"padding-left: 1em; padding-right: 1em; text-align: center; vertical-align: top\">5.0</td>\n",
       "        <td style=\"padding-left: 1em; padding-right: 1em; text-align: center; vertical-align: top\">{'control': 1, 'am': 1,<br>'it': 1, 'used': 1, ' ...</td>\n",
       "    </tr>\n",
       "    <tr>\n",
       "        <td style=\"padding-left: 1em; padding-right: 1em; text-align: center; vertical-align: top\">Baby Trend Diaper Champ</td>\n",
       "        <td style=\"padding-left: 1em; padding-right: 1em; text-align: center; vertical-align: top\">We love our diaper champ.<br>It is very easy to use ...</td>\n",
       "        <td style=\"padding-left: 1em; padding-right: 1em; text-align: center; vertical-align: top\">5.0</td>\n",
       "        <td style=\"padding-left: 1em; padding-right: 1em; text-align: center; vertical-align: top\">{'and': 3, 'over.': 1,<br>'all': 1, 'bags.': 1, ...</td>\n",
       "    </tr>\n",
       "    <tr>\n",
       "        <td style=\"padding-left: 1em; padding-right: 1em; text-align: center; vertical-align: top\">Baby Trend Diaper Champ</td>\n",
       "        <td style=\"padding-left: 1em; padding-right: 1em; text-align: center; vertical-align: top\">Two girlfriends and two<br>family members put me ...</td>\n",
       "        <td style=\"padding-left: 1em; padding-right: 1em; text-align: center; vertical-align: top\">5.0</td>\n",
       "        <td style=\"padding-left: 1em; padding-right: 1em; text-align: center; vertical-align: top\">{'just': 1, '-': 3,<br>'both': 1, 'results': 1, ...</td>\n",
       "    </tr>\n",
       "    <tr>\n",
       "        <td style=\"padding-left: 1em; padding-right: 1em; text-align: center; vertical-align: top\">Baby Trend Diaper Champ</td>\n",
       "        <td style=\"padding-left: 1em; padding-right: 1em; text-align: center; vertical-align: top\">I waited to review this<br>until I saw how it ...</td>\n",
       "        <td style=\"padding-left: 1em; padding-right: 1em; text-align: center; vertical-align: top\">4.0</td>\n",
       "        <td style=\"padding-left: 1em; padding-right: 1em; text-align: center; vertical-align: top\">{'lysol': 1, 'all': 1,<br>'mom.': 1, 'busy': 1, ...</td>\n",
       "    </tr>\n",
       "    <tr>\n",
       "        <td style=\"padding-left: 1em; padding-right: 1em; text-align: center; vertical-align: top\">Baby Trend Diaper Champ</td>\n",
       "        <td style=\"padding-left: 1em; padding-right: 1em; text-align: center; vertical-align: top\">I have had a diaper genie<br>for almost 4 years since ...</td>\n",
       "        <td style=\"padding-left: 1em; padding-right: 1em; text-align: center; vertical-align: top\">1.0</td>\n",
       "        <td style=\"padding-left: 1em; padding-right: 1em; text-align: center; vertical-align: top\">{'all': 1, 'bags.': 1,<br>'just': 1, \"don't\": 2, ...</td>\n",
       "    </tr>\n",
       "    <tr>\n",
       "        <td style=\"padding-left: 1em; padding-right: 1em; text-align: center; vertical-align: top\">Baby Trend Diaper Champ</td>\n",
       "        <td style=\"padding-left: 1em; padding-right: 1em; text-align: center; vertical-align: top\">I originally put this<br>item on my baby registry ...</td>\n",
       "        <td style=\"padding-left: 1em; padding-right: 1em; text-align: center; vertical-align: top\">5.0</td>\n",
       "        <td style=\"padding-left: 1em; padding-right: 1em; text-align: center; vertical-align: top\">{'lysol': 1, 'all': 2,<br>'bags.': 1, 'feedback': ...</td>\n",
       "    </tr>\n",
       "    <tr>\n",
       "        <td style=\"padding-left: 1em; padding-right: 1em; text-align: center; vertical-align: top\">Baby Trend Diaper Champ</td>\n",
       "        <td style=\"padding-left: 1em; padding-right: 1em; text-align: center; vertical-align: top\">I am so glad I got the<br>Diaper Champ instead of ...</td>\n",
       "        <td style=\"padding-left: 1em; padding-right: 1em; text-align: center; vertical-align: top\">5.0</td>\n",
       "        <td style=\"padding-left: 1em; padding-right: 1em; text-align: center; vertical-align: top\">{'and': 2, 'all': 1,<br>'just': 1, 'is': 2, ' ...</td>\n",
       "    </tr>\n",
       "    <tr>\n",
       "        <td style=\"padding-left: 1em; padding-right: 1em; text-align: center; vertical-align: top\">Baby Trend Diaper Champ</td>\n",
       "        <td style=\"padding-left: 1em; padding-right: 1em; text-align: center; vertical-align: top\">We had 2 diaper Genie's<br>both given to us as a ...</td>\n",
       "        <td style=\"padding-left: 1em; padding-right: 1em; text-align: center; vertical-align: top\">4.0</td>\n",
       "        <td style=\"padding-left: 1em; padding-right: 1em; text-align: center; vertical-align: top\">{'hand.': 1, 'both': 1,<br>'(required': 1, 'befo ...</td>\n",
       "    </tr>\n",
       "</table>\n",
       "[10 rows x 4 columns]<br/>\n",
       "</div>"
      ],
      "text/plain": [
       "Columns:\n",
       "\tname\tstr\n",
       "\treview\tstr\n",
       "\trating\tfloat\n",
       "\tword_count\tdict\n",
       "\n",
       "Rows: 10\n",
       "\n",
       "Data:\n",
       "+-------------------------+-------------------------------+--------+\n",
       "|           name          |             review            | rating |\n",
       "+-------------------------+-------------------------------+--------+\n",
       "| Baby Trend Diaper Champ | Ok - newsflash.  Diapers a... |  4.0   |\n",
       "| Baby Trend Diaper Champ | My husband and I selected ... |  1.0   |\n",
       "| Baby Trend Diaper Champ | Excellent diaper disposal ... |  5.0   |\n",
       "| Baby Trend Diaper Champ | We love our diaper champ. ... |  5.0   |\n",
       "| Baby Trend Diaper Champ | Two girlfriends and two fa... |  5.0   |\n",
       "| Baby Trend Diaper Champ | I waited to review this un... |  4.0   |\n",
       "| Baby Trend Diaper Champ | I have had a diaper genie ... |  1.0   |\n",
       "| Baby Trend Diaper Champ | I originally put this item... |  5.0   |\n",
       "| Baby Trend Diaper Champ | I am so glad I got the Dia... |  5.0   |\n",
       "| Baby Trend Diaper Champ | We had 2 diaper Genie's bo... |  4.0   |\n",
       "+-------------------------+-------------------------------+--------+\n",
       "+-------------------------------+\n",
       "|           word_count          |\n",
       "+-------------------------------+\n",
       "| {'son': 1, 'just': 2, 'les... |\n",
       "| {'material)': 1, 'bags,': ... |\n",
       "| {'control': 1, 'am': 1, 'i... |\n",
       "| {'and': 3, 'over.': 1, 'al... |\n",
       "| {'just': 1, '-': 3, 'both'... |\n",
       "| {'lysol': 1, 'all': 1, 'mo... |\n",
       "| {'all': 1, 'bags.': 1, 'ju... |\n",
       "| {'lysol': 1, 'all': 2, 'ba... |\n",
       "| {'and': 2, 'all': 1, 'just... |\n",
       "| {'hand.': 1, 'both': 1, '(... |\n",
       "+-------------------------------+\n",
       "[10 rows x 4 columns]"
      ]
     },
     "execution_count": 11,
     "metadata": {},
     "output_type": "execute_result"
    }
   ],
   "source": [
    "diaper_champ_reviews.head()"
   ]
  },
  {
   "cell_type": "code",
   "execution_count": 12,
   "metadata": {},
   "outputs": [
    {
     "data": {
      "text/html": [
       "<div style=\"max-height:1000px;max-width:1500px;overflow:auto;\"><table frame=\"box\" rules=\"cols\">\n",
       "    <tr>\n",
       "        <th style=\"padding-left: 1em; padding-right: 1em; text-align: center\">name</th>\n",
       "        <th style=\"padding-left: 1em; padding-right: 1em; text-align: center\">review</th>\n",
       "        <th style=\"padding-left: 1em; padding-right: 1em; text-align: center\">rating</th>\n",
       "        <th style=\"padding-left: 1em; padding-right: 1em; text-align: center\">word_count</th>\n",
       "        <th style=\"padding-left: 1em; padding-right: 1em; text-align: center\">sentiment</th>\n",
       "    </tr>\n",
       "    <tr>\n",
       "        <td style=\"padding-left: 1em; padding-right: 1em; text-align: center; vertical-align: top\">Baby Trend Diaper Champ</td>\n",
       "        <td style=\"padding-left: 1em; padding-right: 1em; text-align: center; vertical-align: top\">Ok - newsflash.  Diapers<br>are just smelly.  We've ...</td>\n",
       "        <td style=\"padding-left: 1em; padding-right: 1em; text-align: center; vertical-align: top\">4.0</td>\n",
       "        <td style=\"padding-left: 1em; padding-right: 1em; text-align: center; vertical-align: top\">{'son': 1, 'just': 2,<br>'less': 1, '-': 3, ...</td>\n",
       "        <td style=\"padding-left: 1em; padding-right: 1em; text-align: center; vertical-align: top\">1</td>\n",
       "    </tr>\n",
       "    <tr>\n",
       "        <td style=\"padding-left: 1em; padding-right: 1em; text-align: center; vertical-align: top\">Baby Trend Diaper Champ</td>\n",
       "        <td style=\"padding-left: 1em; padding-right: 1em; text-align: center; vertical-align: top\">My husband and I selected<br>the Diaper \"Champ\" ma ...</td>\n",
       "        <td style=\"padding-left: 1em; padding-right: 1em; text-align: center; vertical-align: top\">1.0</td>\n",
       "        <td style=\"padding-left: 1em; padding-right: 1em; text-align: center; vertical-align: top\">{'material)': 1, 'bags,':<br>1, 'less': 1, 'when': 3, ...</td>\n",
       "        <td style=\"padding-left: 1em; padding-right: 1em; text-align: center; vertical-align: top\">0</td>\n",
       "    </tr>\n",
       "    <tr>\n",
       "        <td style=\"padding-left: 1em; padding-right: 1em; text-align: center; vertical-align: top\">Baby Trend Diaper Champ</td>\n",
       "        <td style=\"padding-left: 1em; padding-right: 1em; text-align: center; vertical-align: top\">Excellent diaper disposal<br>unit.  I used it in ...</td>\n",
       "        <td style=\"padding-left: 1em; padding-right: 1em; text-align: center; vertical-align: top\">5.0</td>\n",
       "        <td style=\"padding-left: 1em; padding-right: 1em; text-align: center; vertical-align: top\">{'control': 1, 'am': 1,<br>'it': 1, 'used': 1, ' ...</td>\n",
       "        <td style=\"padding-left: 1em; padding-right: 1em; text-align: center; vertical-align: top\">1</td>\n",
       "    </tr>\n",
       "    <tr>\n",
       "        <td style=\"padding-left: 1em; padding-right: 1em; text-align: center; vertical-align: top\">Baby Trend Diaper Champ</td>\n",
       "        <td style=\"padding-left: 1em; padding-right: 1em; text-align: center; vertical-align: top\">We love our diaper champ.<br>It is very easy to use ...</td>\n",
       "        <td style=\"padding-left: 1em; padding-right: 1em; text-align: center; vertical-align: top\">5.0</td>\n",
       "        <td style=\"padding-left: 1em; padding-right: 1em; text-align: center; vertical-align: top\">{'and': 3, 'over.': 1,<br>'all': 1, 'bags.': 1, ...</td>\n",
       "        <td style=\"padding-left: 1em; padding-right: 1em; text-align: center; vertical-align: top\">1</td>\n",
       "    </tr>\n",
       "    <tr>\n",
       "        <td style=\"padding-left: 1em; padding-right: 1em; text-align: center; vertical-align: top\">Baby Trend Diaper Champ</td>\n",
       "        <td style=\"padding-left: 1em; padding-right: 1em; text-align: center; vertical-align: top\">Two girlfriends and two<br>family members put me ...</td>\n",
       "        <td style=\"padding-left: 1em; padding-right: 1em; text-align: center; vertical-align: top\">5.0</td>\n",
       "        <td style=\"padding-left: 1em; padding-right: 1em; text-align: center; vertical-align: top\">{'just': 1, '-': 3,<br>'both': 1, 'results': 1, ...</td>\n",
       "        <td style=\"padding-left: 1em; padding-right: 1em; text-align: center; vertical-align: top\">1</td>\n",
       "    </tr>\n",
       "    <tr>\n",
       "        <td style=\"padding-left: 1em; padding-right: 1em; text-align: center; vertical-align: top\">Baby Trend Diaper Champ</td>\n",
       "        <td style=\"padding-left: 1em; padding-right: 1em; text-align: center; vertical-align: top\">I waited to review this<br>until I saw how it ...</td>\n",
       "        <td style=\"padding-left: 1em; padding-right: 1em; text-align: center; vertical-align: top\">4.0</td>\n",
       "        <td style=\"padding-left: 1em; padding-right: 1em; text-align: center; vertical-align: top\">{'lysol': 1, 'all': 1,<br>'mom.': 1, 'busy': 1, ...</td>\n",
       "        <td style=\"padding-left: 1em; padding-right: 1em; text-align: center; vertical-align: top\">1</td>\n",
       "    </tr>\n",
       "    <tr>\n",
       "        <td style=\"padding-left: 1em; padding-right: 1em; text-align: center; vertical-align: top\">Baby Trend Diaper Champ</td>\n",
       "        <td style=\"padding-left: 1em; padding-right: 1em; text-align: center; vertical-align: top\">I have had a diaper genie<br>for almost 4 years since ...</td>\n",
       "        <td style=\"padding-left: 1em; padding-right: 1em; text-align: center; vertical-align: top\">1.0</td>\n",
       "        <td style=\"padding-left: 1em; padding-right: 1em; text-align: center; vertical-align: top\">{'all': 1, 'bags.': 1,<br>'just': 1, \"don't\": 2, ...</td>\n",
       "        <td style=\"padding-left: 1em; padding-right: 1em; text-align: center; vertical-align: top\">0</td>\n",
       "    </tr>\n",
       "    <tr>\n",
       "        <td style=\"padding-left: 1em; padding-right: 1em; text-align: center; vertical-align: top\">Baby Trend Diaper Champ</td>\n",
       "        <td style=\"padding-left: 1em; padding-right: 1em; text-align: center; vertical-align: top\">I originally put this<br>item on my baby registry ...</td>\n",
       "        <td style=\"padding-left: 1em; padding-right: 1em; text-align: center; vertical-align: top\">5.0</td>\n",
       "        <td style=\"padding-left: 1em; padding-right: 1em; text-align: center; vertical-align: top\">{'lysol': 1, 'all': 2,<br>'bags.': 1, 'feedback': ...</td>\n",
       "        <td style=\"padding-left: 1em; padding-right: 1em; text-align: center; vertical-align: top\">1</td>\n",
       "    </tr>\n",
       "    <tr>\n",
       "        <td style=\"padding-left: 1em; padding-right: 1em; text-align: center; vertical-align: top\">Baby Trend Diaper Champ</td>\n",
       "        <td style=\"padding-left: 1em; padding-right: 1em; text-align: center; vertical-align: top\">I am so glad I got the<br>Diaper Champ instead of ...</td>\n",
       "        <td style=\"padding-left: 1em; padding-right: 1em; text-align: center; vertical-align: top\">5.0</td>\n",
       "        <td style=\"padding-left: 1em; padding-right: 1em; text-align: center; vertical-align: top\">{'and': 2, 'all': 1,<br>'just': 1, 'is': 2, ' ...</td>\n",
       "        <td style=\"padding-left: 1em; padding-right: 1em; text-align: center; vertical-align: top\">1</td>\n",
       "    </tr>\n",
       "    <tr>\n",
       "        <td style=\"padding-left: 1em; padding-right: 1em; text-align: center; vertical-align: top\">Baby Trend Diaper Champ</td>\n",
       "        <td style=\"padding-left: 1em; padding-right: 1em; text-align: center; vertical-align: top\">We had 2 diaper Genie's<br>both given to us as a ...</td>\n",
       "        <td style=\"padding-left: 1em; padding-right: 1em; text-align: center; vertical-align: top\">4.0</td>\n",
       "        <td style=\"padding-left: 1em; padding-right: 1em; text-align: center; vertical-align: top\">{'hand.': 1, 'both': 1,<br>'(required': 1, 'befo ...</td>\n",
       "        <td style=\"padding-left: 1em; padding-right: 1em; text-align: center; vertical-align: top\">1</td>\n",
       "    </tr>\n",
       "</table>\n",
       "[10 rows x 5 columns]<br/>\n",
       "</div>"
      ],
      "text/plain": [
       "Columns:\n",
       "\tname\tstr\n",
       "\treview\tstr\n",
       "\trating\tfloat\n",
       "\tword_count\tdict\n",
       "\tsentiment\tint\n",
       "\n",
       "Rows: 10\n",
       "\n",
       "Data:\n",
       "+-------------------------+-------------------------------+--------+\n",
       "|           name          |             review            | rating |\n",
       "+-------------------------+-------------------------------+--------+\n",
       "| Baby Trend Diaper Champ | Ok - newsflash.  Diapers a... |  4.0   |\n",
       "| Baby Trend Diaper Champ | My husband and I selected ... |  1.0   |\n",
       "| Baby Trend Diaper Champ | Excellent diaper disposal ... |  5.0   |\n",
       "| Baby Trend Diaper Champ | We love our diaper champ. ... |  5.0   |\n",
       "| Baby Trend Diaper Champ | Two girlfriends and two fa... |  5.0   |\n",
       "| Baby Trend Diaper Champ | I waited to review this un... |  4.0   |\n",
       "| Baby Trend Diaper Champ | I have had a diaper genie ... |  1.0   |\n",
       "| Baby Trend Diaper Champ | I originally put this item... |  5.0   |\n",
       "| Baby Trend Diaper Champ | I am so glad I got the Dia... |  5.0   |\n",
       "| Baby Trend Diaper Champ | We had 2 diaper Genie's bo... |  4.0   |\n",
       "+-------------------------+-------------------------------+--------+\n",
       "+-------------------------------+-----------+\n",
       "|           word_count          | sentiment |\n",
       "+-------------------------------+-----------+\n",
       "| {'son': 1, 'just': 2, 'les... |     1     |\n",
       "| {'material)': 1, 'bags,': ... |     0     |\n",
       "| {'control': 1, 'am': 1, 'i... |     1     |\n",
       "| {'and': 3, 'over.': 1, 'al... |     1     |\n",
       "| {'just': 1, '-': 3, 'both'... |     1     |\n",
       "| {'lysol': 1, 'all': 1, 'mo... |     1     |\n",
       "| {'all': 1, 'bags.': 1, 'ju... |     0     |\n",
       "| {'lysol': 1, 'all': 2, 'ba... |     1     |\n",
       "| {'and': 2, 'all': 1, 'just... |     1     |\n",
       "| {'hand.': 1, 'both': 1, '(... |     1     |\n",
       "+-------------------------------+-----------+\n",
       "[10 rows x 5 columns]"
      ]
     },
     "execution_count": 12,
     "metadata": {},
     "output_type": "execute_result"
    }
   ],
   "source": [
    "diaper_champ_reviews['sentiment'] = diaper_champ_reviews['rating']>3\n",
    "diaper_champ_reviews.head()"
   ]
  },
  {
   "cell_type": "code",
   "execution_count": 13,
   "metadata": {},
   "outputs": [],
   "source": [
    "train_data, test_data = diaper_champ_reviews.random_split(.8, seed=0)"
   ]
  },
  {
   "cell_type": "code",
   "execution_count": 14,
   "metadata": {},
   "outputs": [
    {
     "data": {
      "text/html": [
       "<pre>WARNING: The number of feature dimensions in this problem is very large in comparison with the number of examples. Unless an appropriate regularization value is set, this model may not provide accurate predictions for a validation/test set.</pre>"
      ],
      "text/plain": [
       "WARNING: The number of feature dimensions in this problem is very large in comparison with the number of examples. Unless an appropriate regularization value is set, this model may not provide accurate predictions for a validation/test set."
      ]
     },
     "metadata": {},
     "output_type": "display_data"
    },
    {
     "data": {
      "text/html": [
       "<pre>Logistic regression:</pre>"
      ],
      "text/plain": [
       "Logistic regression:"
      ]
     },
     "metadata": {},
     "output_type": "display_data"
    },
    {
     "data": {
      "text/html": [
       "<pre>--------------------------------------------------------</pre>"
      ],
      "text/plain": [
       "--------------------------------------------------------"
      ]
     },
     "metadata": {},
     "output_type": "display_data"
    },
    {
     "data": {
      "text/html": [
       "<pre>Number of examples          : 248</pre>"
      ],
      "text/plain": [
       "Number of examples          : 248"
      ]
     },
     "metadata": {},
     "output_type": "display_data"
    },
    {
     "data": {
      "text/html": [
       "<pre>Number of classes           : 2</pre>"
      ],
      "text/plain": [
       "Number of classes           : 2"
      ]
     },
     "metadata": {},
     "output_type": "display_data"
    },
    {
     "data": {
      "text/html": [
       "<pre>Number of feature columns   : 1</pre>"
      ],
      "text/plain": [
       "Number of feature columns   : 1"
      ]
     },
     "metadata": {},
     "output_type": "display_data"
    },
    {
     "data": {
      "text/html": [
       "<pre>Number of unpacked features : 3841</pre>"
      ],
      "text/plain": [
       "Number of unpacked features : 3841"
      ]
     },
     "metadata": {},
     "output_type": "display_data"
    },
    {
     "data": {
      "text/html": [
       "<pre>Number of coefficients    : 3842</pre>"
      ],
      "text/plain": [
       "Number of coefficients    : 3842"
      ]
     },
     "metadata": {},
     "output_type": "display_data"
    },
    {
     "data": {
      "text/html": [
       "<pre>Starting L-BFGS</pre>"
      ],
      "text/plain": [
       "Starting L-BFGS"
      ]
     },
     "metadata": {},
     "output_type": "display_data"
    },
    {
     "data": {
      "text/html": [
       "<pre>--------------------------------------------------------</pre>"
      ],
      "text/plain": [
       "--------------------------------------------------------"
      ]
     },
     "metadata": {},
     "output_type": "display_data"
    },
    {
     "data": {
      "text/html": [
       "<pre>+-----------+----------+-----------+--------------+-------------------+---------------------+</pre>"
      ],
      "text/plain": [
       "+-----------+----------+-----------+--------------+-------------------+---------------------+"
      ]
     },
     "metadata": {},
     "output_type": "display_data"
    },
    {
     "data": {
      "text/html": [
       "<pre>| Iteration | Passes   | Step size | Elapsed Time | Training-accuracy | Validation-accuracy |</pre>"
      ],
      "text/plain": [
       "| Iteration | Passes   | Step size | Elapsed Time | Training-accuracy | Validation-accuracy |"
      ]
     },
     "metadata": {},
     "output_type": "display_data"
    },
    {
     "data": {
      "text/html": [
       "<pre>+-----------+----------+-----------+--------------+-------------------+---------------------+</pre>"
      ],
      "text/plain": [
       "+-----------+----------+-----------+--------------+-------------------+---------------------+"
      ]
     },
     "metadata": {},
     "output_type": "display_data"
    },
    {
     "data": {
      "text/html": [
       "<pre>| 1         | 5        | 0.001008  | 1.027297     | 0.834677          | 0.840000            |</pre>"
      ],
      "text/plain": [
       "| 1         | 5        | 0.001008  | 1.027297     | 0.834677          | 0.840000            |"
      ]
     },
     "metadata": {},
     "output_type": "display_data"
    },
    {
     "data": {
      "text/html": [
       "<pre>| 2         | 7        | 1.000000  | 1.043173     | 0.931452          | 0.840000            |</pre>"
      ],
      "text/plain": [
       "| 2         | 7        | 1.000000  | 1.043173     | 0.931452          | 0.840000            |"
      ]
     },
     "metadata": {},
     "output_type": "display_data"
    },
    {
     "data": {
      "text/html": [
       "<pre>| 3         | 8        | 1.000000  | 1.055662     | 0.991935          | 0.840000            |</pre>"
      ],
      "text/plain": [
       "| 3         | 8        | 1.000000  | 1.055662     | 0.991935          | 0.840000            |"
      ]
     },
     "metadata": {},
     "output_type": "display_data"
    },
    {
     "data": {
      "text/html": [
       "<pre>| 4         | 9        | 1.000000  | 1.064828     | 0.995968          | 0.840000            |</pre>"
      ],
      "text/plain": [
       "| 4         | 9        | 1.000000  | 1.064828     | 0.995968          | 0.840000            |"
      ]
     },
     "metadata": {},
     "output_type": "display_data"
    },
    {
     "data": {
      "text/html": [
       "<pre>| 5         | 10       | 1.000000  | 1.076545     | 1.000000          | 0.840000            |</pre>"
      ],
      "text/plain": [
       "| 5         | 10       | 1.000000  | 1.076545     | 1.000000          | 0.840000            |"
      ]
     },
     "metadata": {},
     "output_type": "display_data"
    },
    {
     "data": {
      "text/html": [
       "<pre>| 6         | 11       | 1.000000  | 1.087840     | 1.000000          | 0.840000            |</pre>"
      ],
      "text/plain": [
       "| 6         | 11       | 1.000000  | 1.087840     | 1.000000          | 0.840000            |"
      ]
     },
     "metadata": {},
     "output_type": "display_data"
    },
    {
     "data": {
      "text/html": [
       "<pre>+-----------+----------+-----------+--------------+-------------------+---------------------+</pre>"
      ],
      "text/plain": [
       "+-----------+----------+-----------+--------------+-------------------+---------------------+"
      ]
     },
     "metadata": {},
     "output_type": "display_data"
    },
    {
     "data": {
      "text/html": [
       "<pre>TERMINATED: Iteration limit reached.</pre>"
      ],
      "text/plain": [
       "TERMINATED: Iteration limit reached."
      ]
     },
     "metadata": {},
     "output_type": "display_data"
    },
    {
     "data": {
      "text/html": [
       "<pre>This model may not be optimal. To improve it, consider increasing `max_iterations`.</pre>"
      ],
      "text/plain": [
       "This model may not be optimal. To improve it, consider increasing `max_iterations`."
      ]
     },
     "metadata": {},
     "output_type": "display_data"
    }
   ],
   "source": [
    "sentiment_model = graphlab.logistic_classifier.create(train_data,\n",
    "                                                     target='sentiment',\n",
    "                                                     features=['word_count'],\n",
    "                                                     validation_set=test_data)"
   ]
  },
  {
   "cell_type": "code",
   "execution_count": 15,
   "metadata": {},
   "outputs": [
    {
     "data": {
      "text/html": [
       "<div style=\"max-height:1000px;max-width:1500px;overflow:auto;\"><table frame=\"box\" rules=\"cols\">\n",
       "    <tr>\n",
       "        <th style=\"padding-left: 1em; padding-right: 1em; text-align: center\">name</th>\n",
       "        <th style=\"padding-left: 1em; padding-right: 1em; text-align: center\">index</th>\n",
       "        <th style=\"padding-left: 1em; padding-right: 1em; text-align: center\">class</th>\n",
       "        <th style=\"padding-left: 1em; padding-right: 1em; text-align: center\">value</th>\n",
       "        <th style=\"padding-left: 1em; padding-right: 1em; text-align: center\">stderr</th>\n",
       "    </tr>\n",
       "    <tr>\n",
       "        <td style=\"padding-left: 1em; padding-right: 1em; text-align: center; vertical-align: top\">(intercept)</td>\n",
       "        <td style=\"padding-left: 1em; padding-right: 1em; text-align: center; vertical-align: top\">None</td>\n",
       "        <td style=\"padding-left: 1em; padding-right: 1em; text-align: center; vertical-align: top\">1</td>\n",
       "        <td style=\"padding-left: 1em; padding-right: 1em; text-align: center; vertical-align: top\">0.219898583815</td>\n",
       "        <td style=\"padding-left: 1em; padding-right: 1em; text-align: center; vertical-align: top\">None</td>\n",
       "    </tr>\n",
       "    <tr>\n",
       "        <td style=\"padding-left: 1em; padding-right: 1em; text-align: center; vertical-align: top\">word_count</td>\n",
       "        <td style=\"padding-left: 1em; padding-right: 1em; text-align: center; vertical-align: top\">regular</td>\n",
       "        <td style=\"padding-left: 1em; padding-right: 1em; text-align: center; vertical-align: top\">1</td>\n",
       "        <td style=\"padding-left: 1em; padding-right: 1em; text-align: center; vertical-align: top\">0.17485567291</td>\n",
       "        <td style=\"padding-left: 1em; padding-right: 1em; text-align: center; vertical-align: top\">None</td>\n",
       "    </tr>\n",
       "    <tr>\n",
       "        <td style=\"padding-left: 1em; padding-right: 1em; text-align: center; vertical-align: top\">word_count</td>\n",
       "        <td style=\"padding-left: 1em; padding-right: 1em; text-align: center; vertical-align: top\">can</td>\n",
       "        <td style=\"padding-left: 1em; padding-right: 1em; text-align: center; vertical-align: top\">1</td>\n",
       "        <td style=\"padding-left: 1em; padding-right: 1em; text-align: center; vertical-align: top\">0.0963198502554</td>\n",
       "        <td style=\"padding-left: 1em; padding-right: 1em; text-align: center; vertical-align: top\">None</td>\n",
       "    </tr>\n",
       "    <tr>\n",
       "        <td style=\"padding-left: 1em; padding-right: 1em; text-align: center; vertical-align: top\">word_count</td>\n",
       "        <td style=\"padding-left: 1em; padding-right: 1em; text-align: center; vertical-align: top\">you</td>\n",
       "        <td style=\"padding-left: 1em; padding-right: 1em; text-align: center; vertical-align: top\">1</td>\n",
       "        <td style=\"padding-left: 1em; padding-right: 1em; text-align: center; vertical-align: top\">0.0239038599174</td>\n",
       "        <td style=\"padding-left: 1em; padding-right: 1em; text-align: center; vertical-align: top\">None</td>\n",
       "    </tr>\n",
       "    <tr>\n",
       "        <td style=\"padding-left: 1em; padding-right: 1em; text-align: center; vertical-align: top\">word_count</td>\n",
       "        <td style=\"padding-left: 1em; padding-right: 1em; text-align: center; vertical-align: top\">fact</td>\n",
       "        <td style=\"padding-left: 1em; padding-right: 1em; text-align: center; vertical-align: top\">1</td>\n",
       "        <td style=\"padding-left: 1em; padding-right: 1em; text-align: center; vertical-align: top\">0.280988999876</td>\n",
       "        <td style=\"padding-left: 1em; padding-right: 1em; text-align: center; vertical-align: top\">None</td>\n",
       "    </tr>\n",
       "    <tr>\n",
       "        <td style=\"padding-left: 1em; padding-right: 1em; text-align: center; vertical-align: top\">word_count</td>\n",
       "        <td style=\"padding-left: 1em; padding-right: 1em; text-align: center; vertical-align: top\">however,</td>\n",
       "        <td style=\"padding-left: 1em; padding-right: 1em; text-align: center; vertical-align: top\">1</td>\n",
       "        <td style=\"padding-left: 1em; padding-right: 1em; text-align: center; vertical-align: top\">0.148108359222</td>\n",
       "        <td style=\"padding-left: 1em; padding-right: 1em; text-align: center; vertical-align: top\">None</td>\n",
       "    </tr>\n",
       "    <tr>\n",
       "        <td style=\"padding-left: 1em; padding-right: 1em; text-align: center; vertical-align: top\">word_count</td>\n",
       "        <td style=\"padding-left: 1em; padding-right: 1em; text-align: center; vertical-align: top\">any</td>\n",
       "        <td style=\"padding-left: 1em; padding-right: 1em; text-align: center; vertical-align: top\">1</td>\n",
       "        <td style=\"padding-left: 1em; padding-right: 1em; text-align: center; vertical-align: top\">0.364261782166</td>\n",
       "        <td style=\"padding-left: 1em; padding-right: 1em; text-align: center; vertical-align: top\">None</td>\n",
       "    </tr>\n",
       "    <tr>\n",
       "        <td style=\"padding-left: 1em; padding-right: 1em; text-align: center; vertical-align: top\">word_count</td>\n",
       "        <td style=\"padding-left: 1em; padding-right: 1em; text-align: center; vertical-align: top\">getting</td>\n",
       "        <td style=\"padding-left: 1em; padding-right: 1em; text-align: center; vertical-align: top\">1</td>\n",
       "        <td style=\"padding-left: 1em; padding-right: 1em; text-align: center; vertical-align: top\">-0.0138246887594</td>\n",
       "        <td style=\"padding-left: 1em; padding-right: 1em; text-align: center; vertical-align: top\">None</td>\n",
       "    </tr>\n",
       "    <tr>\n",
       "        <td style=\"padding-left: 1em; padding-right: 1em; text-align: center; vertical-align: top\">word_count</td>\n",
       "        <td style=\"padding-left: 1em; padding-right: 1em; text-align: center; vertical-align: top\">starts</td>\n",
       "        <td style=\"padding-left: 1em; padding-right: 1em; text-align: center; vertical-align: top\">1</td>\n",
       "        <td style=\"padding-left: 1em; padding-right: 1em; text-align: center; vertical-align: top\">-0.0824851002349</td>\n",
       "        <td style=\"padding-left: 1em; padding-right: 1em; text-align: center; vertical-align: top\">None</td>\n",
       "    </tr>\n",
       "    <tr>\n",
       "        <td style=\"padding-left: 1em; padding-right: 1em; text-align: center; vertical-align: top\">word_count</td>\n",
       "        <td style=\"padding-left: 1em; padding-right: 1em; text-align: center; vertical-align: top\">some</td>\n",
       "        <td style=\"padding-left: 1em; padding-right: 1em; text-align: center; vertical-align: top\">1</td>\n",
       "        <td style=\"padding-left: 1em; padding-right: 1em; text-align: center; vertical-align: top\">0.153469653475</td>\n",
       "        <td style=\"padding-left: 1em; padding-right: 1em; text-align: center; vertical-align: top\">None</td>\n",
       "    </tr>\n",
       "</table>\n",
       "[3842 rows x 5 columns]<br/>Note: Only the head of the SFrame is printed.<br/>You can use print_rows(num_rows=m, num_columns=n) to print more rows and columns.\n",
       "</div>"
      ],
      "text/plain": [
       "Columns:\n",
       "\tname\tstr\n",
       "\tindex\tstr\n",
       "\tclass\tint\n",
       "\tvalue\tfloat\n",
       "\tstderr\tfloat\n",
       "\n",
       "Rows: 3842\n",
       "\n",
       "Data:\n",
       "+-------------+----------+-------+------------------+--------+\n",
       "|     name    |  index   | class |      value       | stderr |\n",
       "+-------------+----------+-------+------------------+--------+\n",
       "| (intercept) |   None   |   1   |  0.219898583815  |  None  |\n",
       "|  word_count | regular  |   1   |  0.17485567291   |  None  |\n",
       "|  word_count |   can    |   1   | 0.0963198502554  |  None  |\n",
       "|  word_count |   you    |   1   | 0.0239038599174  |  None  |\n",
       "|  word_count |   fact   |   1   |  0.280988999876  |  None  |\n",
       "|  word_count | however, |   1   |  0.148108359222  |  None  |\n",
       "|  word_count |   any    |   1   |  0.364261782166  |  None  |\n",
       "|  word_count | getting  |   1   | -0.0138246887594 |  None  |\n",
       "|  word_count |  starts  |   1   | -0.0824851002349 |  None  |\n",
       "|  word_count |   some   |   1   |  0.153469653475  |  None  |\n",
       "+-------------+----------+-------+------------------+--------+\n",
       "[3842 rows x 5 columns]\n",
       "Note: Only the head of the SFrame is printed.\n",
       "You can use print_rows(num_rows=m, num_columns=n) to print more rows and columns."
      ]
     },
     "execution_count": 15,
     "metadata": {},
     "output_type": "execute_result"
    }
   ],
   "source": [
    "sentiment_model['coefficients']"
   ]
  },
  {
   "cell_type": "code",
   "execution_count": 16,
   "metadata": {},
   "outputs": [
    {
     "data": {
      "text/plain": [
       "{'roc_curve': Columns:\n",
       " \tthreshold\tfloat\n",
       " \tfpr\tfloat\n",
       " \ttpr\tfloat\n",
       " \tp\tint\n",
       " \tn\tint\n",
       " \n",
       " Rows: 100001\n",
       " \n",
       " Data:\n",
       " +-----------+-----+-----+----+---+\n",
       " | threshold | fpr | tpr | p  | n |\n",
       " +-----------+-----+-----+----+---+\n",
       " |    0.0    | 1.0 | 1.0 | 42 | 8 |\n",
       " |   1e-05   | 1.0 | 1.0 | 42 | 8 |\n",
       " |   2e-05   | 1.0 | 1.0 | 42 | 8 |\n",
       " |   3e-05   | 1.0 | 1.0 | 42 | 8 |\n",
       " |   4e-05   | 1.0 | 1.0 | 42 | 8 |\n",
       " |   5e-05   | 1.0 | 1.0 | 42 | 8 |\n",
       " |   6e-05   | 1.0 | 1.0 | 42 | 8 |\n",
       " |   7e-05   | 1.0 | 1.0 | 42 | 8 |\n",
       " |   8e-05   | 1.0 | 1.0 | 42 | 8 |\n",
       " |   9e-05   | 1.0 | 1.0 | 42 | 8 |\n",
       " +-----------+-----+-----+----+---+\n",
       " [100001 rows x 5 columns]\n",
       " Note: Only the head of the SFrame is printed.\n",
       " You can use print_rows(num_rows=m, num_columns=n) to print more rows and columns.}"
      ]
     },
     "execution_count": 16,
     "metadata": {},
     "output_type": "execute_result"
    }
   ],
   "source": [
    "sentiment_model.evaluate(test_data, metric='roc_curve')"
   ]
  },
  {
   "cell_type": "code",
   "execution_count": 17,
   "metadata": {},
   "outputs": [
    {
     "data": {
      "application/javascript": [
       "$(\"head\").append($(\"<link/>\").attr({\n",
       "  rel:  \"stylesheet\",\n",
       "  type: \"text/css\",\n",
       "  href: \"//cdnjs.cloudflare.com/ajax/libs/font-awesome/4.1.0/css/font-awesome.min.css\"\n",
       "}));\n",
       "$(\"head\").append($(\"<link/>\").attr({\n",
       "  rel:  \"stylesheet\",\n",
       "  type: \"text/css\",\n",
       "  href: \"https://static.turi.com/products/graphlab-create/2.1/canvas/css/canvas.css\"\n",
       "}));\n",
       "\n",
       "            (function(){\n",
       "\n",
       "                var e = null;\n",
       "                if (typeof element == 'undefined') {\n",
       "                    var scripts = document.getElementsByTagName('script');\n",
       "                    var thisScriptTag = scripts[scripts.length-1];\n",
       "                    var parentDiv = thisScriptTag.parentNode;\n",
       "                    e = document.createElement('div');\n",
       "                    parentDiv.appendChild(e);\n",
       "                } else {\n",
       "                    e = element[0];\n",
       "                }\n",
       "\n",
       "                if (typeof requirejs !== 'undefined') {\n",
       "                    // disable load timeout; ipython_app.js is large and can take a while to load.\n",
       "                    requirejs.config({waitSeconds: 0});\n",
       "                }\n",
       "\n",
       "                require(['https://static.turi.com/products/graphlab-create/2.1/canvas/js/ipython_app.js'], function(IPythonApp){\n",
       "                    var app = new IPythonApp();\n",
       "                    app.attachView('model','Evaluation', {\"comparison\": null, \"selected_variable\": {\"comparison\": null, \"name\": [\"sentiment_model\"], \"view_file\": \"model\", \"view_component\": \"Evaluation\", \"view_params\": {\"model_type\": \"regression\", \"view\": \"Evaluation\"}, \"view_components\": [\"Summary\", \"Evaluation\", \"Comparison\"], \"model_type\": \"regression\", \"attributes\": {\"section_titles\": [\"Schema\", \"Hyperparameters\", \"Training Summary\", \"Settings\", \"Highest Positive Coefficients\", \"Lowest Negative Coefficients\"], \"sections\": [[[\"Number of coefficients\", 3842], [\"Number of examples\", 248], [\"Number of classes\", 2], [\"Number of feature columns\", 1], [\"Number of unpacked features\", 3841]], [[\"L1 penalty\", 0.0], [\"L2 penalty\", 0.01]], [[\"Solver\", \"lbfgs\"], [\"Solver iterations\", 10], [\"Solver status\", \"TERMINATED: Iteration limit reached.\"], [\"Training time (sec)\", 1.1316]], [[\"Log-likelihood\", 0.1292]], [[\"word_count[living]\", 2.1062], [\"word_count[price!!!]\", 1.4237], [\"word_count[genie)!!!!!]\", 1.4237], [\"word_count[recommend.]\", 1.2971], [\"word_count[\\\"problems\\\";]\", 1.2697]], [[\"word_count[fancy,]\", -2.8541], [\"word_count[\\\"their\\\"]\", -2.5844], [\"word_count[basement.]\", -2.5844], [\"word_count[models]\", -2.0285], [\"word_count[top(cover)]\", -2.0285]]]}, \"evaluations\": [[\"test_data\", {\"roc_curve\": [{\"threshold\": 0.0, \"p\": 42, \"fpr\": 1.0, \"tpr\": 1.0, \"n\": 8}, {\"threshold\": 0.001, \"p\": 42, \"fpr\": 1.0, \"tpr\": 1.0, \"n\": 8}, {\"threshold\": 0.002, \"p\": 42, \"fpr\": 1.0, \"tpr\": 1.0, \"n\": 8}, {\"threshold\": 0.003, \"p\": 42, \"fpr\": 1.0, \"tpr\": 1.0, \"n\": 8}, {\"threshold\": 0.004, \"p\": 42, \"fpr\": 1.0, \"tpr\": 1.0, \"n\": 8}, {\"threshold\": 0.005, \"p\": 42, \"fpr\": 1.0, \"tpr\": 1.0, \"n\": 8}, {\"threshold\": 0.006, \"p\": 42, \"fpr\": 1.0, \"tpr\": 1.0, \"n\": 8}, {\"threshold\": 0.007, \"p\": 42, \"fpr\": 1.0, \"tpr\": 1.0, \"n\": 8}, {\"threshold\": 0.008, \"p\": 42, \"fpr\": 1.0, \"tpr\": 1.0, \"n\": 8}, {\"threshold\": 0.009, \"p\": 42, \"fpr\": 1.0, \"tpr\": 1.0, \"n\": 8}, {\"threshold\": 0.01, \"p\": 42, \"fpr\": 1.0, \"tpr\": 1.0, \"n\": 8}, {\"threshold\": 0.011, \"p\": 42, \"fpr\": 1.0, \"tpr\": 1.0, \"n\": 8}, {\"threshold\": 0.012, \"p\": 42, \"fpr\": 1.0, \"tpr\": 1.0, \"n\": 8}, {\"threshold\": 0.013, \"p\": 42, \"fpr\": 1.0, \"tpr\": 1.0, \"n\": 8}, {\"threshold\": 0.014, \"p\": 42, \"fpr\": 1.0, \"tpr\": 1.0, \"n\": 8}, {\"threshold\": 0.015, \"p\": 42, \"fpr\": 1.0, \"tpr\": 1.0, \"n\": 8}, {\"threshold\": 0.016, \"p\": 42, \"fpr\": 1.0, \"tpr\": 1.0, \"n\": 8}, {\"threshold\": 0.017, \"p\": 42, \"fpr\": 1.0, \"tpr\": 1.0, \"n\": 8}, {\"threshold\": 0.018, \"p\": 42, \"fpr\": 1.0, \"tpr\": 1.0, \"n\": 8}, {\"threshold\": 0.019, \"p\": 42, \"fpr\": 1.0, \"tpr\": 1.0, \"n\": 8}, {\"threshold\": 0.02, \"p\": 42, \"fpr\": 1.0, \"tpr\": 1.0, \"n\": 8}, {\"threshold\": 0.021, \"p\": 42, \"fpr\": 1.0, \"tpr\": 1.0, \"n\": 8}, {\"threshold\": 0.022, \"p\": 42, \"fpr\": 1.0, \"tpr\": 1.0, \"n\": 8}, {\"threshold\": 0.023, \"p\": 42, \"fpr\": 1.0, \"tpr\": 1.0, \"n\": 8}, {\"threshold\": 0.024, \"p\": 42, \"fpr\": 1.0, \"tpr\": 1.0, \"n\": 8}, {\"threshold\": 0.025, \"p\": 42, \"fpr\": 1.0, \"tpr\": 1.0, \"n\": 8}, {\"threshold\": 0.026, \"p\": 42, \"fpr\": 1.0, \"tpr\": 1.0, \"n\": 8}, {\"threshold\": 0.027, \"p\": 42, \"fpr\": 1.0, \"tpr\": 1.0, \"n\": 8}, {\"threshold\": 0.028, \"p\": 42, \"fpr\": 1.0, \"tpr\": 1.0, \"n\": 8}, {\"threshold\": 0.029, \"p\": 42, \"fpr\": 1.0, \"tpr\": 1.0, \"n\": 8}, {\"threshold\": 0.03, \"p\": 42, \"fpr\": 1.0, \"tpr\": 1.0, \"n\": 8}, {\"threshold\": 0.031, \"p\": 42, \"fpr\": 1.0, \"tpr\": 1.0, \"n\": 8}, {\"threshold\": 0.032, \"p\": 42, \"fpr\": 1.0, \"tpr\": 1.0, \"n\": 8}, {\"threshold\": 0.033, \"p\": 42, \"fpr\": 1.0, \"tpr\": 1.0, \"n\": 8}, {\"threshold\": 0.034, \"p\": 42, \"fpr\": 1.0, \"tpr\": 1.0, \"n\": 8}, {\"threshold\": 0.035, \"p\": 42, \"fpr\": 1.0, \"tpr\": 1.0, \"n\": 8}, {\"threshold\": 0.036, \"p\": 42, \"fpr\": 1.0, \"tpr\": 1.0, \"n\": 8}, {\"threshold\": 0.037, \"p\": 42, \"fpr\": 1.0, \"tpr\": 1.0, \"n\": 8}, {\"threshold\": 0.038, \"p\": 42, \"fpr\": 1.0, \"tpr\": 1.0, \"n\": 8}, {\"threshold\": 0.039, \"p\": 42, \"fpr\": 1.0, \"tpr\": 1.0, \"n\": 8}, {\"threshold\": 0.04, \"p\": 42, \"fpr\": 1.0, \"tpr\": 1.0, \"n\": 8}, {\"threshold\": 0.041, \"p\": 42, \"fpr\": 1.0, \"tpr\": 1.0, \"n\": 8}, {\"threshold\": 0.042, \"p\": 42, \"fpr\": 1.0, \"tpr\": 1.0, \"n\": 8}, {\"threshold\": 0.043, \"p\": 42, \"fpr\": 1.0, \"tpr\": 1.0, \"n\": 8}, {\"threshold\": 0.044, \"p\": 42, \"fpr\": 1.0, \"tpr\": 1.0, \"n\": 8}, {\"threshold\": 0.045, \"p\": 42, \"fpr\": 1.0, \"tpr\": 1.0, \"n\": 8}, {\"threshold\": 0.046, \"p\": 42, \"fpr\": 1.0, \"tpr\": 1.0, \"n\": 8}, {\"threshold\": 0.047, \"p\": 42, \"fpr\": 1.0, \"tpr\": 1.0, \"n\": 8}, {\"threshold\": 0.048, \"p\": 42, \"fpr\": 1.0, \"tpr\": 1.0, \"n\": 8}, {\"threshold\": 0.049, \"p\": 42, \"fpr\": 1.0, \"tpr\": 1.0, \"n\": 8}, {\"threshold\": 0.05, \"p\": 42, \"fpr\": 1.0, \"tpr\": 1.0, \"n\": 8}, {\"threshold\": 0.051, \"p\": 42, \"fpr\": 1.0, \"tpr\": 1.0, \"n\": 8}, {\"threshold\": 0.052, \"p\": 42, \"fpr\": 1.0, \"tpr\": 1.0, \"n\": 8}, {\"threshold\": 0.053, \"p\": 42, \"fpr\": 1.0, \"tpr\": 1.0, \"n\": 8}, {\"threshold\": 0.054, \"p\": 42, \"fpr\": 1.0, \"tpr\": 1.0, \"n\": 8}, {\"threshold\": 0.055, \"p\": 42, \"fpr\": 1.0, \"tpr\": 1.0, \"n\": 8}, {\"threshold\": 0.056, \"p\": 42, \"fpr\": 1.0, \"tpr\": 1.0, \"n\": 8}, {\"threshold\": 0.057, \"p\": 42, \"fpr\": 1.0, \"tpr\": 1.0, \"n\": 8}, {\"threshold\": 0.058, \"p\": 42, \"fpr\": 1.0, \"tpr\": 1.0, \"n\": 8}, {\"threshold\": 0.059, \"p\": 42, \"fpr\": 1.0, \"tpr\": 1.0, \"n\": 8}, {\"threshold\": 0.06, \"p\": 42, \"fpr\": 1.0, \"tpr\": 1.0, \"n\": 8}, {\"threshold\": 0.061, \"p\": 42, \"fpr\": 1.0, \"tpr\": 1.0, \"n\": 8}, {\"threshold\": 0.062, \"p\": 42, \"fpr\": 1.0, \"tpr\": 1.0, \"n\": 8}, {\"threshold\": 0.063, \"p\": 42, \"fpr\": 1.0, \"tpr\": 1.0, \"n\": 8}, {\"threshold\": 0.064, \"p\": 42, \"fpr\": 1.0, \"tpr\": 1.0, \"n\": 8}, {\"threshold\": 0.065, \"p\": 42, \"fpr\": 1.0, \"tpr\": 1.0, \"n\": 8}, {\"threshold\": 0.066, \"p\": 42, \"fpr\": 1.0, \"tpr\": 1.0, \"n\": 8}, {\"threshold\": 0.067, \"p\": 42, \"fpr\": 1.0, \"tpr\": 1.0, \"n\": 8}, {\"threshold\": 0.068, \"p\": 42, \"fpr\": 1.0, \"tpr\": 1.0, \"n\": 8}, {\"threshold\": 0.069, \"p\": 42, \"fpr\": 1.0, \"tpr\": 1.0, \"n\": 8}, {\"threshold\": 0.07, \"p\": 42, \"fpr\": 1.0, \"tpr\": 1.0, \"n\": 8}, {\"threshold\": 0.071, \"p\": 42, \"fpr\": 1.0, \"tpr\": 1.0, \"n\": 8}, {\"threshold\": 0.072, \"p\": 42, \"fpr\": 1.0, \"tpr\": 1.0, \"n\": 8}, {\"threshold\": 0.073, \"p\": 42, \"fpr\": 1.0, \"tpr\": 1.0, \"n\": 8}, {\"threshold\": 0.074, \"p\": 42, \"fpr\": 1.0, \"tpr\": 1.0, \"n\": 8}, {\"threshold\": 0.075, \"p\": 42, \"fpr\": 1.0, \"tpr\": 1.0, \"n\": 8}, {\"threshold\": 0.076, \"p\": 42, \"fpr\": 1.0, \"tpr\": 1.0, \"n\": 8}, {\"threshold\": 0.077, \"p\": 42, \"fpr\": 1.0, \"tpr\": 1.0, \"n\": 8}, {\"threshold\": 0.078, \"p\": 42, \"fpr\": 1.0, \"tpr\": 1.0, \"n\": 8}, {\"threshold\": 0.079, \"p\": 42, \"fpr\": 1.0, \"tpr\": 1.0, \"n\": 8}, {\"threshold\": 0.08, \"p\": 42, \"fpr\": 1.0, \"tpr\": 1.0, \"n\": 8}, {\"threshold\": 0.081, \"p\": 42, \"fpr\": 1.0, \"tpr\": 1.0, \"n\": 8}, {\"threshold\": 0.082, \"p\": 42, \"fpr\": 1.0, \"tpr\": 1.0, \"n\": 8}, {\"threshold\": 0.083, \"p\": 42, \"fpr\": 1.0, \"tpr\": 1.0, \"n\": 8}, {\"threshold\": 0.084, \"p\": 42, \"fpr\": 1.0, \"tpr\": 1.0, \"n\": 8}, {\"threshold\": 0.085, \"p\": 42, \"fpr\": 1.0, \"tpr\": 1.0, \"n\": 8}, {\"threshold\": 0.086, \"p\": 42, \"fpr\": 1.0, \"tpr\": 1.0, \"n\": 8}, {\"threshold\": 0.087, \"p\": 42, \"fpr\": 1.0, \"tpr\": 1.0, \"n\": 8}, {\"threshold\": 0.088, \"p\": 42, \"fpr\": 1.0, \"tpr\": 1.0, \"n\": 8}, {\"threshold\": 0.089, \"p\": 42, \"fpr\": 1.0, \"tpr\": 1.0, \"n\": 8}, {\"threshold\": 0.09, \"p\": 42, \"fpr\": 1.0, \"tpr\": 1.0, \"n\": 8}, {\"threshold\": 0.091, \"p\": 42, \"fpr\": 1.0, \"tpr\": 1.0, \"n\": 8}, {\"threshold\": 0.092, \"p\": 42, \"fpr\": 1.0, \"tpr\": 1.0, \"n\": 8}, {\"threshold\": 0.093, \"p\": 42, \"fpr\": 1.0, \"tpr\": 1.0, \"n\": 8}, {\"threshold\": 0.094, \"p\": 42, \"fpr\": 1.0, \"tpr\": 1.0, \"n\": 8}, {\"threshold\": 0.095, \"p\": 42, \"fpr\": 1.0, \"tpr\": 1.0, \"n\": 8}, {\"threshold\": 0.096, \"p\": 42, \"fpr\": 1.0, \"tpr\": 1.0, \"n\": 8}, {\"threshold\": 0.097, \"p\": 42, \"fpr\": 1.0, \"tpr\": 1.0, \"n\": 8}, {\"threshold\": 0.098, \"p\": 42, \"fpr\": 1.0, \"tpr\": 1.0, \"n\": 8}, {\"threshold\": 0.099, \"p\": 42, \"fpr\": 1.0, \"tpr\": 1.0, \"n\": 8}, {\"threshold\": 0.1, \"p\": 42, \"fpr\": 1.0, \"tpr\": 1.0, \"n\": 8}, {\"threshold\": 0.101, \"p\": 42, \"fpr\": 1.0, \"tpr\": 1.0, \"n\": 8}, {\"threshold\": 0.102, \"p\": 42, \"fpr\": 1.0, \"tpr\": 1.0, \"n\": 8}, {\"threshold\": 0.103, \"p\": 42, \"fpr\": 1.0, \"tpr\": 1.0, \"n\": 8}, {\"threshold\": 0.104, \"p\": 42, \"fpr\": 1.0, \"tpr\": 1.0, \"n\": 8}, {\"threshold\": 0.105, \"p\": 42, \"fpr\": 1.0, \"tpr\": 1.0, \"n\": 8}, {\"threshold\": 0.106, \"p\": 42, \"fpr\": 1.0, \"tpr\": 1.0, \"n\": 8}, {\"threshold\": 0.107, \"p\": 42, \"fpr\": 1.0, \"tpr\": 1.0, \"n\": 8}, {\"threshold\": 0.108, \"p\": 42, \"fpr\": 1.0, \"tpr\": 1.0, \"n\": 8}, {\"threshold\": 0.109, \"p\": 42, \"fpr\": 1.0, \"tpr\": 1.0, \"n\": 8}, {\"threshold\": 0.11, \"p\": 42, \"fpr\": 1.0, \"tpr\": 1.0, \"n\": 8}, {\"threshold\": 0.111, \"p\": 42, \"fpr\": 1.0, \"tpr\": 1.0, \"n\": 8}, {\"threshold\": 0.112, \"p\": 42, \"fpr\": 1.0, \"tpr\": 1.0, \"n\": 8}, {\"threshold\": 0.113, \"p\": 42, \"fpr\": 1.0, \"tpr\": 1.0, \"n\": 8}, {\"threshold\": 0.114, \"p\": 42, \"fpr\": 1.0, \"tpr\": 1.0, \"n\": 8}, {\"threshold\": 0.115, \"p\": 42, \"fpr\": 1.0, \"tpr\": 1.0, \"n\": 8}, {\"threshold\": 0.116, \"p\": 42, \"fpr\": 1.0, \"tpr\": 1.0, \"n\": 8}, {\"threshold\": 0.117, \"p\": 42, \"fpr\": 1.0, \"tpr\": 1.0, \"n\": 8}, {\"threshold\": 0.118, \"p\": 42, \"fpr\": 1.0, \"tpr\": 1.0, \"n\": 8}, {\"threshold\": 0.119, \"p\": 42, \"fpr\": 1.0, \"tpr\": 1.0, \"n\": 8}, {\"threshold\": 0.12, \"p\": 42, \"fpr\": 1.0, \"tpr\": 1.0, \"n\": 8}, {\"threshold\": 0.121, \"p\": 42, \"fpr\": 1.0, \"tpr\": 1.0, \"n\": 8}, {\"threshold\": 0.122, \"p\": 42, \"fpr\": 1.0, \"tpr\": 1.0, \"n\": 8}, {\"threshold\": 0.123, \"p\": 42, \"fpr\": 1.0, \"tpr\": 1.0, \"n\": 8}, {\"threshold\": 0.124, \"p\": 42, \"fpr\": 1.0, \"tpr\": 1.0, \"n\": 8}, {\"threshold\": 0.125, \"p\": 42, \"fpr\": 1.0, \"tpr\": 1.0, \"n\": 8}, {\"threshold\": 0.126, \"p\": 42, \"fpr\": 1.0, \"tpr\": 1.0, \"n\": 8}, {\"threshold\": 0.127, \"p\": 42, \"fpr\": 1.0, \"tpr\": 1.0, \"n\": 8}, {\"threshold\": 0.128, \"p\": 42, \"fpr\": 1.0, \"tpr\": 1.0, \"n\": 8}, {\"threshold\": 0.129, \"p\": 42, \"fpr\": 1.0, \"tpr\": 1.0, \"n\": 8}, {\"threshold\": 0.13, \"p\": 42, \"fpr\": 1.0, \"tpr\": 1.0, \"n\": 8}, {\"threshold\": 0.131, \"p\": 42, \"fpr\": 1.0, \"tpr\": 1.0, \"n\": 8}, {\"threshold\": 0.132, \"p\": 42, \"fpr\": 1.0, \"tpr\": 1.0, \"n\": 8}, {\"threshold\": 0.133, \"p\": 42, \"fpr\": 1.0, \"tpr\": 1.0, \"n\": 8}, {\"threshold\": 0.134, \"p\": 42, \"fpr\": 1.0, \"tpr\": 1.0, \"n\": 8}, {\"threshold\": 0.135, \"p\": 42, \"fpr\": 1.0, \"tpr\": 1.0, \"n\": 8}, {\"threshold\": 0.136, \"p\": 42, \"fpr\": 1.0, \"tpr\": 1.0, \"n\": 8}, {\"threshold\": 0.137, \"p\": 42, \"fpr\": 1.0, \"tpr\": 1.0, \"n\": 8}, {\"threshold\": 0.138, \"p\": 42, \"fpr\": 1.0, \"tpr\": 1.0, \"n\": 8}, {\"threshold\": 0.139, \"p\": 42, \"fpr\": 1.0, \"tpr\": 1.0, \"n\": 8}, {\"threshold\": 0.14, \"p\": 42, \"fpr\": 1.0, \"tpr\": 1.0, \"n\": 8}, {\"threshold\": 0.141, \"p\": 42, \"fpr\": 1.0, \"tpr\": 1.0, \"n\": 8}, {\"threshold\": 0.142, \"p\": 42, \"fpr\": 1.0, \"tpr\": 1.0, \"n\": 8}, {\"threshold\": 0.143, \"p\": 42, \"fpr\": 1.0, \"tpr\": 1.0, \"n\": 8}, {\"threshold\": 0.144, \"p\": 42, \"fpr\": 1.0, \"tpr\": 1.0, \"n\": 8}, {\"threshold\": 0.145, \"p\": 42, \"fpr\": 1.0, \"tpr\": 1.0, \"n\": 8}, {\"threshold\": 0.146, \"p\": 42, \"fpr\": 1.0, \"tpr\": 1.0, \"n\": 8}, {\"threshold\": 0.147, \"p\": 42, \"fpr\": 1.0, \"tpr\": 1.0, \"n\": 8}, {\"threshold\": 0.148, \"p\": 42, \"fpr\": 1.0, \"tpr\": 1.0, \"n\": 8}, {\"threshold\": 0.149, \"p\": 42, \"fpr\": 1.0, \"tpr\": 1.0, \"n\": 8}, {\"threshold\": 0.15, \"p\": 42, \"fpr\": 1.0, \"tpr\": 1.0, \"n\": 8}, {\"threshold\": 0.151, \"p\": 42, \"fpr\": 1.0, \"tpr\": 1.0, \"n\": 8}, {\"threshold\": 0.152, \"p\": 42, \"fpr\": 1.0, \"tpr\": 1.0, \"n\": 8}, {\"threshold\": 0.153, \"p\": 42, \"fpr\": 1.0, \"tpr\": 1.0, \"n\": 8}, {\"threshold\": 0.154, \"p\": 42, \"fpr\": 1.0, \"tpr\": 1.0, \"n\": 8}, {\"threshold\": 0.155, \"p\": 42, \"fpr\": 1.0, \"tpr\": 1.0, \"n\": 8}, {\"threshold\": 0.156, \"p\": 42, \"fpr\": 1.0, \"tpr\": 1.0, \"n\": 8}, {\"threshold\": 0.157, \"p\": 42, \"fpr\": 1.0, \"tpr\": 1.0, \"n\": 8}, {\"threshold\": 0.158, \"p\": 42, \"fpr\": 1.0, \"tpr\": 1.0, \"n\": 8}, {\"threshold\": 0.159, \"p\": 42, \"fpr\": 1.0, \"tpr\": 1.0, \"n\": 8}, {\"threshold\": 0.16, \"p\": 42, \"fpr\": 1.0, \"tpr\": 1.0, \"n\": 8}, {\"threshold\": 0.161, \"p\": 42, \"fpr\": 1.0, \"tpr\": 1.0, \"n\": 8}, {\"threshold\": 0.162, \"p\": 42, \"fpr\": 1.0, \"tpr\": 1.0, \"n\": 8}, {\"threshold\": 0.163, \"p\": 42, \"fpr\": 1.0, \"tpr\": 1.0, \"n\": 8}, {\"threshold\": 0.164, \"p\": 42, \"fpr\": 1.0, \"tpr\": 1.0, \"n\": 8}, {\"threshold\": 0.165, \"p\": 42, \"fpr\": 1.0, \"tpr\": 1.0, \"n\": 8}, {\"threshold\": 0.166, \"p\": 42, \"fpr\": 1.0, \"tpr\": 1.0, \"n\": 8}, {\"threshold\": 0.167, \"p\": 42, \"fpr\": 1.0, \"tpr\": 1.0, \"n\": 8}, {\"threshold\": 0.168, \"p\": 42, \"fpr\": 1.0, \"tpr\": 1.0, \"n\": 8}, {\"threshold\": 0.169, \"p\": 42, \"fpr\": 1.0, \"tpr\": 1.0, \"n\": 8}, {\"threshold\": 0.17, \"p\": 42, \"fpr\": 1.0, \"tpr\": 1.0, \"n\": 8}, {\"threshold\": 0.171, \"p\": 42, \"fpr\": 1.0, \"tpr\": 1.0, \"n\": 8}, {\"threshold\": 0.172, \"p\": 42, \"fpr\": 1.0, \"tpr\": 1.0, \"n\": 8}, {\"threshold\": 0.173, \"p\": 42, \"fpr\": 1.0, \"tpr\": 1.0, \"n\": 8}, {\"threshold\": 0.174, \"p\": 42, \"fpr\": 1.0, \"tpr\": 1.0, \"n\": 8}, {\"threshold\": 0.175, \"p\": 42, \"fpr\": 1.0, \"tpr\": 1.0, \"n\": 8}, {\"threshold\": 0.176, \"p\": 42, \"fpr\": 1.0, \"tpr\": 1.0, \"n\": 8}, {\"threshold\": 0.177, \"p\": 42, \"fpr\": 1.0, \"tpr\": 1.0, \"n\": 8}, {\"threshold\": 0.178, \"p\": 42, \"fpr\": 1.0, \"tpr\": 1.0, \"n\": 8}, {\"threshold\": 0.179, \"p\": 42, \"fpr\": 1.0, \"tpr\": 1.0, \"n\": 8}, {\"threshold\": 0.18, \"p\": 42, \"fpr\": 1.0, \"tpr\": 1.0, \"n\": 8}, {\"threshold\": 0.181, \"p\": 42, \"fpr\": 1.0, \"tpr\": 1.0, \"n\": 8}, {\"threshold\": 0.182, \"p\": 42, \"fpr\": 1.0, \"tpr\": 1.0, \"n\": 8}, {\"threshold\": 0.183, \"p\": 42, \"fpr\": 1.0, \"tpr\": 1.0, \"n\": 8}, {\"threshold\": 0.184, \"p\": 42, \"fpr\": 1.0, \"tpr\": 1.0, \"n\": 8}, {\"threshold\": 0.185, \"p\": 42, \"fpr\": 1.0, \"tpr\": 1.0, \"n\": 8}, {\"threshold\": 0.186, \"p\": 42, \"fpr\": 1.0, \"tpr\": 1.0, \"n\": 8}, {\"threshold\": 0.187, \"p\": 42, \"fpr\": 1.0, \"tpr\": 1.0, \"n\": 8}, {\"threshold\": 0.188, \"p\": 42, \"fpr\": 1.0, \"tpr\": 1.0, \"n\": 8}, {\"threshold\": 0.189, \"p\": 42, \"fpr\": 1.0, \"tpr\": 1.0, \"n\": 8}, {\"threshold\": 0.19, \"p\": 42, \"fpr\": 1.0, \"tpr\": 1.0, \"n\": 8}, {\"threshold\": 0.191, \"p\": 42, \"fpr\": 1.0, \"tpr\": 1.0, \"n\": 8}, {\"threshold\": 0.192, \"p\": 42, \"fpr\": 1.0, \"tpr\": 1.0, \"n\": 8}, {\"threshold\": 0.193, \"p\": 42, \"fpr\": 1.0, \"tpr\": 1.0, \"n\": 8}, {\"threshold\": 0.194, \"p\": 42, \"fpr\": 1.0, \"tpr\": 1.0, \"n\": 8}, {\"threshold\": 0.195, \"p\": 42, \"fpr\": 1.0, \"tpr\": 1.0, \"n\": 8}, {\"threshold\": 0.196, \"p\": 42, \"fpr\": 1.0, \"tpr\": 1.0, \"n\": 8}, {\"threshold\": 0.197, \"p\": 42, \"fpr\": 1.0, \"tpr\": 1.0, \"n\": 8}, {\"threshold\": 0.198, \"p\": 42, \"fpr\": 1.0, \"tpr\": 1.0, \"n\": 8}, {\"threshold\": 0.199, \"p\": 42, \"fpr\": 1.0, \"tpr\": 1.0, \"n\": 8}, {\"threshold\": 0.2, \"p\": 42, \"fpr\": 1.0, \"tpr\": 1.0, \"n\": 8}, {\"threshold\": 0.201, \"p\": 42, \"fpr\": 1.0, \"tpr\": 1.0, \"n\": 8}, {\"threshold\": 0.202, \"p\": 42, \"fpr\": 1.0, \"tpr\": 1.0, \"n\": 8}, {\"threshold\": 0.203, \"p\": 42, \"fpr\": 1.0, \"tpr\": 1.0, \"n\": 8}, {\"threshold\": 0.204, \"p\": 42, \"fpr\": 1.0, \"tpr\": 1.0, \"n\": 8}, {\"threshold\": 0.205, \"p\": 42, \"fpr\": 1.0, \"tpr\": 1.0, \"n\": 8}, {\"threshold\": 0.206, \"p\": 42, \"fpr\": 1.0, \"tpr\": 1.0, \"n\": 8}, {\"threshold\": 0.207, \"p\": 42, \"fpr\": 1.0, \"tpr\": 1.0, \"n\": 8}, {\"threshold\": 0.208, \"p\": 42, \"fpr\": 1.0, \"tpr\": 1.0, \"n\": 8}, {\"threshold\": 0.209, \"p\": 42, \"fpr\": 1.0, \"tpr\": 1.0, \"n\": 8}, {\"threshold\": 0.21, \"p\": 42, \"fpr\": 1.0, \"tpr\": 1.0, \"n\": 8}, {\"threshold\": 0.211, \"p\": 42, \"fpr\": 1.0, \"tpr\": 1.0, \"n\": 8}, {\"threshold\": 0.212, \"p\": 42, \"fpr\": 1.0, \"tpr\": 1.0, \"n\": 8}, {\"threshold\": 0.213, \"p\": 42, \"fpr\": 1.0, \"tpr\": 1.0, \"n\": 8}, {\"threshold\": 0.214, \"p\": 42, \"fpr\": 1.0, \"tpr\": 1.0, \"n\": 8}, {\"threshold\": 0.215, \"p\": 42, \"fpr\": 1.0, \"tpr\": 1.0, \"n\": 8}, {\"threshold\": 0.216, \"p\": 42, \"fpr\": 1.0, \"tpr\": 1.0, \"n\": 8}, {\"threshold\": 0.217, \"p\": 42, \"fpr\": 1.0, \"tpr\": 1.0, \"n\": 8}, {\"threshold\": 0.218, \"p\": 42, \"fpr\": 1.0, \"tpr\": 1.0, \"n\": 8}, {\"threshold\": 0.219, \"p\": 42, \"fpr\": 1.0, \"tpr\": 1.0, \"n\": 8}, {\"threshold\": 0.22, \"p\": 42, \"fpr\": 1.0, \"tpr\": 1.0, \"n\": 8}, {\"threshold\": 0.221, \"p\": 42, \"fpr\": 1.0, \"tpr\": 1.0, \"n\": 8}, {\"threshold\": 0.222, \"p\": 42, \"fpr\": 1.0, \"tpr\": 1.0, \"n\": 8}, {\"threshold\": 0.223, \"p\": 42, \"fpr\": 1.0, \"tpr\": 1.0, \"n\": 8}, {\"threshold\": 0.224, \"p\": 42, \"fpr\": 1.0, \"tpr\": 1.0, \"n\": 8}, {\"threshold\": 0.225, \"p\": 42, \"fpr\": 1.0, \"tpr\": 1.0, \"n\": 8}, {\"threshold\": 0.226, \"p\": 42, \"fpr\": 1.0, \"tpr\": 1.0, \"n\": 8}, {\"threshold\": 0.227, \"p\": 42, \"fpr\": 1.0, \"tpr\": 1.0, \"n\": 8}, {\"threshold\": 0.228, \"p\": 42, \"fpr\": 1.0, \"tpr\": 1.0, \"n\": 8}, {\"threshold\": 0.229, \"p\": 42, \"fpr\": 1.0, \"tpr\": 1.0, \"n\": 8}, {\"threshold\": 0.23, \"p\": 42, \"fpr\": 1.0, \"tpr\": 1.0, \"n\": 8}, {\"threshold\": 0.231, \"p\": 42, \"fpr\": 1.0, \"tpr\": 1.0, \"n\": 8}, {\"threshold\": 0.232, \"p\": 42, \"fpr\": 1.0, \"tpr\": 1.0, \"n\": 8}, {\"threshold\": 0.233, \"p\": 42, \"fpr\": 1.0, \"tpr\": 1.0, \"n\": 8}, {\"threshold\": 0.234, \"p\": 42, \"fpr\": 1.0, \"tpr\": 1.0, \"n\": 8}, {\"threshold\": 0.235, \"p\": 42, \"fpr\": 1.0, \"tpr\": 1.0, \"n\": 8}, {\"threshold\": 0.236, \"p\": 42, \"fpr\": 1.0, \"tpr\": 1.0, \"n\": 8}, {\"threshold\": 0.237, \"p\": 42, \"fpr\": 1.0, \"tpr\": 1.0, \"n\": 8}, {\"threshold\": 0.238, \"p\": 42, \"fpr\": 1.0, \"tpr\": 1.0, \"n\": 8}, {\"threshold\": 0.239, \"p\": 42, \"fpr\": 1.0, \"tpr\": 1.0, \"n\": 8}, {\"threshold\": 0.24, \"p\": 42, \"fpr\": 1.0, \"tpr\": 1.0, \"n\": 8}, {\"threshold\": 0.241, \"p\": 42, \"fpr\": 1.0, \"tpr\": 1.0, \"n\": 8}, {\"threshold\": 0.242, \"p\": 42, \"fpr\": 1.0, \"tpr\": 1.0, \"n\": 8}, {\"threshold\": 0.243, \"p\": 42, \"fpr\": 1.0, \"tpr\": 1.0, \"n\": 8}, {\"threshold\": 0.244, \"p\": 42, \"fpr\": 1.0, \"tpr\": 1.0, \"n\": 8}, {\"threshold\": 0.245, \"p\": 42, \"fpr\": 1.0, \"tpr\": 1.0, \"n\": 8}, {\"threshold\": 0.246, \"p\": 42, \"fpr\": 1.0, \"tpr\": 1.0, \"n\": 8}, {\"threshold\": 0.247, \"p\": 42, \"fpr\": 1.0, \"tpr\": 1.0, \"n\": 8}, {\"threshold\": 0.248, \"p\": 42, \"fpr\": 1.0, \"tpr\": 1.0, \"n\": 8}, {\"threshold\": 0.249, \"p\": 42, \"fpr\": 1.0, \"tpr\": 1.0, \"n\": 8}, {\"threshold\": 0.25, \"p\": 42, \"fpr\": 1.0, \"tpr\": 1.0, \"n\": 8}, {\"threshold\": 0.251, \"p\": 42, \"fpr\": 1.0, \"tpr\": 1.0, \"n\": 8}, {\"threshold\": 0.252, \"p\": 42, \"fpr\": 1.0, \"tpr\": 1.0, \"n\": 8}, {\"threshold\": 0.253, \"p\": 42, \"fpr\": 1.0, \"tpr\": 1.0, \"n\": 8}, {\"threshold\": 0.254, \"p\": 42, \"fpr\": 1.0, \"tpr\": 1.0, \"n\": 8}, {\"threshold\": 0.255, \"p\": 42, \"fpr\": 1.0, \"tpr\": 1.0, \"n\": 8}, {\"threshold\": 0.256, \"p\": 42, \"fpr\": 1.0, \"tpr\": 1.0, \"n\": 8}, {\"threshold\": 0.257, \"p\": 42, \"fpr\": 1.0, \"tpr\": 1.0, \"n\": 8}, {\"threshold\": 0.258, \"p\": 42, \"fpr\": 1.0, \"tpr\": 1.0, \"n\": 8}, {\"threshold\": 0.259, \"p\": 42, \"fpr\": 1.0, \"tpr\": 1.0, \"n\": 8}, {\"threshold\": 0.26, \"p\": 42, \"fpr\": 1.0, \"tpr\": 1.0, \"n\": 8}, {\"threshold\": 0.261, \"p\": 42, \"fpr\": 1.0, \"tpr\": 1.0, \"n\": 8}, {\"threshold\": 0.262, \"p\": 42, \"fpr\": 1.0, \"tpr\": 1.0, \"n\": 8}, {\"threshold\": 0.263, \"p\": 42, \"fpr\": 1.0, \"tpr\": 1.0, \"n\": 8}, {\"threshold\": 0.264, \"p\": 42, \"fpr\": 1.0, \"tpr\": 1.0, \"n\": 8}, {\"threshold\": 0.265, \"p\": 42, \"fpr\": 1.0, \"tpr\": 1.0, \"n\": 8}, {\"threshold\": 0.266, \"p\": 42, \"fpr\": 1.0, \"tpr\": 1.0, \"n\": 8}, {\"threshold\": 0.267, \"p\": 42, \"fpr\": 1.0, \"tpr\": 1.0, \"n\": 8}, {\"threshold\": 0.268, \"p\": 42, \"fpr\": 1.0, \"tpr\": 1.0, \"n\": 8}, {\"threshold\": 0.269, \"p\": 42, \"fpr\": 1.0, \"tpr\": 1.0, \"n\": 8}, {\"threshold\": 0.27, \"p\": 42, \"fpr\": 1.0, \"tpr\": 1.0, \"n\": 8}, {\"threshold\": 0.271, \"p\": 42, \"fpr\": 1.0, \"tpr\": 1.0, \"n\": 8}, {\"threshold\": 0.272, \"p\": 42, \"fpr\": 1.0, \"tpr\": 1.0, \"n\": 8}, {\"threshold\": 0.273, \"p\": 42, \"fpr\": 1.0, \"tpr\": 1.0, \"n\": 8}, {\"threshold\": 0.274, \"p\": 42, \"fpr\": 1.0, \"tpr\": 1.0, \"n\": 8}, {\"threshold\": 0.275, \"p\": 42, \"fpr\": 1.0, \"tpr\": 1.0, \"n\": 8}, {\"threshold\": 0.276, \"p\": 42, \"fpr\": 1.0, \"tpr\": 1.0, \"n\": 8}, {\"threshold\": 0.277, \"p\": 42, \"fpr\": 1.0, \"tpr\": 1.0, \"n\": 8}, {\"threshold\": 0.278, \"p\": 42, \"fpr\": 1.0, \"tpr\": 1.0, \"n\": 8}, {\"threshold\": 0.279, \"p\": 42, \"fpr\": 1.0, \"tpr\": 1.0, \"n\": 8}, {\"threshold\": 0.28, \"p\": 42, \"fpr\": 1.0, \"tpr\": 1.0, \"n\": 8}, {\"threshold\": 0.281, \"p\": 42, \"fpr\": 1.0, \"tpr\": 1.0, \"n\": 8}, {\"threshold\": 0.282, \"p\": 42, \"fpr\": 1.0, \"tpr\": 1.0, \"n\": 8}, {\"threshold\": 0.283, \"p\": 42, \"fpr\": 1.0, \"tpr\": 1.0, \"n\": 8}, {\"threshold\": 0.284, \"p\": 42, \"fpr\": 1.0, \"tpr\": 1.0, \"n\": 8}, {\"threshold\": 0.285, \"p\": 42, \"fpr\": 1.0, \"tpr\": 1.0, \"n\": 8}, {\"threshold\": 0.286, \"p\": 42, \"fpr\": 1.0, \"tpr\": 1.0, \"n\": 8}, {\"threshold\": 0.287, \"p\": 42, \"fpr\": 1.0, \"tpr\": 1.0, \"n\": 8}, {\"threshold\": 0.288, \"p\": 42, \"fpr\": 1.0, \"tpr\": 1.0, \"n\": 8}, {\"threshold\": 0.289, \"p\": 42, \"fpr\": 1.0, \"tpr\": 1.0, \"n\": 8}, {\"threshold\": 0.29, \"p\": 42, \"fpr\": 1.0, \"tpr\": 1.0, \"n\": 8}, {\"threshold\": 0.291, \"p\": 42, \"fpr\": 1.0, \"tpr\": 1.0, \"n\": 8}, {\"threshold\": 0.292, \"p\": 42, \"fpr\": 1.0, \"tpr\": 1.0, \"n\": 8}, {\"threshold\": 0.293, \"p\": 42, \"fpr\": 1.0, \"tpr\": 1.0, \"n\": 8}, {\"threshold\": 0.294, \"p\": 42, \"fpr\": 1.0, \"tpr\": 1.0, \"n\": 8}, {\"threshold\": 0.295, \"p\": 42, \"fpr\": 1.0, \"tpr\": 1.0, \"n\": 8}, {\"threshold\": 0.296, \"p\": 42, \"fpr\": 1.0, \"tpr\": 1.0, \"n\": 8}, {\"threshold\": 0.297, \"p\": 42, \"fpr\": 1.0, \"tpr\": 1.0, \"n\": 8}, {\"threshold\": 0.298, \"p\": 42, \"fpr\": 1.0, \"tpr\": 1.0, \"n\": 8}, {\"threshold\": 0.299, \"p\": 42, \"fpr\": 1.0, \"tpr\": 1.0, \"n\": 8}, {\"threshold\": 0.3, \"p\": 42, \"fpr\": 1.0, \"tpr\": 1.0, \"n\": 8}, {\"threshold\": 0.301, \"p\": 42, \"fpr\": 1.0, \"tpr\": 1.0, \"n\": 8}, {\"threshold\": 0.302, \"p\": 42, \"fpr\": 1.0, \"tpr\": 1.0, \"n\": 8}, {\"threshold\": 0.303, \"p\": 42, \"fpr\": 1.0, \"tpr\": 1.0, \"n\": 8}, {\"threshold\": 0.304, \"p\": 42, \"fpr\": 1.0, \"tpr\": 1.0, \"n\": 8}, {\"threshold\": 0.305, \"p\": 42, \"fpr\": 1.0, \"tpr\": 1.0, \"n\": 8}, {\"threshold\": 0.306, \"p\": 42, \"fpr\": 1.0, \"tpr\": 1.0, \"n\": 8}, {\"threshold\": 0.307, \"p\": 42, \"fpr\": 1.0, \"tpr\": 1.0, \"n\": 8}, {\"threshold\": 0.308, \"p\": 42, \"fpr\": 1.0, \"tpr\": 1.0, \"n\": 8}, {\"threshold\": 0.309, \"p\": 42, \"fpr\": 1.0, \"tpr\": 1.0, \"n\": 8}, {\"threshold\": 0.31, \"p\": 42, \"fpr\": 1.0, \"tpr\": 1.0, \"n\": 8}, {\"threshold\": 0.311, \"p\": 42, \"fpr\": 1.0, \"tpr\": 1.0, \"n\": 8}, {\"threshold\": 0.312, \"p\": 42, \"fpr\": 1.0, \"tpr\": 1.0, \"n\": 8}, {\"threshold\": 0.313, \"p\": 42, \"fpr\": 1.0, \"tpr\": 1.0, \"n\": 8}, {\"threshold\": 0.314, \"p\": 42, \"fpr\": 1.0, \"tpr\": 1.0, \"n\": 8}, {\"threshold\": 0.315, \"p\": 42, \"fpr\": 1.0, \"tpr\": 1.0, \"n\": 8}, {\"threshold\": 0.316, \"p\": 42, \"fpr\": 1.0, \"tpr\": 1.0, \"n\": 8}, {\"threshold\": 0.317, \"p\": 42, \"fpr\": 1.0, \"tpr\": 1.0, \"n\": 8}, {\"threshold\": 0.318, \"p\": 42, \"fpr\": 1.0, \"tpr\": 1.0, \"n\": 8}, {\"threshold\": 0.319, \"p\": 42, \"fpr\": 1.0, \"tpr\": 1.0, \"n\": 8}, {\"threshold\": 0.32, \"p\": 42, \"fpr\": 1.0, \"tpr\": 1.0, \"n\": 8}, {\"threshold\": 0.321, \"p\": 42, \"fpr\": 1.0, \"tpr\": 1.0, \"n\": 8}, {\"threshold\": 0.322, \"p\": 42, \"fpr\": 1.0, \"tpr\": 1.0, \"n\": 8}, {\"threshold\": 0.323, \"p\": 42, \"fpr\": 1.0, \"tpr\": 1.0, \"n\": 8}, {\"threshold\": 0.324, \"p\": 42, \"fpr\": 1.0, \"tpr\": 1.0, \"n\": 8}, {\"threshold\": 0.325, \"p\": 42, \"fpr\": 1.0, \"tpr\": 1.0, \"n\": 8}, {\"threshold\": 0.326, \"p\": 42, \"fpr\": 1.0, \"tpr\": 1.0, \"n\": 8}, {\"threshold\": 0.327, \"p\": 42, \"fpr\": 1.0, \"tpr\": 1.0, \"n\": 8}, {\"threshold\": 0.328, \"p\": 42, \"fpr\": 1.0, \"tpr\": 1.0, \"n\": 8}, {\"threshold\": 0.329, \"p\": 42, \"fpr\": 1.0, \"tpr\": 1.0, \"n\": 8}, {\"threshold\": 0.33, \"p\": 42, \"fpr\": 1.0, \"tpr\": 1.0, \"n\": 8}, {\"threshold\": 0.331, \"p\": 42, \"fpr\": 1.0, \"tpr\": 1.0, \"n\": 8}, {\"threshold\": 0.332, \"p\": 42, \"fpr\": 1.0, \"tpr\": 1.0, \"n\": 8}, {\"threshold\": 0.333, \"p\": 42, \"fpr\": 1.0, \"tpr\": 1.0, \"n\": 8}, {\"threshold\": 0.334, \"p\": 42, \"fpr\": 1.0, \"tpr\": 1.0, \"n\": 8}, {\"threshold\": 0.335, \"p\": 42, \"fpr\": 1.0, \"tpr\": 1.0, \"n\": 8}, {\"threshold\": 0.336, \"p\": 42, \"fpr\": 1.0, \"tpr\": 1.0, \"n\": 8}, {\"threshold\": 0.337, \"p\": 42, \"fpr\": 1.0, \"tpr\": 1.0, \"n\": 8}, {\"threshold\": 0.338, \"p\": 42, \"fpr\": 1.0, \"tpr\": 1.0, \"n\": 8}, {\"threshold\": 0.339, \"p\": 42, \"fpr\": 1.0, \"tpr\": 1.0, \"n\": 8}, {\"threshold\": 0.34, \"p\": 42, \"fpr\": 1.0, \"tpr\": 1.0, \"n\": 8}, {\"threshold\": 0.341, \"p\": 42, \"fpr\": 1.0, \"tpr\": 1.0, \"n\": 8}, {\"threshold\": 0.342, \"p\": 42, \"fpr\": 1.0, \"tpr\": 1.0, \"n\": 8}, {\"threshold\": 0.343, \"p\": 42, \"fpr\": 1.0, \"tpr\": 1.0, \"n\": 8}, {\"threshold\": 0.344, \"p\": 42, \"fpr\": 1.0, \"tpr\": 1.0, \"n\": 8}, {\"threshold\": 0.345, \"p\": 42, \"fpr\": 1.0, \"tpr\": 1.0, \"n\": 8}, {\"threshold\": 0.346, \"p\": 42, \"fpr\": 1.0, \"tpr\": 1.0, \"n\": 8}, {\"threshold\": 0.347, \"p\": 42, \"fpr\": 1.0, \"tpr\": 1.0, \"n\": 8}, {\"threshold\": 0.348, \"p\": 42, \"fpr\": 1.0, \"tpr\": 1.0, \"n\": 8}, {\"threshold\": 0.349, \"p\": 42, \"fpr\": 1.0, \"tpr\": 1.0, \"n\": 8}, {\"threshold\": 0.35, \"p\": 42, \"fpr\": 1.0, \"tpr\": 1.0, \"n\": 8}, {\"threshold\": 0.351, \"p\": 42, \"fpr\": 1.0, \"tpr\": 1.0, \"n\": 8}, {\"threshold\": 0.352, \"p\": 42, \"fpr\": 1.0, \"tpr\": 1.0, \"n\": 8}, {\"threshold\": 0.353, \"p\": 42, \"fpr\": 1.0, \"tpr\": 1.0, \"n\": 8}, {\"threshold\": 0.354, \"p\": 42, \"fpr\": 1.0, \"tpr\": 1.0, \"n\": 8}, {\"threshold\": 0.355, \"p\": 42, \"fpr\": 1.0, \"tpr\": 1.0, \"n\": 8}, {\"threshold\": 0.356, \"p\": 42, \"fpr\": 1.0, \"tpr\": 1.0, \"n\": 8}, {\"threshold\": 0.357, \"p\": 42, \"fpr\": 1.0, \"tpr\": 1.0, \"n\": 8}, {\"threshold\": 0.358, \"p\": 42, \"fpr\": 1.0, \"tpr\": 1.0, \"n\": 8}, {\"threshold\": 0.359, \"p\": 42, \"fpr\": 1.0, \"tpr\": 1.0, \"n\": 8}, {\"threshold\": 0.36, \"p\": 42, \"fpr\": 1.0, \"tpr\": 1.0, \"n\": 8}, {\"threshold\": 0.361, \"p\": 42, \"fpr\": 1.0, \"tpr\": 1.0, \"n\": 8}, {\"threshold\": 0.362, \"p\": 42, \"fpr\": 1.0, \"tpr\": 1.0, \"n\": 8}, {\"threshold\": 0.363, \"p\": 42, \"fpr\": 1.0, \"tpr\": 1.0, \"n\": 8}, {\"threshold\": 0.364, \"p\": 42, \"fpr\": 1.0, \"tpr\": 1.0, \"n\": 8}, {\"threshold\": 0.365, \"p\": 42, \"fpr\": 1.0, \"tpr\": 1.0, \"n\": 8}, {\"threshold\": 0.366, \"p\": 42, \"fpr\": 1.0, \"tpr\": 1.0, \"n\": 8}, {\"threshold\": 0.367, \"p\": 42, \"fpr\": 1.0, \"tpr\": 1.0, \"n\": 8}, {\"threshold\": 0.368, \"p\": 42, \"fpr\": 1.0, \"tpr\": 1.0, \"n\": 8}, {\"threshold\": 0.369, \"p\": 42, \"fpr\": 1.0, \"tpr\": 1.0, \"n\": 8}, {\"threshold\": 0.37, \"p\": 42, \"fpr\": 1.0, \"tpr\": 1.0, \"n\": 8}, {\"threshold\": 0.371, \"p\": 42, \"fpr\": 1.0, \"tpr\": 1.0, \"n\": 8}, {\"threshold\": 0.372, \"p\": 42, \"fpr\": 1.0, \"tpr\": 1.0, \"n\": 8}, {\"threshold\": 0.373, \"p\": 42, \"fpr\": 1.0, \"tpr\": 1.0, \"n\": 8}, {\"threshold\": 0.374, \"p\": 42, \"fpr\": 1.0, \"tpr\": 1.0, \"n\": 8}, {\"threshold\": 0.375, \"p\": 42, \"fpr\": 1.0, \"tpr\": 1.0, \"n\": 8}, {\"threshold\": 0.376, \"p\": 42, \"fpr\": 1.0, \"tpr\": 1.0, \"n\": 8}, {\"threshold\": 0.377, \"p\": 42, \"fpr\": 1.0, \"tpr\": 1.0, \"n\": 8}, {\"threshold\": 0.378, \"p\": 42, \"fpr\": 1.0, \"tpr\": 1.0, \"n\": 8}, {\"threshold\": 0.379, \"p\": 42, \"fpr\": 1.0, \"tpr\": 1.0, \"n\": 8}, {\"threshold\": 0.38, \"p\": 42, \"fpr\": 1.0, \"tpr\": 1.0, \"n\": 8}, {\"threshold\": 0.381, \"p\": 42, \"fpr\": 1.0, \"tpr\": 1.0, \"n\": 8}, {\"threshold\": 0.382, \"p\": 42, \"fpr\": 1.0, \"tpr\": 1.0, \"n\": 8}, {\"threshold\": 0.383, \"p\": 42, \"fpr\": 1.0, \"tpr\": 1.0, \"n\": 8}, {\"threshold\": 0.384, \"p\": 42, \"fpr\": 1.0, \"tpr\": 1.0, \"n\": 8}, {\"threshold\": 0.385, \"p\": 42, \"fpr\": 1.0, \"tpr\": 1.0, \"n\": 8}, {\"threshold\": 0.386, \"p\": 42, \"fpr\": 1.0, \"tpr\": 1.0, \"n\": 8}, {\"threshold\": 0.387, \"p\": 42, \"fpr\": 1.0, \"tpr\": 1.0, \"n\": 8}, {\"threshold\": 0.388, \"p\": 42, \"fpr\": 1.0, \"tpr\": 1.0, \"n\": 8}, {\"threshold\": 0.389, \"p\": 42, \"fpr\": 1.0, \"tpr\": 1.0, \"n\": 8}, {\"threshold\": 0.39, \"p\": 42, \"fpr\": 1.0, \"tpr\": 1.0, \"n\": 8}, {\"threshold\": 0.391, \"p\": 42, \"fpr\": 1.0, \"tpr\": 1.0, \"n\": 8}, {\"threshold\": 0.392, \"p\": 42, \"fpr\": 1.0, \"tpr\": 1.0, \"n\": 8}, {\"threshold\": 0.393, \"p\": 42, \"fpr\": 1.0, \"tpr\": 1.0, \"n\": 8}, {\"threshold\": 0.394, \"p\": 42, \"fpr\": 1.0, \"tpr\": 1.0, \"n\": 8}, {\"threshold\": 0.395, \"p\": 42, \"fpr\": 1.0, \"tpr\": 1.0, \"n\": 8}, {\"threshold\": 0.396, \"p\": 42, \"fpr\": 1.0, \"tpr\": 1.0, \"n\": 8}, {\"threshold\": 0.397, \"p\": 42, \"fpr\": 1.0, \"tpr\": 1.0, \"n\": 8}, {\"threshold\": 0.398, \"p\": 42, \"fpr\": 1.0, \"tpr\": 1.0, \"n\": 8}, {\"threshold\": 0.399, \"p\": 42, \"fpr\": 1.0, \"tpr\": 1.0, \"n\": 8}, {\"threshold\": 0.4, \"p\": 42, \"fpr\": 1.0, \"tpr\": 1.0, \"n\": 8}, {\"threshold\": 0.401, \"p\": 42, \"fpr\": 1.0, \"tpr\": 1.0, \"n\": 8}, {\"threshold\": 0.402, \"p\": 42, \"fpr\": 1.0, \"tpr\": 1.0, \"n\": 8}, {\"threshold\": 0.403, \"p\": 42, \"fpr\": 1.0, \"tpr\": 1.0, \"n\": 8}, {\"threshold\": 0.404, \"p\": 42, \"fpr\": 1.0, \"tpr\": 1.0, \"n\": 8}, {\"threshold\": 0.405, \"p\": 42, \"fpr\": 1.0, \"tpr\": 1.0, \"n\": 8}, {\"threshold\": 0.406, \"p\": 42, \"fpr\": 1.0, \"tpr\": 1.0, \"n\": 8}, {\"threshold\": 0.407, \"p\": 42, \"fpr\": 1.0, \"tpr\": 1.0, \"n\": 8}, {\"threshold\": 0.408, \"p\": 42, \"fpr\": 1.0, \"tpr\": 1.0, \"n\": 8}, {\"threshold\": 0.409, \"p\": 42, \"fpr\": 1.0, \"tpr\": 1.0, \"n\": 8}, {\"threshold\": 0.41, \"p\": 42, \"fpr\": 1.0, \"tpr\": 1.0, \"n\": 8}, {\"threshold\": 0.411, \"p\": 42, \"fpr\": 1.0, \"tpr\": 1.0, \"n\": 8}, {\"threshold\": 0.412, \"p\": 42, \"fpr\": 1.0, \"tpr\": 1.0, \"n\": 8}, {\"threshold\": 0.413, \"p\": 42, \"fpr\": 1.0, \"tpr\": 1.0, \"n\": 8}, {\"threshold\": 0.414, \"p\": 42, \"fpr\": 1.0, \"tpr\": 1.0, \"n\": 8}, {\"threshold\": 0.415, \"p\": 42, \"fpr\": 1.0, \"tpr\": 1.0, \"n\": 8}, {\"threshold\": 0.416, \"p\": 42, \"fpr\": 1.0, \"tpr\": 1.0, \"n\": 8}, {\"threshold\": 0.417, \"p\": 42, \"fpr\": 1.0, \"tpr\": 1.0, \"n\": 8}, {\"threshold\": 0.418, \"p\": 42, \"fpr\": 1.0, \"tpr\": 1.0, \"n\": 8}, {\"threshold\": 0.419, \"p\": 42, \"fpr\": 1.0, \"tpr\": 1.0, \"n\": 8}, {\"threshold\": 0.42, \"p\": 42, \"fpr\": 1.0, \"tpr\": 1.0, \"n\": 8}, {\"threshold\": 0.421, \"p\": 42, \"fpr\": 1.0, \"tpr\": 1.0, \"n\": 8}, {\"threshold\": 0.422, \"p\": 42, \"fpr\": 1.0, \"tpr\": 1.0, \"n\": 8}, {\"threshold\": 0.423, \"p\": 42, \"fpr\": 1.0, \"tpr\": 1.0, \"n\": 8}, {\"threshold\": 0.424, \"p\": 42, \"fpr\": 1.0, \"tpr\": 1.0, \"n\": 8}, {\"threshold\": 0.425, \"p\": 42, \"fpr\": 1.0, \"tpr\": 1.0, \"n\": 8}, {\"threshold\": 0.426, \"p\": 42, \"fpr\": 1.0, \"tpr\": 1.0, \"n\": 8}, {\"threshold\": 0.427, \"p\": 42, \"fpr\": 1.0, \"tpr\": 1.0, \"n\": 8}, {\"threshold\": 0.428, \"p\": 42, \"fpr\": 1.0, \"tpr\": 1.0, \"n\": 8}, {\"threshold\": 0.429, \"p\": 42, \"fpr\": 1.0, \"tpr\": 1.0, \"n\": 8}, {\"threshold\": 0.43, \"p\": 42, \"fpr\": 1.0, \"tpr\": 1.0, \"n\": 8}, {\"threshold\": 0.431, \"p\": 42, \"fpr\": 1.0, \"tpr\": 1.0, \"n\": 8}, {\"threshold\": 0.432, \"p\": 42, \"fpr\": 1.0, \"tpr\": 1.0, \"n\": 8}, {\"threshold\": 0.433, \"p\": 42, \"fpr\": 1.0, \"tpr\": 1.0, \"n\": 8}, {\"threshold\": 0.434, \"p\": 42, \"fpr\": 1.0, \"tpr\": 1.0, \"n\": 8}, {\"threshold\": 0.435, \"p\": 42, \"fpr\": 1.0, \"tpr\": 1.0, \"n\": 8}, {\"threshold\": 0.436, \"p\": 42, \"fpr\": 1.0, \"tpr\": 1.0, \"n\": 8}, {\"threshold\": 0.437, \"p\": 42, \"fpr\": 1.0, \"tpr\": 1.0, \"n\": 8}, {\"threshold\": 0.438, \"p\": 42, \"fpr\": 1.0, \"tpr\": 1.0, \"n\": 8}, {\"threshold\": 0.439, \"p\": 42, \"fpr\": 1.0, \"tpr\": 1.0, \"n\": 8}, {\"threshold\": 0.44, \"p\": 42, \"fpr\": 1.0, \"tpr\": 1.0, \"n\": 8}, {\"threshold\": 0.441, \"p\": 42, \"fpr\": 1.0, \"tpr\": 1.0, \"n\": 8}, {\"threshold\": 0.442, \"p\": 42, \"fpr\": 1.0, \"tpr\": 1.0, \"n\": 8}, {\"threshold\": 0.443, \"p\": 42, \"fpr\": 1.0, \"tpr\": 1.0, \"n\": 8}, {\"threshold\": 0.444, \"p\": 42, \"fpr\": 1.0, \"tpr\": 1.0, \"n\": 8}, {\"threshold\": 0.445, \"p\": 42, \"fpr\": 1.0, \"tpr\": 1.0, \"n\": 8}, {\"threshold\": 0.446, \"p\": 42, \"fpr\": 1.0, \"tpr\": 1.0, \"n\": 8}, {\"threshold\": 0.447, \"p\": 42, \"fpr\": 1.0, \"tpr\": 1.0, \"n\": 8}, {\"threshold\": 0.448, \"p\": 42, \"fpr\": 1.0, \"tpr\": 1.0, \"n\": 8}, {\"threshold\": 0.449, \"p\": 42, \"fpr\": 1.0, \"tpr\": 1.0, \"n\": 8}, {\"threshold\": 0.45, \"p\": 42, \"fpr\": 1.0, \"tpr\": 1.0, \"n\": 8}, {\"threshold\": 0.451, \"p\": 42, \"fpr\": 1.0, \"tpr\": 1.0, \"n\": 8}, {\"threshold\": 0.452, \"p\": 42, \"fpr\": 1.0, \"tpr\": 1.0, \"n\": 8}, {\"threshold\": 0.453, \"p\": 42, \"fpr\": 1.0, \"tpr\": 1.0, \"n\": 8}, {\"threshold\": 0.454, \"p\": 42, \"fpr\": 1.0, \"tpr\": 1.0, \"n\": 8}, {\"threshold\": 0.455, \"p\": 42, \"fpr\": 1.0, \"tpr\": 1.0, \"n\": 8}, {\"threshold\": 0.456, \"p\": 42, \"fpr\": 1.0, \"tpr\": 1.0, \"n\": 8}, {\"threshold\": 0.457, \"p\": 42, \"fpr\": 1.0, \"tpr\": 1.0, \"n\": 8}, {\"threshold\": 0.458, \"p\": 42, \"fpr\": 1.0, \"tpr\": 1.0, \"n\": 8}, {\"threshold\": 0.459, \"p\": 42, \"fpr\": 1.0, \"tpr\": 1.0, \"n\": 8}, {\"threshold\": 0.46, \"p\": 42, \"fpr\": 1.0, \"tpr\": 1.0, \"n\": 8}, {\"threshold\": 0.461, \"p\": 42, \"fpr\": 1.0, \"tpr\": 1.0, \"n\": 8}, {\"threshold\": 0.462, \"p\": 42, \"fpr\": 1.0, \"tpr\": 1.0, \"n\": 8}, {\"threshold\": 0.463, \"p\": 42, \"fpr\": 1.0, \"tpr\": 1.0, \"n\": 8}, {\"threshold\": 0.464, \"p\": 42, \"fpr\": 1.0, \"tpr\": 1.0, \"n\": 8}, {\"threshold\": 0.465, \"p\": 42, \"fpr\": 1.0, \"tpr\": 1.0, \"n\": 8}, {\"threshold\": 0.466, \"p\": 42, \"fpr\": 1.0, \"tpr\": 1.0, \"n\": 8}, {\"threshold\": 0.467, \"p\": 42, \"fpr\": 1.0, \"tpr\": 1.0, \"n\": 8}, {\"threshold\": 0.468, \"p\": 42, \"fpr\": 1.0, \"tpr\": 1.0, \"n\": 8}, {\"threshold\": 0.469, \"p\": 42, \"fpr\": 1.0, \"tpr\": 1.0, \"n\": 8}, {\"threshold\": 0.47, \"p\": 42, \"fpr\": 1.0, \"tpr\": 1.0, \"n\": 8}, {\"threshold\": 0.471, \"p\": 42, \"fpr\": 1.0, \"tpr\": 1.0, \"n\": 8}, {\"threshold\": 0.472, \"p\": 42, \"fpr\": 1.0, \"tpr\": 1.0, \"n\": 8}, {\"threshold\": 0.473, \"p\": 42, \"fpr\": 1.0, \"tpr\": 1.0, \"n\": 8}, {\"threshold\": 0.474, \"p\": 42, \"fpr\": 1.0, \"tpr\": 1.0, \"n\": 8}, {\"threshold\": 0.475, \"p\": 42, \"fpr\": 1.0, \"tpr\": 1.0, \"n\": 8}, {\"threshold\": 0.476, \"p\": 42, \"fpr\": 1.0, \"tpr\": 1.0, \"n\": 8}, {\"threshold\": 0.477, \"p\": 42, \"fpr\": 1.0, \"tpr\": 1.0, \"n\": 8}, {\"threshold\": 0.478, \"p\": 42, \"fpr\": 1.0, \"tpr\": 1.0, \"n\": 8}, {\"threshold\": 0.479, \"p\": 42, \"fpr\": 1.0, \"tpr\": 1.0, \"n\": 8}, {\"threshold\": 0.48, \"p\": 42, \"fpr\": 1.0, \"tpr\": 1.0, \"n\": 8}, {\"threshold\": 0.481, \"p\": 42, \"fpr\": 1.0, \"tpr\": 1.0, \"n\": 8}, {\"threshold\": 0.482, \"p\": 42, \"fpr\": 1.0, \"tpr\": 1.0, \"n\": 8}, {\"threshold\": 0.483, \"p\": 42, \"fpr\": 1.0, \"tpr\": 1.0, \"n\": 8}, {\"threshold\": 0.484, \"p\": 42, \"fpr\": 1.0, \"tpr\": 1.0, \"n\": 8}, {\"threshold\": 0.485, \"p\": 42, \"fpr\": 1.0, \"tpr\": 1.0, \"n\": 8}, {\"threshold\": 0.486, \"p\": 42, \"fpr\": 1.0, \"tpr\": 1.0, \"n\": 8}, {\"threshold\": 0.487, \"p\": 42, \"fpr\": 1.0, \"tpr\": 1.0, \"n\": 8}, {\"threshold\": 0.488, \"p\": 42, \"fpr\": 1.0, \"tpr\": 1.0, \"n\": 8}, {\"threshold\": 0.489, \"p\": 42, \"fpr\": 1.0, \"tpr\": 1.0, \"n\": 8}, {\"threshold\": 0.49, \"p\": 42, \"fpr\": 1.0, \"tpr\": 1.0, \"n\": 8}, {\"threshold\": 0.491, \"p\": 42, \"fpr\": 1.0, \"tpr\": 1.0, \"n\": 8}, {\"threshold\": 0.492, \"p\": 42, \"fpr\": 1.0, \"tpr\": 1.0, \"n\": 8}, {\"threshold\": 0.493, \"p\": 42, \"fpr\": 1.0, \"tpr\": 1.0, \"n\": 8}, {\"threshold\": 0.494, \"p\": 42, \"fpr\": 1.0, \"tpr\": 1.0, \"n\": 8}, {\"threshold\": 0.495, \"p\": 42, \"fpr\": 1.0, \"tpr\": 1.0, \"n\": 8}, {\"threshold\": 0.496, \"p\": 42, \"fpr\": 1.0, \"tpr\": 1.0, \"n\": 8}, {\"threshold\": 0.497, \"p\": 42, \"fpr\": 1.0, \"tpr\": 1.0, \"n\": 8}, {\"threshold\": 0.498, \"p\": 42, \"fpr\": 1.0, \"tpr\": 1.0, \"n\": 8}, {\"threshold\": 0.499, \"p\": 42, \"fpr\": 1.0, \"tpr\": 1.0, \"n\": 8}, {\"threshold\": 0.5, \"p\": 42, \"fpr\": 1.0, \"tpr\": 1.0, \"n\": 8}, {\"threshold\": 0.501, \"p\": 42, \"fpr\": 1.0, \"tpr\": 1.0, \"n\": 8}, {\"threshold\": 0.502, \"p\": 42, \"fpr\": 1.0, \"tpr\": 1.0, \"n\": 8}, {\"threshold\": 0.503, \"p\": 42, \"fpr\": 1.0, \"tpr\": 1.0, \"n\": 8}, {\"threshold\": 0.504, \"p\": 42, \"fpr\": 1.0, \"tpr\": 1.0, \"n\": 8}, {\"threshold\": 0.505, \"p\": 42, \"fpr\": 1.0, \"tpr\": 1.0, \"n\": 8}, {\"threshold\": 0.506, \"p\": 42, \"fpr\": 1.0, \"tpr\": 1.0, \"n\": 8}, {\"threshold\": 0.507, \"p\": 42, \"fpr\": 1.0, \"tpr\": 1.0, \"n\": 8}, {\"threshold\": 0.508, \"p\": 42, \"fpr\": 1.0, \"tpr\": 1.0, \"n\": 8}, {\"threshold\": 0.509, \"p\": 42, \"fpr\": 1.0, \"tpr\": 1.0, \"n\": 8}, {\"threshold\": 0.51, \"p\": 42, \"fpr\": 1.0, \"tpr\": 1.0, \"n\": 8}, {\"threshold\": 0.511, \"p\": 42, \"fpr\": 1.0, \"tpr\": 1.0, \"n\": 8}, {\"threshold\": 0.512, \"p\": 42, \"fpr\": 1.0, \"tpr\": 1.0, \"n\": 8}, {\"threshold\": 0.513, \"p\": 42, \"fpr\": 1.0, \"tpr\": 1.0, \"n\": 8}, {\"threshold\": 0.514, \"p\": 42, \"fpr\": 1.0, \"tpr\": 1.0, \"n\": 8}, {\"threshold\": 0.515, \"p\": 42, \"fpr\": 1.0, \"tpr\": 1.0, \"n\": 8}, {\"threshold\": 0.516, \"p\": 42, \"fpr\": 1.0, \"tpr\": 1.0, \"n\": 8}, {\"threshold\": 0.517, \"p\": 42, \"fpr\": 1.0, \"tpr\": 1.0, \"n\": 8}, {\"threshold\": 0.518, \"p\": 42, \"fpr\": 1.0, \"tpr\": 1.0, \"n\": 8}, {\"threshold\": 0.519, \"p\": 42, \"fpr\": 1.0, \"tpr\": 1.0, \"n\": 8}, {\"threshold\": 0.52, \"p\": 42, \"fpr\": 1.0, \"tpr\": 1.0, \"n\": 8}, {\"threshold\": 0.521, \"p\": 42, \"fpr\": 1.0, \"tpr\": 1.0, \"n\": 8}, {\"threshold\": 0.522, \"p\": 42, \"fpr\": 1.0, \"tpr\": 1.0, \"n\": 8}, {\"threshold\": 0.523, \"p\": 42, \"fpr\": 1.0, \"tpr\": 1.0, \"n\": 8}, {\"threshold\": 0.524, \"p\": 42, \"fpr\": 1.0, \"tpr\": 1.0, \"n\": 8}, {\"threshold\": 0.525, \"p\": 42, \"fpr\": 1.0, \"tpr\": 1.0, \"n\": 8}, {\"threshold\": 0.526, \"p\": 42, \"fpr\": 1.0, \"tpr\": 1.0, \"n\": 8}, {\"threshold\": 0.527, \"p\": 42, \"fpr\": 1.0, \"tpr\": 1.0, \"n\": 8}, {\"threshold\": 0.528, \"p\": 42, \"fpr\": 1.0, \"tpr\": 1.0, \"n\": 8}, {\"threshold\": 0.529, \"p\": 42, \"fpr\": 1.0, \"tpr\": 1.0, \"n\": 8}, {\"threshold\": 0.53, \"p\": 42, \"fpr\": 1.0, \"tpr\": 1.0, \"n\": 8}, {\"threshold\": 0.531, \"p\": 42, \"fpr\": 1.0, \"tpr\": 1.0, \"n\": 8}, {\"threshold\": 0.532, \"p\": 42, \"fpr\": 1.0, \"tpr\": 1.0, \"n\": 8}, {\"threshold\": 0.533, \"p\": 42, \"fpr\": 1.0, \"tpr\": 1.0, \"n\": 8}, {\"threshold\": 0.534, \"p\": 42, \"fpr\": 1.0, \"tpr\": 1.0, \"n\": 8}, {\"threshold\": 0.535, \"p\": 42, \"fpr\": 1.0, \"tpr\": 1.0, \"n\": 8}, {\"threshold\": 0.536, \"p\": 42, \"fpr\": 1.0, \"tpr\": 1.0, \"n\": 8}, {\"threshold\": 0.537, \"p\": 42, \"fpr\": 1.0, \"tpr\": 1.0, \"n\": 8}, {\"threshold\": 0.538, \"p\": 42, \"fpr\": 1.0, \"tpr\": 1.0, \"n\": 8}, {\"threshold\": 0.539, \"p\": 42, \"fpr\": 1.0, \"tpr\": 1.0, \"n\": 8}, {\"threshold\": 0.54, \"p\": 42, \"fpr\": 1.0, \"tpr\": 1.0, \"n\": 8}, {\"threshold\": 0.541, \"p\": 42, \"fpr\": 1.0, \"tpr\": 1.0, \"n\": 8}, {\"threshold\": 0.542, \"p\": 42, \"fpr\": 1.0, \"tpr\": 1.0, \"n\": 8}, {\"threshold\": 0.543, \"p\": 42, \"fpr\": 1.0, \"tpr\": 1.0, \"n\": 8}, {\"threshold\": 0.544, \"p\": 42, \"fpr\": 1.0, \"tpr\": 1.0, \"n\": 8}, {\"threshold\": 0.545, \"p\": 42, \"fpr\": 1.0, \"tpr\": 1.0, \"n\": 8}, {\"threshold\": 0.546, \"p\": 42, \"fpr\": 1.0, \"tpr\": 1.0, \"n\": 8}, {\"threshold\": 0.547, \"p\": 42, \"fpr\": 1.0, \"tpr\": 1.0, \"n\": 8}, {\"threshold\": 0.548, \"p\": 42, \"fpr\": 1.0, \"tpr\": 1.0, \"n\": 8}, {\"threshold\": 0.549, \"p\": 42, \"fpr\": 1.0, \"tpr\": 1.0, \"n\": 8}, {\"threshold\": 0.55, \"p\": 42, \"fpr\": 1.0, \"tpr\": 1.0, \"n\": 8}, {\"threshold\": 0.551, \"p\": 42, \"fpr\": 1.0, \"tpr\": 1.0, \"n\": 8}, {\"threshold\": 0.552, \"p\": 42, \"fpr\": 1.0, \"tpr\": 1.0, \"n\": 8}, {\"threshold\": 0.553, \"p\": 42, \"fpr\": 1.0, \"tpr\": 1.0, \"n\": 8}, {\"threshold\": 0.554, \"p\": 42, \"fpr\": 1.0, \"tpr\": 1.0, \"n\": 8}, {\"threshold\": 0.555, \"p\": 42, \"fpr\": 1.0, \"tpr\": 1.0, \"n\": 8}, {\"threshold\": 0.556, \"p\": 42, \"fpr\": 1.0, \"tpr\": 1.0, \"n\": 8}, {\"threshold\": 0.557, \"p\": 42, \"fpr\": 1.0, \"tpr\": 1.0, \"n\": 8}, {\"threshold\": 0.558, \"p\": 42, \"fpr\": 1.0, \"tpr\": 1.0, \"n\": 8}, {\"threshold\": 0.559, \"p\": 42, \"fpr\": 1.0, \"tpr\": 1.0, \"n\": 8}, {\"threshold\": 0.56, \"p\": 42, \"fpr\": 1.0, \"tpr\": 1.0, \"n\": 8}, {\"threshold\": 0.561, \"p\": 42, \"fpr\": 1.0, \"tpr\": 1.0, \"n\": 8}, {\"threshold\": 0.562, \"p\": 42, \"fpr\": 1.0, \"tpr\": 1.0, \"n\": 8}, {\"threshold\": 0.563, \"p\": 42, \"fpr\": 1.0, \"tpr\": 1.0, \"n\": 8}, {\"threshold\": 0.564, \"p\": 42, \"fpr\": 1.0, \"tpr\": 1.0, \"n\": 8}, {\"threshold\": 0.565, \"p\": 42, \"fpr\": 1.0, \"tpr\": 1.0, \"n\": 8}, {\"threshold\": 0.566, \"p\": 42, \"fpr\": 1.0, \"tpr\": 1.0, \"n\": 8}, {\"threshold\": 0.567, \"p\": 42, \"fpr\": 1.0, \"tpr\": 1.0, \"n\": 8}, {\"threshold\": 0.568, \"p\": 42, \"fpr\": 1.0, \"tpr\": 1.0, \"n\": 8}, {\"threshold\": 0.569, \"p\": 42, \"fpr\": 1.0, \"tpr\": 1.0, \"n\": 8}, {\"threshold\": 0.57, \"p\": 42, \"fpr\": 1.0, \"tpr\": 1.0, \"n\": 8}, {\"threshold\": 0.571, \"p\": 42, \"fpr\": 1.0, \"tpr\": 1.0, \"n\": 8}, {\"threshold\": 0.572, \"p\": 42, \"fpr\": 1.0, \"tpr\": 1.0, \"n\": 8}, {\"threshold\": 0.573, \"p\": 42, \"fpr\": 1.0, \"tpr\": 1.0, \"n\": 8}, {\"threshold\": 0.574, \"p\": 42, \"fpr\": 1.0, \"tpr\": 1.0, \"n\": 8}, {\"threshold\": 0.575, \"p\": 42, \"fpr\": 1.0, \"tpr\": 1.0, \"n\": 8}, {\"threshold\": 0.576, \"p\": 42, \"fpr\": 1.0, \"tpr\": 1.0, \"n\": 8}, {\"threshold\": 0.577, \"p\": 42, \"fpr\": 1.0, \"tpr\": 1.0, \"n\": 8}, {\"threshold\": 0.578, \"p\": 42, \"fpr\": 1.0, \"tpr\": 1.0, \"n\": 8}, {\"threshold\": 0.579, \"p\": 42, \"fpr\": 1.0, \"tpr\": 1.0, \"n\": 8}, {\"threshold\": 0.58, \"p\": 42, \"fpr\": 1.0, \"tpr\": 1.0, \"n\": 8}, {\"threshold\": 0.581, \"p\": 42, \"fpr\": 1.0, \"tpr\": 1.0, \"n\": 8}, {\"threshold\": 0.582, \"p\": 42, \"fpr\": 1.0, \"tpr\": 1.0, \"n\": 8}, {\"threshold\": 0.583, \"p\": 42, \"fpr\": 1.0, \"tpr\": 1.0, \"n\": 8}, {\"threshold\": 0.584, \"p\": 42, \"fpr\": 1.0, \"tpr\": 1.0, \"n\": 8}, {\"threshold\": 0.585, \"p\": 42, \"fpr\": 1.0, \"tpr\": 1.0, \"n\": 8}, {\"threshold\": 0.586, \"p\": 42, \"fpr\": 1.0, \"tpr\": 1.0, \"n\": 8}, {\"threshold\": 0.587, \"p\": 42, \"fpr\": 1.0, \"tpr\": 1.0, \"n\": 8}, {\"threshold\": 0.588, \"p\": 42, \"fpr\": 0.875, \"tpr\": 1.0, \"n\": 8}, {\"threshold\": 0.589, \"p\": 42, \"fpr\": 0.875, \"tpr\": 1.0, \"n\": 8}, {\"threshold\": 0.59, \"p\": 42, \"fpr\": 0.875, \"tpr\": 1.0, \"n\": 8}, {\"threshold\": 0.591, \"p\": 42, \"fpr\": 0.875, \"tpr\": 1.0, \"n\": 8}, {\"threshold\": 0.592, \"p\": 42, \"fpr\": 0.875, \"tpr\": 1.0, \"n\": 8}, {\"threshold\": 0.593, \"p\": 42, \"fpr\": 0.875, \"tpr\": 1.0, \"n\": 8}, {\"threshold\": 0.594, \"p\": 42, \"fpr\": 0.875, \"tpr\": 1.0, \"n\": 8}, {\"threshold\": 0.595, \"p\": 42, \"fpr\": 0.875, \"tpr\": 1.0, \"n\": 8}, {\"threshold\": 0.596, \"p\": 42, \"fpr\": 0.875, \"tpr\": 1.0, \"n\": 8}, {\"threshold\": 0.597, \"p\": 42, \"fpr\": 0.875, \"tpr\": 1.0, \"n\": 8}, {\"threshold\": 0.598, \"p\": 42, \"fpr\": 0.875, \"tpr\": 1.0, \"n\": 8}, {\"threshold\": 0.599, \"p\": 42, \"fpr\": 0.875, \"tpr\": 1.0, \"n\": 8}, {\"threshold\": 0.6, \"p\": 42, \"fpr\": 0.875, \"tpr\": 1.0, \"n\": 8}, {\"threshold\": 0.601, \"p\": 42, \"fpr\": 0.875, \"tpr\": 1.0, \"n\": 8}, {\"threshold\": 0.602, \"p\": 42, \"fpr\": 0.875, \"tpr\": 1.0, \"n\": 8}, {\"threshold\": 0.603, \"p\": 42, \"fpr\": 0.875, \"tpr\": 1.0, \"n\": 8}, {\"threshold\": 0.604, \"p\": 42, \"fpr\": 0.875, \"tpr\": 1.0, \"n\": 8}, {\"threshold\": 0.605, \"p\": 42, \"fpr\": 0.875, \"tpr\": 1.0, \"n\": 8}, {\"threshold\": 0.606, \"p\": 42, \"fpr\": 0.875, \"tpr\": 1.0, \"n\": 8}, {\"threshold\": 0.607, \"p\": 42, \"fpr\": 0.875, \"tpr\": 1.0, \"n\": 8}, {\"threshold\": 0.608, \"p\": 42, \"fpr\": 0.875, \"tpr\": 1.0, \"n\": 8}, {\"threshold\": 0.609, \"p\": 42, \"fpr\": 0.875, \"tpr\": 1.0, \"n\": 8}, {\"threshold\": 0.61, \"p\": 42, \"fpr\": 0.875, \"tpr\": 1.0, \"n\": 8}, {\"threshold\": 0.611, \"p\": 42, \"fpr\": 0.875, \"tpr\": 1.0, \"n\": 8}, {\"threshold\": 0.612, \"p\": 42, \"fpr\": 0.875, \"tpr\": 1.0, \"n\": 8}, {\"threshold\": 0.613, \"p\": 42, \"fpr\": 0.875, \"tpr\": 1.0, \"n\": 8}, {\"threshold\": 0.614, \"p\": 42, \"fpr\": 0.875, \"tpr\": 1.0, \"n\": 8}, {\"threshold\": 0.615, \"p\": 42, \"fpr\": 0.875, \"tpr\": 1.0, \"n\": 8}, {\"threshold\": 0.616, \"p\": 42, \"fpr\": 0.875, \"tpr\": 1.0, \"n\": 8}, {\"threshold\": 0.617, \"p\": 42, \"fpr\": 0.875, \"tpr\": 1.0, \"n\": 8}, {\"threshold\": 0.618, \"p\": 42, \"fpr\": 0.875, \"tpr\": 1.0, \"n\": 8}, {\"threshold\": 0.619, \"p\": 42, \"fpr\": 0.875, \"tpr\": 1.0, \"n\": 8}, {\"threshold\": 0.62, \"p\": 42, \"fpr\": 0.875, \"tpr\": 1.0, \"n\": 8}, {\"threshold\": 0.621, \"p\": 42, \"fpr\": 0.875, \"tpr\": 1.0, \"n\": 8}, {\"threshold\": 0.622, \"p\": 42, \"fpr\": 0.875, \"tpr\": 1.0, \"n\": 8}, {\"threshold\": 0.623, \"p\": 42, \"fpr\": 0.875, \"tpr\": 1.0, \"n\": 8}, {\"threshold\": 0.624, \"p\": 42, \"fpr\": 0.875, \"tpr\": 1.0, \"n\": 8}, {\"threshold\": 0.625, \"p\": 42, \"fpr\": 0.875, \"tpr\": 1.0, \"n\": 8}, {\"threshold\": 0.626, \"p\": 42, \"fpr\": 0.875, \"tpr\": 1.0, \"n\": 8}, {\"threshold\": 0.627, \"p\": 42, \"fpr\": 0.875, \"tpr\": 1.0, \"n\": 8}, {\"threshold\": 0.628, \"p\": 42, \"fpr\": 0.875, \"tpr\": 1.0, \"n\": 8}, {\"threshold\": 0.629, \"p\": 42, \"fpr\": 0.875, \"tpr\": 1.0, \"n\": 8}, {\"threshold\": 0.63, \"p\": 42, \"fpr\": 0.875, \"tpr\": 1.0, \"n\": 8}, {\"threshold\": 0.631, \"p\": 42, \"fpr\": 0.875, \"tpr\": 1.0, \"n\": 8}, {\"threshold\": 0.632, \"p\": 42, \"fpr\": 0.875, \"tpr\": 1.0, \"n\": 8}, {\"threshold\": 0.633, \"p\": 42, \"fpr\": 0.875, \"tpr\": 1.0, \"n\": 8}, {\"threshold\": 0.634, \"p\": 42, \"fpr\": 0.875, \"tpr\": 1.0, \"n\": 8}, {\"threshold\": 0.635, \"p\": 42, \"fpr\": 0.875, \"tpr\": 1.0, \"n\": 8}, {\"threshold\": 0.636, \"p\": 42, \"fpr\": 0.875, \"tpr\": 1.0, \"n\": 8}, {\"threshold\": 0.637, \"p\": 42, \"fpr\": 0.875, \"tpr\": 1.0, \"n\": 8}, {\"threshold\": 0.638, \"p\": 42, \"fpr\": 0.875, \"tpr\": 1.0, \"n\": 8}, {\"threshold\": 0.639, \"p\": 42, \"fpr\": 0.875, \"tpr\": 1.0, \"n\": 8}, {\"threshold\": 0.64, \"p\": 42, \"fpr\": 0.875, \"tpr\": 1.0, \"n\": 8}, {\"threshold\": 0.641, \"p\": 42, \"fpr\": 0.875, \"tpr\": 1.0, \"n\": 8}, {\"threshold\": 0.642, \"p\": 42, \"fpr\": 0.875, \"tpr\": 1.0, \"n\": 8}, {\"threshold\": 0.643, \"p\": 42, \"fpr\": 0.875, \"tpr\": 1.0, \"n\": 8}, {\"threshold\": 0.644, \"p\": 42, \"fpr\": 0.875, \"tpr\": 1.0, \"n\": 8}, {\"threshold\": 0.645, \"p\": 42, \"fpr\": 0.875, \"tpr\": 1.0, \"n\": 8}, {\"threshold\": 0.646, \"p\": 42, \"fpr\": 0.875, \"tpr\": 1.0, \"n\": 8}, {\"threshold\": 0.647, \"p\": 42, \"fpr\": 0.875, \"tpr\": 1.0, \"n\": 8}, {\"threshold\": 0.648, \"p\": 42, \"fpr\": 0.875, \"tpr\": 1.0, \"n\": 8}, {\"threshold\": 0.649, \"p\": 42, \"fpr\": 0.875, \"tpr\": 1.0, \"n\": 8}, {\"threshold\": 0.65, \"p\": 42, \"fpr\": 0.875, \"tpr\": 1.0, \"n\": 8}, {\"threshold\": 0.651, \"p\": 42, \"fpr\": 0.875, \"tpr\": 1.0, \"n\": 8}, {\"threshold\": 0.652, \"p\": 42, \"fpr\": 0.875, \"tpr\": 1.0, \"n\": 8}, {\"threshold\": 0.653, \"p\": 42, \"fpr\": 0.875, \"tpr\": 1.0, \"n\": 8}, {\"threshold\": 0.654, \"p\": 42, \"fpr\": 0.875, \"tpr\": 1.0, \"n\": 8}, {\"threshold\": 0.655, \"p\": 42, \"fpr\": 0.875, \"tpr\": 1.0, \"n\": 8}, {\"threshold\": 0.656, \"p\": 42, \"fpr\": 0.875, \"tpr\": 1.0, \"n\": 8}, {\"threshold\": 0.657, \"p\": 42, \"fpr\": 0.875, \"tpr\": 1.0, \"n\": 8}, {\"threshold\": 0.658, \"p\": 42, \"fpr\": 0.875, \"tpr\": 1.0, \"n\": 8}, {\"threshold\": 0.659, \"p\": 42, \"fpr\": 0.875, \"tpr\": 1.0, \"n\": 8}, {\"threshold\": 0.66, \"p\": 42, \"fpr\": 0.875, \"tpr\": 1.0, \"n\": 8}, {\"threshold\": 0.661, \"p\": 42, \"fpr\": 0.875, \"tpr\": 1.0, \"n\": 8}, {\"threshold\": 0.662, \"p\": 42, \"fpr\": 0.875, \"tpr\": 1.0, \"n\": 8}, {\"threshold\": 0.663, \"p\": 42, \"fpr\": 0.875, \"tpr\": 1.0, \"n\": 8}, {\"threshold\": 0.664, \"p\": 42, \"fpr\": 0.875, \"tpr\": 1.0, \"n\": 8}, {\"threshold\": 0.665, \"p\": 42, \"fpr\": 0.875, \"tpr\": 1.0, \"n\": 8}, {\"threshold\": 0.666, \"p\": 42, \"fpr\": 0.875, \"tpr\": 1.0, \"n\": 8}, {\"threshold\": 0.667, \"p\": 42, \"fpr\": 0.875, \"tpr\": 1.0, \"n\": 8}, {\"threshold\": 0.668, \"p\": 42, \"fpr\": 0.875, \"tpr\": 1.0, \"n\": 8}, {\"threshold\": 0.669, \"p\": 42, \"fpr\": 0.875, \"tpr\": 1.0, \"n\": 8}, {\"threshold\": 0.67, \"p\": 42, \"fpr\": 0.875, \"tpr\": 1.0, \"n\": 8}, {\"threshold\": 0.671, \"p\": 42, \"fpr\": 0.875, \"tpr\": 1.0, \"n\": 8}, {\"threshold\": 0.672, \"p\": 42, \"fpr\": 0.875, \"tpr\": 1.0, \"n\": 8}, {\"threshold\": 0.673, \"p\": 42, \"fpr\": 0.875, \"tpr\": 1.0, \"n\": 8}, {\"threshold\": 0.674, \"p\": 42, \"fpr\": 0.875, \"tpr\": 1.0, \"n\": 8}, {\"threshold\": 0.675, \"p\": 42, \"fpr\": 0.875, \"tpr\": 1.0, \"n\": 8}, {\"threshold\": 0.676, \"p\": 42, \"fpr\": 0.875, \"tpr\": 1.0, \"n\": 8}, {\"threshold\": 0.677, \"p\": 42, \"fpr\": 0.875, \"tpr\": 1.0, \"n\": 8}, {\"threshold\": 0.678, \"p\": 42, \"fpr\": 0.875, \"tpr\": 1.0, \"n\": 8}, {\"threshold\": 0.679, \"p\": 42, \"fpr\": 0.875, \"tpr\": 1.0, \"n\": 8}, {\"threshold\": 0.68, \"p\": 42, \"fpr\": 0.875, \"tpr\": 1.0, \"n\": 8}, {\"threshold\": 0.681, \"p\": 42, \"fpr\": 0.875, \"tpr\": 1.0, \"n\": 8}, {\"threshold\": 0.682, \"p\": 42, \"fpr\": 0.875, \"tpr\": 1.0, \"n\": 8}, {\"threshold\": 0.683, \"p\": 42, \"fpr\": 0.875, \"tpr\": 1.0, \"n\": 8}, {\"threshold\": 0.684, \"p\": 42, \"fpr\": 0.875, \"tpr\": 1.0, \"n\": 8}, {\"threshold\": 0.685, \"p\": 42, \"fpr\": 0.875, \"tpr\": 1.0, \"n\": 8}, {\"threshold\": 0.686, \"p\": 42, \"fpr\": 0.875, \"tpr\": 1.0, \"n\": 8}, {\"threshold\": 0.687, \"p\": 42, \"fpr\": 0.875, \"tpr\": 1.0, \"n\": 8}, {\"threshold\": 0.688, \"p\": 42, \"fpr\": 0.875, \"tpr\": 1.0, \"n\": 8}, {\"threshold\": 0.689, \"p\": 42, \"fpr\": 0.875, \"tpr\": 1.0, \"n\": 8}, {\"threshold\": 0.69, \"p\": 42, \"fpr\": 0.875, \"tpr\": 1.0, \"n\": 8}, {\"threshold\": 0.691, \"p\": 42, \"fpr\": 0.875, \"tpr\": 1.0, \"n\": 8}, {\"threshold\": 0.692, \"p\": 42, \"fpr\": 0.875, \"tpr\": 1.0, \"n\": 8}, {\"threshold\": 0.693, \"p\": 42, \"fpr\": 0.875, \"tpr\": 1.0, \"n\": 8}, {\"threshold\": 0.694, \"p\": 42, \"fpr\": 0.875, \"tpr\": 1.0, \"n\": 8}, {\"threshold\": 0.695, \"p\": 42, \"fpr\": 0.875, \"tpr\": 1.0, \"n\": 8}, {\"threshold\": 0.696, \"p\": 42, \"fpr\": 0.875, \"tpr\": 1.0, \"n\": 8}, {\"threshold\": 0.697, \"p\": 42, \"fpr\": 0.875, \"tpr\": 1.0, \"n\": 8}, {\"threshold\": 0.698, \"p\": 42, \"fpr\": 0.875, \"tpr\": 1.0, \"n\": 8}, {\"threshold\": 0.699, \"p\": 42, \"fpr\": 0.875, \"tpr\": 1.0, \"n\": 8}, {\"threshold\": 0.7, \"p\": 42, \"fpr\": 0.875, \"tpr\": 1.0, \"n\": 8}, {\"threshold\": 0.701, \"p\": 42, \"fpr\": 0.875, \"tpr\": 1.0, \"n\": 8}, {\"threshold\": 0.702, \"p\": 42, \"fpr\": 0.875, \"tpr\": 1.0, \"n\": 8}, {\"threshold\": 0.703, \"p\": 42, \"fpr\": 0.875, \"tpr\": 1.0, \"n\": 8}, {\"threshold\": 0.704, \"p\": 42, \"fpr\": 0.875, \"tpr\": 1.0, \"n\": 8}, {\"threshold\": 0.705, \"p\": 42, \"fpr\": 0.875, \"tpr\": 1.0, \"n\": 8}, {\"threshold\": 0.706, \"p\": 42, \"fpr\": 0.875, \"tpr\": 1.0, \"n\": 8}, {\"threshold\": 0.707, \"p\": 42, \"fpr\": 0.875, \"tpr\": 1.0, \"n\": 8}, {\"threshold\": 0.708, \"p\": 42, \"fpr\": 0.875, \"tpr\": 1.0, \"n\": 8}, {\"threshold\": 0.709, \"p\": 42, \"fpr\": 0.875, \"tpr\": 1.0, \"n\": 8}, {\"threshold\": 0.71, \"p\": 42, \"fpr\": 0.875, \"tpr\": 1.0, \"n\": 8}, {\"threshold\": 0.711, \"p\": 42, \"fpr\": 0.875, \"tpr\": 1.0, \"n\": 8}, {\"threshold\": 0.712, \"p\": 42, \"fpr\": 0.875, \"tpr\": 1.0, \"n\": 8}, {\"threshold\": 0.713, \"p\": 42, \"fpr\": 0.875, \"tpr\": 1.0, \"n\": 8}, {\"threshold\": 0.714, \"p\": 42, \"fpr\": 0.875, \"tpr\": 1.0, \"n\": 8}, {\"threshold\": 0.715, \"p\": 42, \"fpr\": 0.875, \"tpr\": 1.0, \"n\": 8}, {\"threshold\": 0.716, \"p\": 42, \"fpr\": 0.875, \"tpr\": 1.0, \"n\": 8}, {\"threshold\": 0.717, \"p\": 42, \"fpr\": 0.875, \"tpr\": 1.0, \"n\": 8}, {\"threshold\": 0.718, \"p\": 42, \"fpr\": 0.875, \"tpr\": 1.0, \"n\": 8}, {\"threshold\": 0.719, \"p\": 42, \"fpr\": 0.875, \"tpr\": 1.0, \"n\": 8}, {\"threshold\": 0.72, \"p\": 42, \"fpr\": 0.875, \"tpr\": 1.0, \"n\": 8}, {\"threshold\": 0.721, \"p\": 42, \"fpr\": 0.875, \"tpr\": 1.0, \"n\": 8}, {\"threshold\": 0.722, \"p\": 42, \"fpr\": 0.875, \"tpr\": 1.0, \"n\": 8}, {\"threshold\": 0.723, \"p\": 42, \"fpr\": 0.875, \"tpr\": 1.0, \"n\": 8}, {\"threshold\": 0.724, \"p\": 42, \"fpr\": 0.875, \"tpr\": 1.0, \"n\": 8}, {\"threshold\": 0.725, \"p\": 42, \"fpr\": 0.875, \"tpr\": 1.0, \"n\": 8}, {\"threshold\": 0.726, \"p\": 42, \"fpr\": 0.875, \"tpr\": 1.0, \"n\": 8}, {\"threshold\": 0.727, \"p\": 42, \"fpr\": 0.875, \"tpr\": 1.0, \"n\": 8}, {\"threshold\": 0.728, \"p\": 42, \"fpr\": 0.875, \"tpr\": 1.0, \"n\": 8}, {\"threshold\": 0.729, \"p\": 42, \"fpr\": 0.875, \"tpr\": 1.0, \"n\": 8}, {\"threshold\": 0.73, \"p\": 42, \"fpr\": 0.875, \"tpr\": 1.0, \"n\": 8}, {\"threshold\": 0.731, \"p\": 42, \"fpr\": 0.875, \"tpr\": 1.0, \"n\": 8}, {\"threshold\": 0.732, \"p\": 42, \"fpr\": 0.875, \"tpr\": 1.0, \"n\": 8}, {\"threshold\": 0.733, \"p\": 42, \"fpr\": 0.875, \"tpr\": 1.0, \"n\": 8}, {\"threshold\": 0.734, \"p\": 42, \"fpr\": 0.875, \"tpr\": 1.0, \"n\": 8}, {\"threshold\": 0.735, \"p\": 42, \"fpr\": 0.875, \"tpr\": 1.0, \"n\": 8}, {\"threshold\": 0.736, \"p\": 42, \"fpr\": 0.875, \"tpr\": 0.9761904761904762, \"n\": 8}, {\"threshold\": 0.737, \"p\": 42, \"fpr\": 0.875, \"tpr\": 0.9761904761904762, \"n\": 8}, {\"threshold\": 0.738, \"p\": 42, \"fpr\": 0.875, \"tpr\": 0.9761904761904762, \"n\": 8}, {\"threshold\": 0.739, \"p\": 42, \"fpr\": 0.875, \"tpr\": 0.9761904761904762, \"n\": 8}, {\"threshold\": 0.74, \"p\": 42, \"fpr\": 0.875, \"tpr\": 0.9761904761904762, \"n\": 8}, {\"threshold\": 0.741, \"p\": 42, \"fpr\": 0.875, \"tpr\": 0.9761904761904762, \"n\": 8}, {\"threshold\": 0.742, \"p\": 42, \"fpr\": 0.875, \"tpr\": 0.9761904761904762, \"n\": 8}, {\"threshold\": 0.743, \"p\": 42, \"fpr\": 0.875, \"tpr\": 0.9761904761904762, \"n\": 8}, {\"threshold\": 0.744, \"p\": 42, \"fpr\": 0.875, \"tpr\": 0.9761904761904762, \"n\": 8}, {\"threshold\": 0.745, \"p\": 42, \"fpr\": 0.875, \"tpr\": 0.9761904761904762, \"n\": 8}, {\"threshold\": 0.746, \"p\": 42, \"fpr\": 0.875, \"tpr\": 0.9761904761904762, \"n\": 8}, {\"threshold\": 0.747, \"p\": 42, \"fpr\": 0.875, \"tpr\": 0.9761904761904762, \"n\": 8}, {\"threshold\": 0.748, \"p\": 42, \"fpr\": 0.875, \"tpr\": 0.9761904761904762, \"n\": 8}, {\"threshold\": 0.749, \"p\": 42, \"fpr\": 0.875, \"tpr\": 0.9761904761904762, \"n\": 8}, {\"threshold\": 0.75, \"p\": 42, \"fpr\": 0.875, \"tpr\": 0.9761904761904762, \"n\": 8}, {\"threshold\": 0.751, \"p\": 42, \"fpr\": 0.875, \"tpr\": 0.9761904761904762, \"n\": 8}, {\"threshold\": 0.752, \"p\": 42, \"fpr\": 0.875, \"tpr\": 0.9761904761904762, \"n\": 8}, {\"threshold\": 0.753, \"p\": 42, \"fpr\": 0.875, \"tpr\": 0.9761904761904762, \"n\": 8}, {\"threshold\": 0.754, \"p\": 42, \"fpr\": 0.875, \"tpr\": 0.9761904761904762, \"n\": 8}, {\"threshold\": 0.755, \"p\": 42, \"fpr\": 0.875, \"tpr\": 0.9761904761904762, \"n\": 8}, {\"threshold\": 0.756, \"p\": 42, \"fpr\": 0.875, \"tpr\": 0.9761904761904762, \"n\": 8}, {\"threshold\": 0.757, \"p\": 42, \"fpr\": 0.875, \"tpr\": 0.9761904761904762, \"n\": 8}, {\"threshold\": 0.758, \"p\": 42, \"fpr\": 0.875, \"tpr\": 0.9761904761904762, \"n\": 8}, {\"threshold\": 0.759, \"p\": 42, \"fpr\": 0.875, \"tpr\": 0.9761904761904762, \"n\": 8}, {\"threshold\": 0.76, \"p\": 42, \"fpr\": 0.875, \"tpr\": 0.9761904761904762, \"n\": 8}, {\"threshold\": 0.761, \"p\": 42, \"fpr\": 0.875, \"tpr\": 0.9761904761904762, \"n\": 8}, {\"threshold\": 0.762, \"p\": 42, \"fpr\": 0.875, \"tpr\": 0.9761904761904762, \"n\": 8}, {\"threshold\": 0.763, \"p\": 42, \"fpr\": 0.875, \"tpr\": 0.9761904761904762, \"n\": 8}, {\"threshold\": 0.764, \"p\": 42, \"fpr\": 0.875, \"tpr\": 0.9761904761904762, \"n\": 8}, {\"threshold\": 0.765, \"p\": 42, \"fpr\": 0.875, \"tpr\": 0.9761904761904762, \"n\": 8}, {\"threshold\": 0.766, \"p\": 42, \"fpr\": 0.875, \"tpr\": 0.9761904761904762, \"n\": 8}, {\"threshold\": 0.767, \"p\": 42, \"fpr\": 0.875, \"tpr\": 0.9761904761904762, \"n\": 8}, {\"threshold\": 0.768, \"p\": 42, \"fpr\": 0.875, \"tpr\": 0.9761904761904762, \"n\": 8}, {\"threshold\": 0.769, \"p\": 42, \"fpr\": 0.875, \"tpr\": 0.9761904761904762, \"n\": 8}, {\"threshold\": 0.77, \"p\": 42, \"fpr\": 0.875, \"tpr\": 0.9761904761904762, \"n\": 8}, {\"threshold\": 0.771, \"p\": 42, \"fpr\": 0.875, \"tpr\": 0.9761904761904762, \"n\": 8}, {\"threshold\": 0.772, \"p\": 42, \"fpr\": 0.875, \"tpr\": 0.9761904761904762, \"n\": 8}, {\"threshold\": 0.773, \"p\": 42, \"fpr\": 0.875, \"tpr\": 0.9761904761904762, \"n\": 8}, {\"threshold\": 0.774, \"p\": 42, \"fpr\": 0.875, \"tpr\": 0.9761904761904762, \"n\": 8}, {\"threshold\": 0.775, \"p\": 42, \"fpr\": 0.875, \"tpr\": 0.9761904761904762, \"n\": 8}, {\"threshold\": 0.776, \"p\": 42, \"fpr\": 0.875, \"tpr\": 0.9761904761904762, \"n\": 8}, {\"threshold\": 0.777, \"p\": 42, \"fpr\": 0.875, \"tpr\": 0.9761904761904762, \"n\": 8}, {\"threshold\": 0.778, \"p\": 42, \"fpr\": 0.875, \"tpr\": 0.9761904761904762, \"n\": 8}, {\"threshold\": 0.779, \"p\": 42, \"fpr\": 0.875, \"tpr\": 0.9761904761904762, \"n\": 8}, {\"threshold\": 0.78, \"p\": 42, \"fpr\": 0.875, \"tpr\": 0.9761904761904762, \"n\": 8}, {\"threshold\": 0.781, \"p\": 42, \"fpr\": 0.875, \"tpr\": 0.9761904761904762, \"n\": 8}, {\"threshold\": 0.782, \"p\": 42, \"fpr\": 0.875, \"tpr\": 0.9761904761904762, \"n\": 8}, {\"threshold\": 0.783, \"p\": 42, \"fpr\": 0.875, \"tpr\": 0.9761904761904762, \"n\": 8}, {\"threshold\": 0.784, \"p\": 42, \"fpr\": 0.875, \"tpr\": 0.9761904761904762, \"n\": 8}, {\"threshold\": 0.785, \"p\": 42, \"fpr\": 0.875, \"tpr\": 0.9761904761904762, \"n\": 8}, {\"threshold\": 0.786, \"p\": 42, \"fpr\": 0.875, \"tpr\": 0.9761904761904762, \"n\": 8}, {\"threshold\": 0.787, \"p\": 42, \"fpr\": 0.875, \"tpr\": 0.9761904761904762, \"n\": 8}, {\"threshold\": 0.788, \"p\": 42, \"fpr\": 0.875, \"tpr\": 0.9761904761904762, \"n\": 8}, {\"threshold\": 0.789, \"p\": 42, \"fpr\": 0.875, \"tpr\": 0.9761904761904762, \"n\": 8}, {\"threshold\": 0.79, \"p\": 42, \"fpr\": 0.875, \"tpr\": 0.9761904761904762, \"n\": 8}, {\"threshold\": 0.791, \"p\": 42, \"fpr\": 0.875, \"tpr\": 0.9761904761904762, \"n\": 8}, {\"threshold\": 0.792, \"p\": 42, \"fpr\": 0.875, \"tpr\": 0.9761904761904762, \"n\": 8}, {\"threshold\": 0.793, \"p\": 42, \"fpr\": 0.875, \"tpr\": 0.9761904761904762, \"n\": 8}, {\"threshold\": 0.794, \"p\": 42, \"fpr\": 0.875, \"tpr\": 0.9761904761904762, \"n\": 8}, {\"threshold\": 0.795, \"p\": 42, \"fpr\": 0.875, \"tpr\": 0.9761904761904762, \"n\": 8}, {\"threshold\": 0.796, \"p\": 42, \"fpr\": 0.875, \"tpr\": 0.9761904761904762, \"n\": 8}, {\"threshold\": 0.797, \"p\": 42, \"fpr\": 0.875, \"tpr\": 0.9761904761904762, \"n\": 8}, {\"threshold\": 0.798, \"p\": 42, \"fpr\": 0.875, \"tpr\": 0.9761904761904762, \"n\": 8}, {\"threshold\": 0.799, \"p\": 42, \"fpr\": 0.875, \"tpr\": 0.9761904761904762, \"n\": 8}, {\"threshold\": 0.8, \"p\": 42, \"fpr\": 0.875, \"tpr\": 0.9761904761904762, \"n\": 8}, {\"threshold\": 0.801, \"p\": 42, \"fpr\": 0.875, \"tpr\": 0.9761904761904762, \"n\": 8}, {\"threshold\": 0.802, \"p\": 42, \"fpr\": 0.875, \"tpr\": 0.9761904761904762, \"n\": 8}, {\"threshold\": 0.803, \"p\": 42, \"fpr\": 0.875, \"tpr\": 0.9761904761904762, \"n\": 8}, {\"threshold\": 0.804, \"p\": 42, \"fpr\": 0.875, \"tpr\": 0.9761904761904762, \"n\": 8}, {\"threshold\": 0.805, \"p\": 42, \"fpr\": 0.875, \"tpr\": 0.9761904761904762, \"n\": 8}, {\"threshold\": 0.806, \"p\": 42, \"fpr\": 0.875, \"tpr\": 0.9761904761904762, \"n\": 8}, {\"threshold\": 0.807, \"p\": 42, \"fpr\": 0.875, \"tpr\": 0.9761904761904762, \"n\": 8}, {\"threshold\": 0.808, \"p\": 42, \"fpr\": 0.875, \"tpr\": 0.9761904761904762, \"n\": 8}, {\"threshold\": 0.809, \"p\": 42, \"fpr\": 0.875, \"tpr\": 0.9761904761904762, \"n\": 8}, {\"threshold\": 0.81, \"p\": 42, \"fpr\": 0.875, \"tpr\": 0.9761904761904762, \"n\": 8}, {\"threshold\": 0.811, \"p\": 42, \"fpr\": 0.875, \"tpr\": 0.9761904761904762, \"n\": 8}, {\"threshold\": 0.812, \"p\": 42, \"fpr\": 0.875, \"tpr\": 0.9761904761904762, \"n\": 8}, {\"threshold\": 0.813, \"p\": 42, \"fpr\": 0.875, \"tpr\": 0.9761904761904762, \"n\": 8}, {\"threshold\": 0.814, \"p\": 42, \"fpr\": 0.875, \"tpr\": 0.9761904761904762, \"n\": 8}, {\"threshold\": 0.815, \"p\": 42, \"fpr\": 0.875, \"tpr\": 0.9761904761904762, \"n\": 8}, {\"threshold\": 0.816, \"p\": 42, \"fpr\": 0.875, \"tpr\": 0.9761904761904762, \"n\": 8}, {\"threshold\": 0.817, \"p\": 42, \"fpr\": 0.875, \"tpr\": 0.9761904761904762, \"n\": 8}, {\"threshold\": 0.818, \"p\": 42, \"fpr\": 0.875, \"tpr\": 0.9761904761904762, \"n\": 8}, {\"threshold\": 0.819, \"p\": 42, \"fpr\": 0.875, \"tpr\": 0.9761904761904762, \"n\": 8}, {\"threshold\": 0.82, \"p\": 42, \"fpr\": 0.875, \"tpr\": 0.9761904761904762, \"n\": 8}, {\"threshold\": 0.821, \"p\": 42, \"fpr\": 0.875, \"tpr\": 0.9761904761904762, \"n\": 8}, {\"threshold\": 0.822, \"p\": 42, \"fpr\": 0.875, \"tpr\": 0.9761904761904762, \"n\": 8}, {\"threshold\": 0.823, \"p\": 42, \"fpr\": 0.875, \"tpr\": 0.9761904761904762, \"n\": 8}, {\"threshold\": 0.824, \"p\": 42, \"fpr\": 0.875, \"tpr\": 0.9761904761904762, \"n\": 8}, {\"threshold\": 0.825, \"p\": 42, \"fpr\": 0.875, \"tpr\": 0.9761904761904762, \"n\": 8}, {\"threshold\": 0.826, \"p\": 42, \"fpr\": 0.875, \"tpr\": 0.9761904761904762, \"n\": 8}, {\"threshold\": 0.827, \"p\": 42, \"fpr\": 0.875, \"tpr\": 0.9761904761904762, \"n\": 8}, {\"threshold\": 0.828, \"p\": 42, \"fpr\": 0.875, \"tpr\": 0.9761904761904762, \"n\": 8}, {\"threshold\": 0.829, \"p\": 42, \"fpr\": 0.875, \"tpr\": 0.9761904761904762, \"n\": 8}, {\"threshold\": 0.83, \"p\": 42, \"fpr\": 0.875, \"tpr\": 0.9761904761904762, \"n\": 8}, {\"threshold\": 0.831, \"p\": 42, \"fpr\": 0.875, \"tpr\": 0.9761904761904762, \"n\": 8}, {\"threshold\": 0.832, \"p\": 42, \"fpr\": 0.75, \"tpr\": 0.9761904761904762, \"n\": 8}, {\"threshold\": 0.833, \"p\": 42, \"fpr\": 0.75, \"tpr\": 0.9761904761904762, \"n\": 8}, {\"threshold\": 0.834, \"p\": 42, \"fpr\": 0.75, \"tpr\": 0.9761904761904762, \"n\": 8}, {\"threshold\": 0.835, \"p\": 42, \"fpr\": 0.75, \"tpr\": 0.9761904761904762, \"n\": 8}, {\"threshold\": 0.836, \"p\": 42, \"fpr\": 0.75, \"tpr\": 0.9761904761904762, \"n\": 8}, {\"threshold\": 0.837, \"p\": 42, \"fpr\": 0.75, \"tpr\": 0.9761904761904762, \"n\": 8}, {\"threshold\": 0.838, \"p\": 42, \"fpr\": 0.75, \"tpr\": 0.9761904761904762, \"n\": 8}, {\"threshold\": 0.839, \"p\": 42, \"fpr\": 0.75, \"tpr\": 0.9761904761904762, \"n\": 8}, {\"threshold\": 0.84, \"p\": 42, \"fpr\": 0.75, \"tpr\": 0.9761904761904762, \"n\": 8}, {\"threshold\": 0.841, \"p\": 42, \"fpr\": 0.75, \"tpr\": 0.9761904761904762, \"n\": 8}, {\"threshold\": 0.842, \"p\": 42, \"fpr\": 0.75, \"tpr\": 0.9761904761904762, \"n\": 8}, {\"threshold\": 0.843, \"p\": 42, \"fpr\": 0.75, \"tpr\": 0.9761904761904762, \"n\": 8}, {\"threshold\": 0.844, \"p\": 42, \"fpr\": 0.75, \"tpr\": 0.9761904761904762, \"n\": 8}, {\"threshold\": 0.845, \"p\": 42, \"fpr\": 0.75, \"tpr\": 0.9761904761904762, \"n\": 8}, {\"threshold\": 0.846, \"p\": 42, \"fpr\": 0.75, \"tpr\": 0.9761904761904762, \"n\": 8}, {\"threshold\": 0.847, \"p\": 42, \"fpr\": 0.75, \"tpr\": 0.9761904761904762, \"n\": 8}, {\"threshold\": 0.848, \"p\": 42, \"fpr\": 0.75, \"tpr\": 0.9761904761904762, \"n\": 8}, {\"threshold\": 0.849, \"p\": 42, \"fpr\": 0.75, \"tpr\": 0.9761904761904762, \"n\": 8}, {\"threshold\": 0.85, \"p\": 42, \"fpr\": 0.75, \"tpr\": 0.9761904761904762, \"n\": 8}, {\"threshold\": 0.851, \"p\": 42, \"fpr\": 0.75, \"tpr\": 0.9761904761904762, \"n\": 8}, {\"threshold\": 0.852, \"p\": 42, \"fpr\": 0.75, \"tpr\": 0.9761904761904762, \"n\": 8}, {\"threshold\": 0.853, \"p\": 42, \"fpr\": 0.75, \"tpr\": 0.9761904761904762, \"n\": 8}, {\"threshold\": 0.854, \"p\": 42, \"fpr\": 0.75, \"tpr\": 0.9761904761904762, \"n\": 8}, {\"threshold\": 0.855, \"p\": 42, \"fpr\": 0.75, \"tpr\": 0.9761904761904762, \"n\": 8}, {\"threshold\": 0.856, \"p\": 42, \"fpr\": 0.75, \"tpr\": 0.9761904761904762, \"n\": 8}, {\"threshold\": 0.857, \"p\": 42, \"fpr\": 0.75, \"tpr\": 0.9761904761904762, \"n\": 8}, {\"threshold\": 0.858, \"p\": 42, \"fpr\": 0.75, \"tpr\": 0.9761904761904762, \"n\": 8}, {\"threshold\": 0.859, \"p\": 42, \"fpr\": 0.75, \"tpr\": 0.9761904761904762, \"n\": 8}, {\"threshold\": 0.86, \"p\": 42, \"fpr\": 0.75, \"tpr\": 0.9761904761904762, \"n\": 8}, {\"threshold\": 0.861, \"p\": 42, \"fpr\": 0.75, \"tpr\": 0.9761904761904762, \"n\": 8}, {\"threshold\": 0.862, \"p\": 42, \"fpr\": 0.75, \"tpr\": 0.9761904761904762, \"n\": 8}, {\"threshold\": 0.863, \"p\": 42, \"fpr\": 0.75, \"tpr\": 0.9761904761904762, \"n\": 8}, {\"threshold\": 0.864, \"p\": 42, \"fpr\": 0.75, \"tpr\": 0.9761904761904762, \"n\": 8}, {\"threshold\": 0.865, \"p\": 42, \"fpr\": 0.75, \"tpr\": 0.9761904761904762, \"n\": 8}, {\"threshold\": 0.866, \"p\": 42, \"fpr\": 0.75, \"tpr\": 0.9761904761904762, \"n\": 8}, {\"threshold\": 0.867, \"p\": 42, \"fpr\": 0.75, \"tpr\": 0.9761904761904762, \"n\": 8}, {\"threshold\": 0.868, \"p\": 42, \"fpr\": 0.75, \"tpr\": 0.9761904761904762, \"n\": 8}, {\"threshold\": 0.869, \"p\": 42, \"fpr\": 0.75, \"tpr\": 0.9523809523809523, \"n\": 8}, {\"threshold\": 0.87, \"p\": 42, \"fpr\": 0.75, \"tpr\": 0.9523809523809523, \"n\": 8}, {\"threshold\": 0.871, \"p\": 42, \"fpr\": 0.75, \"tpr\": 0.9523809523809523, \"n\": 8}, {\"threshold\": 0.872, \"p\": 42, \"fpr\": 0.75, \"tpr\": 0.9523809523809523, \"n\": 8}, {\"threshold\": 0.873, \"p\": 42, \"fpr\": 0.75, \"tpr\": 0.9523809523809523, \"n\": 8}, {\"threshold\": 0.874, \"p\": 42, \"fpr\": 0.75, \"tpr\": 0.9523809523809523, \"n\": 8}, {\"threshold\": 0.875, \"p\": 42, \"fpr\": 0.75, \"tpr\": 0.9523809523809523, \"n\": 8}, {\"threshold\": 0.876, \"p\": 42, \"fpr\": 0.75, \"tpr\": 0.9523809523809523, \"n\": 8}, {\"threshold\": 0.877, \"p\": 42, \"fpr\": 0.75, \"tpr\": 0.9523809523809523, \"n\": 8}, {\"threshold\": 0.878, \"p\": 42, \"fpr\": 0.75, \"tpr\": 0.9523809523809523, \"n\": 8}, {\"threshold\": 0.879, \"p\": 42, \"fpr\": 0.75, \"tpr\": 0.9523809523809523, \"n\": 8}, {\"threshold\": 0.88, \"p\": 42, \"fpr\": 0.75, \"tpr\": 0.9523809523809523, \"n\": 8}, {\"threshold\": 0.881, \"p\": 42, \"fpr\": 0.75, \"tpr\": 0.9523809523809523, \"n\": 8}, {\"threshold\": 0.882, \"p\": 42, \"fpr\": 0.75, \"tpr\": 0.9523809523809523, \"n\": 8}, {\"threshold\": 0.883, \"p\": 42, \"fpr\": 0.75, \"tpr\": 0.9523809523809523, \"n\": 8}, {\"threshold\": 0.884, \"p\": 42, \"fpr\": 0.75, \"tpr\": 0.9523809523809523, \"n\": 8}, {\"threshold\": 0.885, \"p\": 42, \"fpr\": 0.75, \"tpr\": 0.9523809523809523, \"n\": 8}, {\"threshold\": 0.886, \"p\": 42, \"fpr\": 0.75, \"tpr\": 0.9523809523809523, \"n\": 8}, {\"threshold\": 0.887, \"p\": 42, \"fpr\": 0.75, \"tpr\": 0.9523809523809523, \"n\": 8}, {\"threshold\": 0.888, \"p\": 42, \"fpr\": 0.75, \"tpr\": 0.9523809523809523, \"n\": 8}, {\"threshold\": 0.889, \"p\": 42, \"fpr\": 0.75, \"tpr\": 0.9523809523809523, \"n\": 8}, {\"threshold\": 0.89, \"p\": 42, \"fpr\": 0.75, \"tpr\": 0.9523809523809523, \"n\": 8}, {\"threshold\": 0.891, \"p\": 42, \"fpr\": 0.75, \"tpr\": 0.9523809523809523, \"n\": 8}, {\"threshold\": 0.892, \"p\": 42, \"fpr\": 0.75, \"tpr\": 0.9523809523809523, \"n\": 8}, {\"threshold\": 0.893, \"p\": 42, \"fpr\": 0.75, \"tpr\": 0.9523809523809523, \"n\": 8}, {\"threshold\": 0.894, \"p\": 42, \"fpr\": 0.75, \"tpr\": 0.9523809523809523, \"n\": 8}, {\"threshold\": 0.895, \"p\": 42, \"fpr\": 0.75, \"tpr\": 0.9523809523809523, \"n\": 8}, {\"threshold\": 0.896, \"p\": 42, \"fpr\": 0.75, \"tpr\": 0.9523809523809523, \"n\": 8}, {\"threshold\": 0.897, \"p\": 42, \"fpr\": 0.75, \"tpr\": 0.9523809523809523, \"n\": 8}, {\"threshold\": 0.898, \"p\": 42, \"fpr\": 0.75, \"tpr\": 0.9523809523809523, \"n\": 8}, {\"threshold\": 0.899, \"p\": 42, \"fpr\": 0.75, \"tpr\": 0.9523809523809523, \"n\": 8}, {\"threshold\": 0.9, \"p\": 42, \"fpr\": 0.75, \"tpr\": 0.9523809523809523, \"n\": 8}, {\"threshold\": 0.901, \"p\": 42, \"fpr\": 0.75, \"tpr\": 0.9523809523809523, \"n\": 8}, {\"threshold\": 0.902, \"p\": 42, \"fpr\": 0.75, \"tpr\": 0.9523809523809523, \"n\": 8}, {\"threshold\": 0.903, \"p\": 42, \"fpr\": 0.75, \"tpr\": 0.9523809523809523, \"n\": 8}, {\"threshold\": 0.904, \"p\": 42, \"fpr\": 0.75, \"tpr\": 0.9523809523809523, \"n\": 8}, {\"threshold\": 0.905, \"p\": 42, \"fpr\": 0.75, \"tpr\": 0.9523809523809523, \"n\": 8}, {\"threshold\": 0.906, \"p\": 42, \"fpr\": 0.75, \"tpr\": 0.9523809523809523, \"n\": 8}, {\"threshold\": 0.907, \"p\": 42, \"fpr\": 0.75, \"tpr\": 0.9523809523809523, \"n\": 8}, {\"threshold\": 0.908, \"p\": 42, \"fpr\": 0.75, \"tpr\": 0.9523809523809523, \"n\": 8}, {\"threshold\": 0.909, \"p\": 42, \"fpr\": 0.75, \"tpr\": 0.9285714285714286, \"n\": 8}, {\"threshold\": 0.91, \"p\": 42, \"fpr\": 0.75, \"tpr\": 0.9285714285714286, \"n\": 8}, {\"threshold\": 0.911, \"p\": 42, \"fpr\": 0.75, \"tpr\": 0.9285714285714286, \"n\": 8}, {\"threshold\": 0.912, \"p\": 42, \"fpr\": 0.75, \"tpr\": 0.9285714285714286, \"n\": 8}, {\"threshold\": 0.913, \"p\": 42, \"fpr\": 0.75, \"tpr\": 0.9285714285714286, \"n\": 8}, {\"threshold\": 0.914, \"p\": 42, \"fpr\": 0.625, \"tpr\": 0.9285714285714286, \"n\": 8}, {\"threshold\": 0.915, \"p\": 42, \"fpr\": 0.625, \"tpr\": 0.9285714285714286, \"n\": 8}, {\"threshold\": 0.916, \"p\": 42, \"fpr\": 0.625, \"tpr\": 0.9285714285714286, \"n\": 8}, {\"threshold\": 0.917, \"p\": 42, \"fpr\": 0.625, \"tpr\": 0.9285714285714286, \"n\": 8}, {\"threshold\": 0.918, \"p\": 42, \"fpr\": 0.625, \"tpr\": 0.9285714285714286, \"n\": 8}, {\"threshold\": 0.919, \"p\": 42, \"fpr\": 0.625, \"tpr\": 0.9285714285714286, \"n\": 8}, {\"threshold\": 0.92, \"p\": 42, \"fpr\": 0.625, \"tpr\": 0.9285714285714286, \"n\": 8}, {\"threshold\": 0.921, \"p\": 42, \"fpr\": 0.625, \"tpr\": 0.9285714285714286, \"n\": 8}, {\"threshold\": 0.922, \"p\": 42, \"fpr\": 0.625, \"tpr\": 0.9285714285714286, \"n\": 8}, {\"threshold\": 0.923, \"p\": 42, \"fpr\": 0.625, \"tpr\": 0.9285714285714286, \"n\": 8}, {\"threshold\": 0.924, \"p\": 42, \"fpr\": 0.625, \"tpr\": 0.9047619047619048, \"n\": 8}, {\"threshold\": 0.925, \"p\": 42, \"fpr\": 0.625, \"tpr\": 0.9047619047619048, \"n\": 8}, {\"threshold\": 0.926, \"p\": 42, \"fpr\": 0.625, \"tpr\": 0.9047619047619048, \"n\": 8}, {\"threshold\": 0.927, \"p\": 42, \"fpr\": 0.625, \"tpr\": 0.9047619047619048, \"n\": 8}, {\"threshold\": 0.928, \"p\": 42, \"fpr\": 0.625, \"tpr\": 0.8809523809523809, \"n\": 8}, {\"threshold\": 0.929, \"p\": 42, \"fpr\": 0.625, \"tpr\": 0.8809523809523809, \"n\": 8}, {\"threshold\": 0.93, \"p\": 42, \"fpr\": 0.625, \"tpr\": 0.8809523809523809, \"n\": 8}, {\"threshold\": 0.931, \"p\": 42, \"fpr\": 0.625, \"tpr\": 0.8809523809523809, \"n\": 8}, {\"threshold\": 0.932, \"p\": 42, \"fpr\": 0.5, \"tpr\": 0.8809523809523809, \"n\": 8}, {\"threshold\": 0.933, \"p\": 42, \"fpr\": 0.5, \"tpr\": 0.8809523809523809, \"n\": 8}, {\"threshold\": 0.934, \"p\": 42, \"fpr\": 0.5, \"tpr\": 0.8809523809523809, \"n\": 8}, {\"threshold\": 0.935, \"p\": 42, \"fpr\": 0.5, \"tpr\": 0.8809523809523809, \"n\": 8}, {\"threshold\": 0.936, \"p\": 42, \"fpr\": 0.5, \"tpr\": 0.8809523809523809, \"n\": 8}, {\"threshold\": 0.937, \"p\": 42, \"fpr\": 0.5, \"tpr\": 0.8809523809523809, \"n\": 8}, {\"threshold\": 0.938, \"p\": 42, \"fpr\": 0.5, \"tpr\": 0.8809523809523809, \"n\": 8}, {\"threshold\": 0.939, \"p\": 42, \"fpr\": 0.5, \"tpr\": 0.8809523809523809, \"n\": 8}, {\"threshold\": 0.94, \"p\": 42, \"fpr\": 0.5, \"tpr\": 0.8809523809523809, \"n\": 8}, {\"threshold\": 0.941, \"p\": 42, \"fpr\": 0.5, \"tpr\": 0.8809523809523809, \"n\": 8}, {\"threshold\": 0.942, \"p\": 42, \"fpr\": 0.5, \"tpr\": 0.8809523809523809, \"n\": 8}, {\"threshold\": 0.943, \"p\": 42, \"fpr\": 0.5, \"tpr\": 0.8809523809523809, \"n\": 8}, {\"threshold\": 0.944, \"p\": 42, \"fpr\": 0.5, \"tpr\": 0.8809523809523809, \"n\": 8}, {\"threshold\": 0.945, \"p\": 42, \"fpr\": 0.5, \"tpr\": 0.8809523809523809, \"n\": 8}, {\"threshold\": 0.946, \"p\": 42, \"fpr\": 0.5, \"tpr\": 0.8809523809523809, \"n\": 8}, {\"threshold\": 0.947, \"p\": 42, \"fpr\": 0.5, \"tpr\": 0.8809523809523809, \"n\": 8}, {\"threshold\": 0.948, \"p\": 42, \"fpr\": 0.5, \"tpr\": 0.8809523809523809, \"n\": 8}, {\"threshold\": 0.949, \"p\": 42, \"fpr\": 0.5, \"tpr\": 0.8809523809523809, \"n\": 8}, {\"threshold\": 0.95, \"p\": 42, \"fpr\": 0.5, \"tpr\": 0.8809523809523809, \"n\": 8}, {\"threshold\": 0.951, \"p\": 42, \"fpr\": 0.5, \"tpr\": 0.8809523809523809, \"n\": 8}, {\"threshold\": 0.952, \"p\": 42, \"fpr\": 0.5, \"tpr\": 0.8809523809523809, \"n\": 8}, {\"threshold\": 0.953, \"p\": 42, \"fpr\": 0.5, \"tpr\": 0.8809523809523809, \"n\": 8}, {\"threshold\": 0.954, \"p\": 42, \"fpr\": 0.5, \"tpr\": 0.8809523809523809, \"n\": 8}, {\"threshold\": 0.955, \"p\": 42, \"fpr\": 0.5, \"tpr\": 0.8809523809523809, \"n\": 8}, {\"threshold\": 0.956, \"p\": 42, \"fpr\": 0.5, \"tpr\": 0.8809523809523809, \"n\": 8}, {\"threshold\": 0.957, \"p\": 42, \"fpr\": 0.5, \"tpr\": 0.8809523809523809, \"n\": 8}, {\"threshold\": 0.958, \"p\": 42, \"fpr\": 0.5, \"tpr\": 0.8809523809523809, \"n\": 8}, {\"threshold\": 0.959, \"p\": 42, \"fpr\": 0.5, \"tpr\": 0.8809523809523809, \"n\": 8}, {\"threshold\": 0.96, \"p\": 42, \"fpr\": 0.5, \"tpr\": 0.8809523809523809, \"n\": 8}, {\"threshold\": 0.961, \"p\": 42, \"fpr\": 0.5, \"tpr\": 0.8809523809523809, \"n\": 8}, {\"threshold\": 0.962, \"p\": 42, \"fpr\": 0.5, \"tpr\": 0.8809523809523809, \"n\": 8}, {\"threshold\": 0.963, \"p\": 42, \"fpr\": 0.5, \"tpr\": 0.8809523809523809, \"n\": 8}, {\"threshold\": 0.964, \"p\": 42, \"fpr\": 0.5, \"tpr\": 0.8809523809523809, \"n\": 8}, {\"threshold\": 0.965, \"p\": 42, \"fpr\": 0.5, \"tpr\": 0.8809523809523809, \"n\": 8}, {\"threshold\": 0.966, \"p\": 42, \"fpr\": 0.5, \"tpr\": 0.8809523809523809, \"n\": 8}, {\"threshold\": 0.967, \"p\": 42, \"fpr\": 0.5, \"tpr\": 0.8809523809523809, \"n\": 8}, {\"threshold\": 0.968, \"p\": 42, \"fpr\": 0.5, \"tpr\": 0.8809523809523809, \"n\": 8}, {\"threshold\": 0.969, \"p\": 42, \"fpr\": 0.5, \"tpr\": 0.8809523809523809, \"n\": 8}, {\"threshold\": 0.97, \"p\": 42, \"fpr\": 0.5, \"tpr\": 0.8809523809523809, \"n\": 8}, {\"threshold\": 0.971, \"p\": 42, \"fpr\": 0.5, \"tpr\": 0.8571428571428571, \"n\": 8}, {\"threshold\": 0.972, \"p\": 42, \"fpr\": 0.5, \"tpr\": 0.8571428571428571, \"n\": 8}, {\"threshold\": 0.973, \"p\": 42, \"fpr\": 0.5, \"tpr\": 0.8333333333333334, \"n\": 8}, {\"threshold\": 0.974, \"p\": 42, \"fpr\": 0.5, \"tpr\": 0.8095238095238095, \"n\": 8}, {\"threshold\": 0.975, \"p\": 42, \"fpr\": 0.5, \"tpr\": 0.7857142857142857, \"n\": 8}, {\"threshold\": 0.976, \"p\": 42, \"fpr\": 0.5, \"tpr\": 0.7857142857142857, \"n\": 8}, {\"threshold\": 0.977, \"p\": 42, \"fpr\": 0.5, \"tpr\": 0.7857142857142857, \"n\": 8}, {\"threshold\": 0.978, \"p\": 42, \"fpr\": 0.5, \"tpr\": 0.7857142857142857, \"n\": 8}, {\"threshold\": 0.979, \"p\": 42, \"fpr\": 0.375, \"tpr\": 0.7857142857142857, \"n\": 8}, {\"threshold\": 0.98, \"p\": 42, \"fpr\": 0.375, \"tpr\": 0.7619047619047619, \"n\": 8}, {\"threshold\": 0.981, \"p\": 42, \"fpr\": 0.375, \"tpr\": 0.7619047619047619, \"n\": 8}, {\"threshold\": 0.982, \"p\": 42, \"fpr\": 0.375, \"tpr\": 0.7619047619047619, \"n\": 8}, {\"threshold\": 0.983, \"p\": 42, \"fpr\": 0.375, \"tpr\": 0.7619047619047619, \"n\": 8}, {\"threshold\": 0.984, \"p\": 42, \"fpr\": 0.375, \"tpr\": 0.7380952380952381, \"n\": 8}, {\"threshold\": 0.985, \"p\": 42, \"fpr\": 0.375, \"tpr\": 0.6904761904761905, \"n\": 8}, {\"threshold\": 0.986, \"p\": 42, \"fpr\": 0.375, \"tpr\": 0.6904761904761905, \"n\": 8}, {\"threshold\": 0.987, \"p\": 42, \"fpr\": 0.375, \"tpr\": 0.6666666666666666, \"n\": 8}, {\"threshold\": 0.988, \"p\": 42, \"fpr\": 0.375, \"tpr\": 0.6428571428571429, \"n\": 8}, {\"threshold\": 0.989, \"p\": 42, \"fpr\": 0.375, \"tpr\": 0.6428571428571429, \"n\": 8}, {\"threshold\": 0.99, \"p\": 42, \"fpr\": 0.375, \"tpr\": 0.6190476190476191, \"n\": 8}, {\"threshold\": 0.991, \"p\": 42, \"fpr\": 0.375, \"tpr\": 0.6190476190476191, \"n\": 8}, {\"threshold\": 0.992, \"p\": 42, \"fpr\": 0.375, \"tpr\": 0.6190476190476191, \"n\": 8}, {\"threshold\": 0.993, \"p\": 42, \"fpr\": 0.375, \"tpr\": 0.5952380952380952, \"n\": 8}, {\"threshold\": 0.994, \"p\": 42, \"fpr\": 0.375, \"tpr\": 0.5952380952380952, \"n\": 8}, {\"threshold\": 0.995, \"p\": 42, \"fpr\": 0.375, \"tpr\": 0.5952380952380952, \"n\": 8}, {\"threshold\": 0.996, \"p\": 42, \"fpr\": 0.375, \"tpr\": 0.5714285714285714, \"n\": 8}, {\"threshold\": 0.997, \"p\": 42, \"fpr\": 0.375, \"tpr\": 0.5, \"n\": 8}, {\"threshold\": 0.998, \"p\": 42, \"fpr\": 0.125, \"tpr\": 0.47619047619047616, \"n\": 8}, {\"threshold\": 0.999, \"p\": 42, \"fpr\": 0.125, \"tpr\": 0.3333333333333333, \"n\": 8}, {\"threshold\": 1.0, \"p\": 42, \"fpr\": 0.0, \"tpr\": 0.0, \"n\": 8}]}]], \"type\": \"Model\"}, \"ipython\": true, \"view_params\": {\"model_type\": \"regression\", \"view\": \"Evaluation\"}, \"model_type\": \"regression\", \"attributes\": {\"section_titles\": [\"Schema\", \"Hyperparameters\", \"Training Summary\", \"Settings\", \"Highest Positive Coefficients\", \"Lowest Negative Coefficients\"], \"sections\": [[[\"Number of coefficients\", 3842], [\"Number of examples\", 248], [\"Number of classes\", 2], [\"Number of feature columns\", 1], [\"Number of unpacked features\", 3841]], [[\"L1 penalty\", 0.0], [\"L2 penalty\", 0.01]], [[\"Solver\", \"lbfgs\"], [\"Solver iterations\", 10], [\"Solver status\", \"TERMINATED: Iteration limit reached.\"], [\"Training time (sec)\", 1.1316]], [[\"Log-likelihood\", 0.1292]], [[\"word_count[living]\", 2.1062], [\"word_count[price!!!]\", 1.4237], [\"word_count[genie)!!!!!]\", 1.4237], [\"word_count[recommend.]\", 1.2971], [\"word_count[\\\"problems\\\";]\", 1.2697]], [[\"word_count[fancy,]\", -2.8541], [\"word_count[\\\"their\\\"]\", -2.5844], [\"word_count[basement.]\", -2.5844], [\"word_count[models]\", -2.0285], [\"word_count[top(cover)]\", -2.0285]]]}, \"evaluations\": [[\"test_data\", {\"roc_curve\": [{\"threshold\": 0.0, \"p\": 42, \"fpr\": 1.0, \"tpr\": 1.0, \"n\": 8}, {\"threshold\": 0.001, \"p\": 42, \"fpr\": 1.0, \"tpr\": 1.0, \"n\": 8}, {\"threshold\": 0.002, \"p\": 42, \"fpr\": 1.0, \"tpr\": 1.0, \"n\": 8}, {\"threshold\": 0.003, \"p\": 42, \"fpr\": 1.0, \"tpr\": 1.0, \"n\": 8}, {\"threshold\": 0.004, \"p\": 42, \"fpr\": 1.0, \"tpr\": 1.0, \"n\": 8}, {\"threshold\": 0.005, \"p\": 42, \"fpr\": 1.0, \"tpr\": 1.0, \"n\": 8}, {\"threshold\": 0.006, \"p\": 42, \"fpr\": 1.0, \"tpr\": 1.0, \"n\": 8}, {\"threshold\": 0.007, \"p\": 42, \"fpr\": 1.0, \"tpr\": 1.0, \"n\": 8}, {\"threshold\": 0.008, \"p\": 42, \"fpr\": 1.0, \"tpr\": 1.0, \"n\": 8}, {\"threshold\": 0.009, \"p\": 42, \"fpr\": 1.0, \"tpr\": 1.0, \"n\": 8}, {\"threshold\": 0.01, \"p\": 42, \"fpr\": 1.0, \"tpr\": 1.0, \"n\": 8}, {\"threshold\": 0.011, \"p\": 42, \"fpr\": 1.0, \"tpr\": 1.0, \"n\": 8}, {\"threshold\": 0.012, \"p\": 42, \"fpr\": 1.0, \"tpr\": 1.0, \"n\": 8}, {\"threshold\": 0.013, \"p\": 42, \"fpr\": 1.0, \"tpr\": 1.0, \"n\": 8}, {\"threshold\": 0.014, \"p\": 42, \"fpr\": 1.0, \"tpr\": 1.0, \"n\": 8}, {\"threshold\": 0.015, \"p\": 42, \"fpr\": 1.0, \"tpr\": 1.0, \"n\": 8}, {\"threshold\": 0.016, \"p\": 42, \"fpr\": 1.0, \"tpr\": 1.0, \"n\": 8}, {\"threshold\": 0.017, \"p\": 42, \"fpr\": 1.0, \"tpr\": 1.0, \"n\": 8}, {\"threshold\": 0.018, \"p\": 42, \"fpr\": 1.0, \"tpr\": 1.0, \"n\": 8}, {\"threshold\": 0.019, \"p\": 42, \"fpr\": 1.0, \"tpr\": 1.0, \"n\": 8}, {\"threshold\": 0.02, \"p\": 42, \"fpr\": 1.0, \"tpr\": 1.0, \"n\": 8}, {\"threshold\": 0.021, \"p\": 42, \"fpr\": 1.0, \"tpr\": 1.0, \"n\": 8}, {\"threshold\": 0.022, \"p\": 42, \"fpr\": 1.0, \"tpr\": 1.0, \"n\": 8}, {\"threshold\": 0.023, \"p\": 42, \"fpr\": 1.0, \"tpr\": 1.0, \"n\": 8}, {\"threshold\": 0.024, \"p\": 42, \"fpr\": 1.0, \"tpr\": 1.0, \"n\": 8}, {\"threshold\": 0.025, \"p\": 42, \"fpr\": 1.0, \"tpr\": 1.0, \"n\": 8}, {\"threshold\": 0.026, \"p\": 42, \"fpr\": 1.0, \"tpr\": 1.0, \"n\": 8}, {\"threshold\": 0.027, \"p\": 42, \"fpr\": 1.0, \"tpr\": 1.0, \"n\": 8}, {\"threshold\": 0.028, \"p\": 42, \"fpr\": 1.0, \"tpr\": 1.0, \"n\": 8}, {\"threshold\": 0.029, \"p\": 42, \"fpr\": 1.0, \"tpr\": 1.0, \"n\": 8}, {\"threshold\": 0.03, \"p\": 42, \"fpr\": 1.0, \"tpr\": 1.0, \"n\": 8}, {\"threshold\": 0.031, \"p\": 42, \"fpr\": 1.0, \"tpr\": 1.0, \"n\": 8}, {\"threshold\": 0.032, \"p\": 42, \"fpr\": 1.0, \"tpr\": 1.0, \"n\": 8}, {\"threshold\": 0.033, \"p\": 42, \"fpr\": 1.0, \"tpr\": 1.0, \"n\": 8}, {\"threshold\": 0.034, \"p\": 42, \"fpr\": 1.0, \"tpr\": 1.0, \"n\": 8}, {\"threshold\": 0.035, \"p\": 42, \"fpr\": 1.0, \"tpr\": 1.0, \"n\": 8}, {\"threshold\": 0.036, \"p\": 42, \"fpr\": 1.0, \"tpr\": 1.0, \"n\": 8}, {\"threshold\": 0.037, \"p\": 42, \"fpr\": 1.0, \"tpr\": 1.0, \"n\": 8}, {\"threshold\": 0.038, \"p\": 42, \"fpr\": 1.0, \"tpr\": 1.0, \"n\": 8}, {\"threshold\": 0.039, \"p\": 42, \"fpr\": 1.0, \"tpr\": 1.0, \"n\": 8}, {\"threshold\": 0.04, \"p\": 42, \"fpr\": 1.0, \"tpr\": 1.0, \"n\": 8}, {\"threshold\": 0.041, \"p\": 42, \"fpr\": 1.0, \"tpr\": 1.0, \"n\": 8}, {\"threshold\": 0.042, \"p\": 42, \"fpr\": 1.0, \"tpr\": 1.0, \"n\": 8}, {\"threshold\": 0.043, \"p\": 42, \"fpr\": 1.0, \"tpr\": 1.0, \"n\": 8}, {\"threshold\": 0.044, \"p\": 42, \"fpr\": 1.0, \"tpr\": 1.0, \"n\": 8}, {\"threshold\": 0.045, \"p\": 42, \"fpr\": 1.0, \"tpr\": 1.0, \"n\": 8}, {\"threshold\": 0.046, \"p\": 42, \"fpr\": 1.0, \"tpr\": 1.0, \"n\": 8}, {\"threshold\": 0.047, \"p\": 42, \"fpr\": 1.0, \"tpr\": 1.0, \"n\": 8}, {\"threshold\": 0.048, \"p\": 42, \"fpr\": 1.0, \"tpr\": 1.0, \"n\": 8}, {\"threshold\": 0.049, \"p\": 42, \"fpr\": 1.0, \"tpr\": 1.0, \"n\": 8}, {\"threshold\": 0.05, \"p\": 42, \"fpr\": 1.0, \"tpr\": 1.0, \"n\": 8}, {\"threshold\": 0.051, \"p\": 42, \"fpr\": 1.0, \"tpr\": 1.0, \"n\": 8}, {\"threshold\": 0.052, \"p\": 42, \"fpr\": 1.0, \"tpr\": 1.0, \"n\": 8}, {\"threshold\": 0.053, \"p\": 42, \"fpr\": 1.0, \"tpr\": 1.0, \"n\": 8}, {\"threshold\": 0.054, \"p\": 42, \"fpr\": 1.0, \"tpr\": 1.0, \"n\": 8}, {\"threshold\": 0.055, \"p\": 42, \"fpr\": 1.0, \"tpr\": 1.0, \"n\": 8}, {\"threshold\": 0.056, \"p\": 42, \"fpr\": 1.0, \"tpr\": 1.0, \"n\": 8}, {\"threshold\": 0.057, \"p\": 42, \"fpr\": 1.0, \"tpr\": 1.0, \"n\": 8}, {\"threshold\": 0.058, \"p\": 42, \"fpr\": 1.0, \"tpr\": 1.0, \"n\": 8}, {\"threshold\": 0.059, \"p\": 42, \"fpr\": 1.0, \"tpr\": 1.0, \"n\": 8}, {\"threshold\": 0.06, \"p\": 42, \"fpr\": 1.0, \"tpr\": 1.0, \"n\": 8}, {\"threshold\": 0.061, \"p\": 42, \"fpr\": 1.0, \"tpr\": 1.0, \"n\": 8}, {\"threshold\": 0.062, \"p\": 42, \"fpr\": 1.0, \"tpr\": 1.0, \"n\": 8}, {\"threshold\": 0.063, \"p\": 42, \"fpr\": 1.0, \"tpr\": 1.0, \"n\": 8}, {\"threshold\": 0.064, \"p\": 42, \"fpr\": 1.0, \"tpr\": 1.0, \"n\": 8}, {\"threshold\": 0.065, \"p\": 42, \"fpr\": 1.0, \"tpr\": 1.0, \"n\": 8}, {\"threshold\": 0.066, \"p\": 42, \"fpr\": 1.0, \"tpr\": 1.0, \"n\": 8}, {\"threshold\": 0.067, \"p\": 42, \"fpr\": 1.0, \"tpr\": 1.0, \"n\": 8}, {\"threshold\": 0.068, \"p\": 42, \"fpr\": 1.0, \"tpr\": 1.0, \"n\": 8}, {\"threshold\": 0.069, \"p\": 42, \"fpr\": 1.0, \"tpr\": 1.0, \"n\": 8}, {\"threshold\": 0.07, \"p\": 42, \"fpr\": 1.0, \"tpr\": 1.0, \"n\": 8}, {\"threshold\": 0.071, \"p\": 42, \"fpr\": 1.0, \"tpr\": 1.0, \"n\": 8}, {\"threshold\": 0.072, \"p\": 42, \"fpr\": 1.0, \"tpr\": 1.0, \"n\": 8}, {\"threshold\": 0.073, \"p\": 42, \"fpr\": 1.0, \"tpr\": 1.0, \"n\": 8}, {\"threshold\": 0.074, \"p\": 42, \"fpr\": 1.0, \"tpr\": 1.0, \"n\": 8}, {\"threshold\": 0.075, \"p\": 42, \"fpr\": 1.0, \"tpr\": 1.0, \"n\": 8}, {\"threshold\": 0.076, \"p\": 42, \"fpr\": 1.0, \"tpr\": 1.0, \"n\": 8}, {\"threshold\": 0.077, \"p\": 42, \"fpr\": 1.0, \"tpr\": 1.0, \"n\": 8}, {\"threshold\": 0.078, \"p\": 42, \"fpr\": 1.0, \"tpr\": 1.0, \"n\": 8}, {\"threshold\": 0.079, \"p\": 42, \"fpr\": 1.0, \"tpr\": 1.0, \"n\": 8}, {\"threshold\": 0.08, \"p\": 42, \"fpr\": 1.0, \"tpr\": 1.0, \"n\": 8}, {\"threshold\": 0.081, \"p\": 42, \"fpr\": 1.0, \"tpr\": 1.0, \"n\": 8}, {\"threshold\": 0.082, \"p\": 42, \"fpr\": 1.0, \"tpr\": 1.0, \"n\": 8}, {\"threshold\": 0.083, \"p\": 42, \"fpr\": 1.0, \"tpr\": 1.0, \"n\": 8}, {\"threshold\": 0.084, \"p\": 42, \"fpr\": 1.0, \"tpr\": 1.0, \"n\": 8}, {\"threshold\": 0.085, \"p\": 42, \"fpr\": 1.0, \"tpr\": 1.0, \"n\": 8}, {\"threshold\": 0.086, \"p\": 42, \"fpr\": 1.0, \"tpr\": 1.0, \"n\": 8}, {\"threshold\": 0.087, \"p\": 42, \"fpr\": 1.0, \"tpr\": 1.0, \"n\": 8}, {\"threshold\": 0.088, \"p\": 42, \"fpr\": 1.0, \"tpr\": 1.0, \"n\": 8}, {\"threshold\": 0.089, \"p\": 42, \"fpr\": 1.0, \"tpr\": 1.0, \"n\": 8}, {\"threshold\": 0.09, \"p\": 42, \"fpr\": 1.0, \"tpr\": 1.0, \"n\": 8}, {\"threshold\": 0.091, \"p\": 42, \"fpr\": 1.0, \"tpr\": 1.0, \"n\": 8}, {\"threshold\": 0.092, \"p\": 42, \"fpr\": 1.0, \"tpr\": 1.0, \"n\": 8}, {\"threshold\": 0.093, \"p\": 42, \"fpr\": 1.0, \"tpr\": 1.0, \"n\": 8}, {\"threshold\": 0.094, \"p\": 42, \"fpr\": 1.0, \"tpr\": 1.0, \"n\": 8}, {\"threshold\": 0.095, \"p\": 42, \"fpr\": 1.0, \"tpr\": 1.0, \"n\": 8}, {\"threshold\": 0.096, \"p\": 42, \"fpr\": 1.0, \"tpr\": 1.0, \"n\": 8}, {\"threshold\": 0.097, \"p\": 42, \"fpr\": 1.0, \"tpr\": 1.0, \"n\": 8}, {\"threshold\": 0.098, \"p\": 42, \"fpr\": 1.0, \"tpr\": 1.0, \"n\": 8}, {\"threshold\": 0.099, \"p\": 42, \"fpr\": 1.0, \"tpr\": 1.0, \"n\": 8}, {\"threshold\": 0.1, \"p\": 42, \"fpr\": 1.0, \"tpr\": 1.0, \"n\": 8}, {\"threshold\": 0.101, \"p\": 42, \"fpr\": 1.0, \"tpr\": 1.0, \"n\": 8}, {\"threshold\": 0.102, \"p\": 42, \"fpr\": 1.0, \"tpr\": 1.0, \"n\": 8}, {\"threshold\": 0.103, \"p\": 42, \"fpr\": 1.0, \"tpr\": 1.0, \"n\": 8}, {\"threshold\": 0.104, \"p\": 42, \"fpr\": 1.0, \"tpr\": 1.0, \"n\": 8}, {\"threshold\": 0.105, \"p\": 42, \"fpr\": 1.0, \"tpr\": 1.0, \"n\": 8}, {\"threshold\": 0.106, \"p\": 42, \"fpr\": 1.0, \"tpr\": 1.0, \"n\": 8}, {\"threshold\": 0.107, \"p\": 42, \"fpr\": 1.0, \"tpr\": 1.0, \"n\": 8}, {\"threshold\": 0.108, \"p\": 42, \"fpr\": 1.0, \"tpr\": 1.0, \"n\": 8}, {\"threshold\": 0.109, \"p\": 42, \"fpr\": 1.0, \"tpr\": 1.0, \"n\": 8}, {\"threshold\": 0.11, \"p\": 42, \"fpr\": 1.0, \"tpr\": 1.0, \"n\": 8}, {\"threshold\": 0.111, \"p\": 42, \"fpr\": 1.0, \"tpr\": 1.0, \"n\": 8}, {\"threshold\": 0.112, \"p\": 42, \"fpr\": 1.0, \"tpr\": 1.0, \"n\": 8}, {\"threshold\": 0.113, \"p\": 42, \"fpr\": 1.0, \"tpr\": 1.0, \"n\": 8}, {\"threshold\": 0.114, \"p\": 42, \"fpr\": 1.0, \"tpr\": 1.0, \"n\": 8}, {\"threshold\": 0.115, \"p\": 42, \"fpr\": 1.0, \"tpr\": 1.0, \"n\": 8}, {\"threshold\": 0.116, \"p\": 42, \"fpr\": 1.0, \"tpr\": 1.0, \"n\": 8}, {\"threshold\": 0.117, \"p\": 42, \"fpr\": 1.0, \"tpr\": 1.0, \"n\": 8}, {\"threshold\": 0.118, \"p\": 42, \"fpr\": 1.0, \"tpr\": 1.0, \"n\": 8}, {\"threshold\": 0.119, \"p\": 42, \"fpr\": 1.0, \"tpr\": 1.0, \"n\": 8}, {\"threshold\": 0.12, \"p\": 42, \"fpr\": 1.0, \"tpr\": 1.0, \"n\": 8}, {\"threshold\": 0.121, \"p\": 42, \"fpr\": 1.0, \"tpr\": 1.0, \"n\": 8}, {\"threshold\": 0.122, \"p\": 42, \"fpr\": 1.0, \"tpr\": 1.0, \"n\": 8}, {\"threshold\": 0.123, \"p\": 42, \"fpr\": 1.0, \"tpr\": 1.0, \"n\": 8}, {\"threshold\": 0.124, \"p\": 42, \"fpr\": 1.0, \"tpr\": 1.0, \"n\": 8}, {\"threshold\": 0.125, \"p\": 42, \"fpr\": 1.0, \"tpr\": 1.0, \"n\": 8}, {\"threshold\": 0.126, \"p\": 42, \"fpr\": 1.0, \"tpr\": 1.0, \"n\": 8}, {\"threshold\": 0.127, \"p\": 42, \"fpr\": 1.0, \"tpr\": 1.0, \"n\": 8}, {\"threshold\": 0.128, \"p\": 42, \"fpr\": 1.0, \"tpr\": 1.0, \"n\": 8}, {\"threshold\": 0.129, \"p\": 42, \"fpr\": 1.0, \"tpr\": 1.0, \"n\": 8}, {\"threshold\": 0.13, \"p\": 42, \"fpr\": 1.0, \"tpr\": 1.0, \"n\": 8}, {\"threshold\": 0.131, \"p\": 42, \"fpr\": 1.0, \"tpr\": 1.0, \"n\": 8}, {\"threshold\": 0.132, \"p\": 42, \"fpr\": 1.0, \"tpr\": 1.0, \"n\": 8}, {\"threshold\": 0.133, \"p\": 42, \"fpr\": 1.0, \"tpr\": 1.0, \"n\": 8}, {\"threshold\": 0.134, \"p\": 42, \"fpr\": 1.0, \"tpr\": 1.0, \"n\": 8}, {\"threshold\": 0.135, \"p\": 42, \"fpr\": 1.0, \"tpr\": 1.0, \"n\": 8}, {\"threshold\": 0.136, \"p\": 42, \"fpr\": 1.0, \"tpr\": 1.0, \"n\": 8}, {\"threshold\": 0.137, \"p\": 42, \"fpr\": 1.0, \"tpr\": 1.0, \"n\": 8}, {\"threshold\": 0.138, \"p\": 42, \"fpr\": 1.0, \"tpr\": 1.0, \"n\": 8}, {\"threshold\": 0.139, \"p\": 42, \"fpr\": 1.0, \"tpr\": 1.0, \"n\": 8}, {\"threshold\": 0.14, \"p\": 42, \"fpr\": 1.0, \"tpr\": 1.0, \"n\": 8}, {\"threshold\": 0.141, \"p\": 42, \"fpr\": 1.0, \"tpr\": 1.0, \"n\": 8}, {\"threshold\": 0.142, \"p\": 42, \"fpr\": 1.0, \"tpr\": 1.0, \"n\": 8}, {\"threshold\": 0.143, \"p\": 42, \"fpr\": 1.0, \"tpr\": 1.0, \"n\": 8}, {\"threshold\": 0.144, \"p\": 42, \"fpr\": 1.0, \"tpr\": 1.0, \"n\": 8}, {\"threshold\": 0.145, \"p\": 42, \"fpr\": 1.0, \"tpr\": 1.0, \"n\": 8}, {\"threshold\": 0.146, \"p\": 42, \"fpr\": 1.0, \"tpr\": 1.0, \"n\": 8}, {\"threshold\": 0.147, \"p\": 42, \"fpr\": 1.0, \"tpr\": 1.0, \"n\": 8}, {\"threshold\": 0.148, \"p\": 42, \"fpr\": 1.0, \"tpr\": 1.0, \"n\": 8}, {\"threshold\": 0.149, \"p\": 42, \"fpr\": 1.0, \"tpr\": 1.0, \"n\": 8}, {\"threshold\": 0.15, \"p\": 42, \"fpr\": 1.0, \"tpr\": 1.0, \"n\": 8}, {\"threshold\": 0.151, \"p\": 42, \"fpr\": 1.0, \"tpr\": 1.0, \"n\": 8}, {\"threshold\": 0.152, \"p\": 42, \"fpr\": 1.0, \"tpr\": 1.0, \"n\": 8}, {\"threshold\": 0.153, \"p\": 42, \"fpr\": 1.0, \"tpr\": 1.0, \"n\": 8}, {\"threshold\": 0.154, \"p\": 42, \"fpr\": 1.0, \"tpr\": 1.0, \"n\": 8}, {\"threshold\": 0.155, \"p\": 42, \"fpr\": 1.0, \"tpr\": 1.0, \"n\": 8}, {\"threshold\": 0.156, \"p\": 42, \"fpr\": 1.0, \"tpr\": 1.0, \"n\": 8}, {\"threshold\": 0.157, \"p\": 42, \"fpr\": 1.0, \"tpr\": 1.0, \"n\": 8}, {\"threshold\": 0.158, \"p\": 42, \"fpr\": 1.0, \"tpr\": 1.0, \"n\": 8}, {\"threshold\": 0.159, \"p\": 42, \"fpr\": 1.0, \"tpr\": 1.0, \"n\": 8}, {\"threshold\": 0.16, \"p\": 42, \"fpr\": 1.0, \"tpr\": 1.0, \"n\": 8}, {\"threshold\": 0.161, \"p\": 42, \"fpr\": 1.0, \"tpr\": 1.0, \"n\": 8}, {\"threshold\": 0.162, \"p\": 42, \"fpr\": 1.0, \"tpr\": 1.0, \"n\": 8}, {\"threshold\": 0.163, \"p\": 42, \"fpr\": 1.0, \"tpr\": 1.0, \"n\": 8}, {\"threshold\": 0.164, \"p\": 42, \"fpr\": 1.0, \"tpr\": 1.0, \"n\": 8}, {\"threshold\": 0.165, \"p\": 42, \"fpr\": 1.0, \"tpr\": 1.0, \"n\": 8}, {\"threshold\": 0.166, \"p\": 42, \"fpr\": 1.0, \"tpr\": 1.0, \"n\": 8}, {\"threshold\": 0.167, \"p\": 42, \"fpr\": 1.0, \"tpr\": 1.0, \"n\": 8}, {\"threshold\": 0.168, \"p\": 42, \"fpr\": 1.0, \"tpr\": 1.0, \"n\": 8}, {\"threshold\": 0.169, \"p\": 42, \"fpr\": 1.0, \"tpr\": 1.0, \"n\": 8}, {\"threshold\": 0.17, \"p\": 42, \"fpr\": 1.0, \"tpr\": 1.0, \"n\": 8}, {\"threshold\": 0.171, \"p\": 42, \"fpr\": 1.0, \"tpr\": 1.0, \"n\": 8}, {\"threshold\": 0.172, \"p\": 42, \"fpr\": 1.0, \"tpr\": 1.0, \"n\": 8}, {\"threshold\": 0.173, \"p\": 42, \"fpr\": 1.0, \"tpr\": 1.0, \"n\": 8}, {\"threshold\": 0.174, \"p\": 42, \"fpr\": 1.0, \"tpr\": 1.0, \"n\": 8}, {\"threshold\": 0.175, \"p\": 42, \"fpr\": 1.0, \"tpr\": 1.0, \"n\": 8}, {\"threshold\": 0.176, \"p\": 42, \"fpr\": 1.0, \"tpr\": 1.0, \"n\": 8}, {\"threshold\": 0.177, \"p\": 42, \"fpr\": 1.0, \"tpr\": 1.0, \"n\": 8}, {\"threshold\": 0.178, \"p\": 42, \"fpr\": 1.0, \"tpr\": 1.0, \"n\": 8}, {\"threshold\": 0.179, \"p\": 42, \"fpr\": 1.0, \"tpr\": 1.0, \"n\": 8}, {\"threshold\": 0.18, \"p\": 42, \"fpr\": 1.0, \"tpr\": 1.0, \"n\": 8}, {\"threshold\": 0.181, \"p\": 42, \"fpr\": 1.0, \"tpr\": 1.0, \"n\": 8}, {\"threshold\": 0.182, \"p\": 42, \"fpr\": 1.0, \"tpr\": 1.0, \"n\": 8}, {\"threshold\": 0.183, \"p\": 42, \"fpr\": 1.0, \"tpr\": 1.0, \"n\": 8}, {\"threshold\": 0.184, \"p\": 42, \"fpr\": 1.0, \"tpr\": 1.0, \"n\": 8}, {\"threshold\": 0.185, \"p\": 42, \"fpr\": 1.0, \"tpr\": 1.0, \"n\": 8}, {\"threshold\": 0.186, \"p\": 42, \"fpr\": 1.0, \"tpr\": 1.0, \"n\": 8}, {\"threshold\": 0.187, \"p\": 42, \"fpr\": 1.0, \"tpr\": 1.0, \"n\": 8}, {\"threshold\": 0.188, \"p\": 42, \"fpr\": 1.0, \"tpr\": 1.0, \"n\": 8}, {\"threshold\": 0.189, \"p\": 42, \"fpr\": 1.0, \"tpr\": 1.0, \"n\": 8}, {\"threshold\": 0.19, \"p\": 42, \"fpr\": 1.0, \"tpr\": 1.0, \"n\": 8}, {\"threshold\": 0.191, \"p\": 42, \"fpr\": 1.0, \"tpr\": 1.0, \"n\": 8}, {\"threshold\": 0.192, \"p\": 42, \"fpr\": 1.0, \"tpr\": 1.0, \"n\": 8}, {\"threshold\": 0.193, \"p\": 42, \"fpr\": 1.0, \"tpr\": 1.0, \"n\": 8}, {\"threshold\": 0.194, \"p\": 42, \"fpr\": 1.0, \"tpr\": 1.0, \"n\": 8}, {\"threshold\": 0.195, \"p\": 42, \"fpr\": 1.0, \"tpr\": 1.0, \"n\": 8}, {\"threshold\": 0.196, \"p\": 42, \"fpr\": 1.0, \"tpr\": 1.0, \"n\": 8}, {\"threshold\": 0.197, \"p\": 42, \"fpr\": 1.0, \"tpr\": 1.0, \"n\": 8}, {\"threshold\": 0.198, \"p\": 42, \"fpr\": 1.0, \"tpr\": 1.0, \"n\": 8}, {\"threshold\": 0.199, \"p\": 42, \"fpr\": 1.0, \"tpr\": 1.0, \"n\": 8}, {\"threshold\": 0.2, \"p\": 42, \"fpr\": 1.0, \"tpr\": 1.0, \"n\": 8}, {\"threshold\": 0.201, \"p\": 42, \"fpr\": 1.0, \"tpr\": 1.0, \"n\": 8}, {\"threshold\": 0.202, \"p\": 42, \"fpr\": 1.0, \"tpr\": 1.0, \"n\": 8}, {\"threshold\": 0.203, \"p\": 42, \"fpr\": 1.0, \"tpr\": 1.0, \"n\": 8}, {\"threshold\": 0.204, \"p\": 42, \"fpr\": 1.0, \"tpr\": 1.0, \"n\": 8}, {\"threshold\": 0.205, \"p\": 42, \"fpr\": 1.0, \"tpr\": 1.0, \"n\": 8}, {\"threshold\": 0.206, \"p\": 42, \"fpr\": 1.0, \"tpr\": 1.0, \"n\": 8}, {\"threshold\": 0.207, \"p\": 42, \"fpr\": 1.0, \"tpr\": 1.0, \"n\": 8}, {\"threshold\": 0.208, \"p\": 42, \"fpr\": 1.0, \"tpr\": 1.0, \"n\": 8}, {\"threshold\": 0.209, \"p\": 42, \"fpr\": 1.0, \"tpr\": 1.0, \"n\": 8}, {\"threshold\": 0.21, \"p\": 42, \"fpr\": 1.0, \"tpr\": 1.0, \"n\": 8}, {\"threshold\": 0.211, \"p\": 42, \"fpr\": 1.0, \"tpr\": 1.0, \"n\": 8}, {\"threshold\": 0.212, \"p\": 42, \"fpr\": 1.0, \"tpr\": 1.0, \"n\": 8}, {\"threshold\": 0.213, \"p\": 42, \"fpr\": 1.0, \"tpr\": 1.0, \"n\": 8}, {\"threshold\": 0.214, \"p\": 42, \"fpr\": 1.0, \"tpr\": 1.0, \"n\": 8}, {\"threshold\": 0.215, \"p\": 42, \"fpr\": 1.0, \"tpr\": 1.0, \"n\": 8}, {\"threshold\": 0.216, \"p\": 42, \"fpr\": 1.0, \"tpr\": 1.0, \"n\": 8}, {\"threshold\": 0.217, \"p\": 42, \"fpr\": 1.0, \"tpr\": 1.0, \"n\": 8}, {\"threshold\": 0.218, \"p\": 42, \"fpr\": 1.0, \"tpr\": 1.0, \"n\": 8}, {\"threshold\": 0.219, \"p\": 42, \"fpr\": 1.0, \"tpr\": 1.0, \"n\": 8}, {\"threshold\": 0.22, \"p\": 42, \"fpr\": 1.0, \"tpr\": 1.0, \"n\": 8}, {\"threshold\": 0.221, \"p\": 42, \"fpr\": 1.0, \"tpr\": 1.0, \"n\": 8}, {\"threshold\": 0.222, \"p\": 42, \"fpr\": 1.0, \"tpr\": 1.0, \"n\": 8}, {\"threshold\": 0.223, \"p\": 42, \"fpr\": 1.0, \"tpr\": 1.0, \"n\": 8}, {\"threshold\": 0.224, \"p\": 42, \"fpr\": 1.0, \"tpr\": 1.0, \"n\": 8}, {\"threshold\": 0.225, \"p\": 42, \"fpr\": 1.0, \"tpr\": 1.0, \"n\": 8}, {\"threshold\": 0.226, \"p\": 42, \"fpr\": 1.0, \"tpr\": 1.0, \"n\": 8}, {\"threshold\": 0.227, \"p\": 42, \"fpr\": 1.0, \"tpr\": 1.0, \"n\": 8}, {\"threshold\": 0.228, \"p\": 42, \"fpr\": 1.0, \"tpr\": 1.0, \"n\": 8}, {\"threshold\": 0.229, \"p\": 42, \"fpr\": 1.0, \"tpr\": 1.0, \"n\": 8}, {\"threshold\": 0.23, \"p\": 42, \"fpr\": 1.0, \"tpr\": 1.0, \"n\": 8}, {\"threshold\": 0.231, \"p\": 42, \"fpr\": 1.0, \"tpr\": 1.0, \"n\": 8}, {\"threshold\": 0.232, \"p\": 42, \"fpr\": 1.0, \"tpr\": 1.0, \"n\": 8}, {\"threshold\": 0.233, \"p\": 42, \"fpr\": 1.0, \"tpr\": 1.0, \"n\": 8}, {\"threshold\": 0.234, \"p\": 42, \"fpr\": 1.0, \"tpr\": 1.0, \"n\": 8}, {\"threshold\": 0.235, \"p\": 42, \"fpr\": 1.0, \"tpr\": 1.0, \"n\": 8}, {\"threshold\": 0.236, \"p\": 42, \"fpr\": 1.0, \"tpr\": 1.0, \"n\": 8}, {\"threshold\": 0.237, \"p\": 42, \"fpr\": 1.0, \"tpr\": 1.0, \"n\": 8}, {\"threshold\": 0.238, \"p\": 42, \"fpr\": 1.0, \"tpr\": 1.0, \"n\": 8}, {\"threshold\": 0.239, \"p\": 42, \"fpr\": 1.0, \"tpr\": 1.0, \"n\": 8}, {\"threshold\": 0.24, \"p\": 42, \"fpr\": 1.0, \"tpr\": 1.0, \"n\": 8}, {\"threshold\": 0.241, \"p\": 42, \"fpr\": 1.0, \"tpr\": 1.0, \"n\": 8}, {\"threshold\": 0.242, \"p\": 42, \"fpr\": 1.0, \"tpr\": 1.0, \"n\": 8}, {\"threshold\": 0.243, \"p\": 42, \"fpr\": 1.0, \"tpr\": 1.0, \"n\": 8}, {\"threshold\": 0.244, \"p\": 42, \"fpr\": 1.0, \"tpr\": 1.0, \"n\": 8}, {\"threshold\": 0.245, \"p\": 42, \"fpr\": 1.0, \"tpr\": 1.0, \"n\": 8}, {\"threshold\": 0.246, \"p\": 42, \"fpr\": 1.0, \"tpr\": 1.0, \"n\": 8}, {\"threshold\": 0.247, \"p\": 42, \"fpr\": 1.0, \"tpr\": 1.0, \"n\": 8}, {\"threshold\": 0.248, \"p\": 42, \"fpr\": 1.0, \"tpr\": 1.0, \"n\": 8}, {\"threshold\": 0.249, \"p\": 42, \"fpr\": 1.0, \"tpr\": 1.0, \"n\": 8}, {\"threshold\": 0.25, \"p\": 42, \"fpr\": 1.0, \"tpr\": 1.0, \"n\": 8}, {\"threshold\": 0.251, \"p\": 42, \"fpr\": 1.0, \"tpr\": 1.0, \"n\": 8}, {\"threshold\": 0.252, \"p\": 42, \"fpr\": 1.0, \"tpr\": 1.0, \"n\": 8}, {\"threshold\": 0.253, \"p\": 42, \"fpr\": 1.0, \"tpr\": 1.0, \"n\": 8}, {\"threshold\": 0.254, \"p\": 42, \"fpr\": 1.0, \"tpr\": 1.0, \"n\": 8}, {\"threshold\": 0.255, \"p\": 42, \"fpr\": 1.0, \"tpr\": 1.0, \"n\": 8}, {\"threshold\": 0.256, \"p\": 42, \"fpr\": 1.0, \"tpr\": 1.0, \"n\": 8}, {\"threshold\": 0.257, \"p\": 42, \"fpr\": 1.0, \"tpr\": 1.0, \"n\": 8}, {\"threshold\": 0.258, \"p\": 42, \"fpr\": 1.0, \"tpr\": 1.0, \"n\": 8}, {\"threshold\": 0.259, \"p\": 42, \"fpr\": 1.0, \"tpr\": 1.0, \"n\": 8}, {\"threshold\": 0.26, \"p\": 42, \"fpr\": 1.0, \"tpr\": 1.0, \"n\": 8}, {\"threshold\": 0.261, \"p\": 42, \"fpr\": 1.0, \"tpr\": 1.0, \"n\": 8}, {\"threshold\": 0.262, \"p\": 42, \"fpr\": 1.0, \"tpr\": 1.0, \"n\": 8}, {\"threshold\": 0.263, \"p\": 42, \"fpr\": 1.0, \"tpr\": 1.0, \"n\": 8}, {\"threshold\": 0.264, \"p\": 42, \"fpr\": 1.0, \"tpr\": 1.0, \"n\": 8}, {\"threshold\": 0.265, \"p\": 42, \"fpr\": 1.0, \"tpr\": 1.0, \"n\": 8}, {\"threshold\": 0.266, \"p\": 42, \"fpr\": 1.0, \"tpr\": 1.0, \"n\": 8}, {\"threshold\": 0.267, \"p\": 42, \"fpr\": 1.0, \"tpr\": 1.0, \"n\": 8}, {\"threshold\": 0.268, \"p\": 42, \"fpr\": 1.0, \"tpr\": 1.0, \"n\": 8}, {\"threshold\": 0.269, \"p\": 42, \"fpr\": 1.0, \"tpr\": 1.0, \"n\": 8}, {\"threshold\": 0.27, \"p\": 42, \"fpr\": 1.0, \"tpr\": 1.0, \"n\": 8}, {\"threshold\": 0.271, \"p\": 42, \"fpr\": 1.0, \"tpr\": 1.0, \"n\": 8}, {\"threshold\": 0.272, \"p\": 42, \"fpr\": 1.0, \"tpr\": 1.0, \"n\": 8}, {\"threshold\": 0.273, \"p\": 42, \"fpr\": 1.0, \"tpr\": 1.0, \"n\": 8}, {\"threshold\": 0.274, \"p\": 42, \"fpr\": 1.0, \"tpr\": 1.0, \"n\": 8}, {\"threshold\": 0.275, \"p\": 42, \"fpr\": 1.0, \"tpr\": 1.0, \"n\": 8}, {\"threshold\": 0.276, \"p\": 42, \"fpr\": 1.0, \"tpr\": 1.0, \"n\": 8}, {\"threshold\": 0.277, \"p\": 42, \"fpr\": 1.0, \"tpr\": 1.0, \"n\": 8}, {\"threshold\": 0.278, \"p\": 42, \"fpr\": 1.0, \"tpr\": 1.0, \"n\": 8}, {\"threshold\": 0.279, \"p\": 42, \"fpr\": 1.0, \"tpr\": 1.0, \"n\": 8}, {\"threshold\": 0.28, \"p\": 42, \"fpr\": 1.0, \"tpr\": 1.0, \"n\": 8}, {\"threshold\": 0.281, \"p\": 42, \"fpr\": 1.0, \"tpr\": 1.0, \"n\": 8}, {\"threshold\": 0.282, \"p\": 42, \"fpr\": 1.0, \"tpr\": 1.0, \"n\": 8}, {\"threshold\": 0.283, \"p\": 42, \"fpr\": 1.0, \"tpr\": 1.0, \"n\": 8}, {\"threshold\": 0.284, \"p\": 42, \"fpr\": 1.0, \"tpr\": 1.0, \"n\": 8}, {\"threshold\": 0.285, \"p\": 42, \"fpr\": 1.0, \"tpr\": 1.0, \"n\": 8}, {\"threshold\": 0.286, \"p\": 42, \"fpr\": 1.0, \"tpr\": 1.0, \"n\": 8}, {\"threshold\": 0.287, \"p\": 42, \"fpr\": 1.0, \"tpr\": 1.0, \"n\": 8}, {\"threshold\": 0.288, \"p\": 42, \"fpr\": 1.0, \"tpr\": 1.0, \"n\": 8}, {\"threshold\": 0.289, \"p\": 42, \"fpr\": 1.0, \"tpr\": 1.0, \"n\": 8}, {\"threshold\": 0.29, \"p\": 42, \"fpr\": 1.0, \"tpr\": 1.0, \"n\": 8}, {\"threshold\": 0.291, \"p\": 42, \"fpr\": 1.0, \"tpr\": 1.0, \"n\": 8}, {\"threshold\": 0.292, \"p\": 42, \"fpr\": 1.0, \"tpr\": 1.0, \"n\": 8}, {\"threshold\": 0.293, \"p\": 42, \"fpr\": 1.0, \"tpr\": 1.0, \"n\": 8}, {\"threshold\": 0.294, \"p\": 42, \"fpr\": 1.0, \"tpr\": 1.0, \"n\": 8}, {\"threshold\": 0.295, \"p\": 42, \"fpr\": 1.0, \"tpr\": 1.0, \"n\": 8}, {\"threshold\": 0.296, \"p\": 42, \"fpr\": 1.0, \"tpr\": 1.0, \"n\": 8}, {\"threshold\": 0.297, \"p\": 42, \"fpr\": 1.0, \"tpr\": 1.0, \"n\": 8}, {\"threshold\": 0.298, \"p\": 42, \"fpr\": 1.0, \"tpr\": 1.0, \"n\": 8}, {\"threshold\": 0.299, \"p\": 42, \"fpr\": 1.0, \"tpr\": 1.0, \"n\": 8}, {\"threshold\": 0.3, \"p\": 42, \"fpr\": 1.0, \"tpr\": 1.0, \"n\": 8}, {\"threshold\": 0.301, \"p\": 42, \"fpr\": 1.0, \"tpr\": 1.0, \"n\": 8}, {\"threshold\": 0.302, \"p\": 42, \"fpr\": 1.0, \"tpr\": 1.0, \"n\": 8}, {\"threshold\": 0.303, \"p\": 42, \"fpr\": 1.0, \"tpr\": 1.0, \"n\": 8}, {\"threshold\": 0.304, \"p\": 42, \"fpr\": 1.0, \"tpr\": 1.0, \"n\": 8}, {\"threshold\": 0.305, \"p\": 42, \"fpr\": 1.0, \"tpr\": 1.0, \"n\": 8}, {\"threshold\": 0.306, \"p\": 42, \"fpr\": 1.0, \"tpr\": 1.0, \"n\": 8}, {\"threshold\": 0.307, \"p\": 42, \"fpr\": 1.0, \"tpr\": 1.0, \"n\": 8}, {\"threshold\": 0.308, \"p\": 42, \"fpr\": 1.0, \"tpr\": 1.0, \"n\": 8}, {\"threshold\": 0.309, \"p\": 42, \"fpr\": 1.0, \"tpr\": 1.0, \"n\": 8}, {\"threshold\": 0.31, \"p\": 42, \"fpr\": 1.0, \"tpr\": 1.0, \"n\": 8}, {\"threshold\": 0.311, \"p\": 42, \"fpr\": 1.0, \"tpr\": 1.0, \"n\": 8}, {\"threshold\": 0.312, \"p\": 42, \"fpr\": 1.0, \"tpr\": 1.0, \"n\": 8}, {\"threshold\": 0.313, \"p\": 42, \"fpr\": 1.0, \"tpr\": 1.0, \"n\": 8}, {\"threshold\": 0.314, \"p\": 42, \"fpr\": 1.0, \"tpr\": 1.0, \"n\": 8}, {\"threshold\": 0.315, \"p\": 42, \"fpr\": 1.0, \"tpr\": 1.0, \"n\": 8}, {\"threshold\": 0.316, \"p\": 42, \"fpr\": 1.0, \"tpr\": 1.0, \"n\": 8}, {\"threshold\": 0.317, \"p\": 42, \"fpr\": 1.0, \"tpr\": 1.0, \"n\": 8}, {\"threshold\": 0.318, \"p\": 42, \"fpr\": 1.0, \"tpr\": 1.0, \"n\": 8}, {\"threshold\": 0.319, \"p\": 42, \"fpr\": 1.0, \"tpr\": 1.0, \"n\": 8}, {\"threshold\": 0.32, \"p\": 42, \"fpr\": 1.0, \"tpr\": 1.0, \"n\": 8}, {\"threshold\": 0.321, \"p\": 42, \"fpr\": 1.0, \"tpr\": 1.0, \"n\": 8}, {\"threshold\": 0.322, \"p\": 42, \"fpr\": 1.0, \"tpr\": 1.0, \"n\": 8}, {\"threshold\": 0.323, \"p\": 42, \"fpr\": 1.0, \"tpr\": 1.0, \"n\": 8}, {\"threshold\": 0.324, \"p\": 42, \"fpr\": 1.0, \"tpr\": 1.0, \"n\": 8}, {\"threshold\": 0.325, \"p\": 42, \"fpr\": 1.0, \"tpr\": 1.0, \"n\": 8}, {\"threshold\": 0.326, \"p\": 42, \"fpr\": 1.0, \"tpr\": 1.0, \"n\": 8}, {\"threshold\": 0.327, \"p\": 42, \"fpr\": 1.0, \"tpr\": 1.0, \"n\": 8}, {\"threshold\": 0.328, \"p\": 42, \"fpr\": 1.0, \"tpr\": 1.0, \"n\": 8}, {\"threshold\": 0.329, \"p\": 42, \"fpr\": 1.0, \"tpr\": 1.0, \"n\": 8}, {\"threshold\": 0.33, \"p\": 42, \"fpr\": 1.0, \"tpr\": 1.0, \"n\": 8}, {\"threshold\": 0.331, \"p\": 42, \"fpr\": 1.0, \"tpr\": 1.0, \"n\": 8}, {\"threshold\": 0.332, \"p\": 42, \"fpr\": 1.0, \"tpr\": 1.0, \"n\": 8}, {\"threshold\": 0.333, \"p\": 42, \"fpr\": 1.0, \"tpr\": 1.0, \"n\": 8}, {\"threshold\": 0.334, \"p\": 42, \"fpr\": 1.0, \"tpr\": 1.0, \"n\": 8}, {\"threshold\": 0.335, \"p\": 42, \"fpr\": 1.0, \"tpr\": 1.0, \"n\": 8}, {\"threshold\": 0.336, \"p\": 42, \"fpr\": 1.0, \"tpr\": 1.0, \"n\": 8}, {\"threshold\": 0.337, \"p\": 42, \"fpr\": 1.0, \"tpr\": 1.0, \"n\": 8}, {\"threshold\": 0.338, \"p\": 42, \"fpr\": 1.0, \"tpr\": 1.0, \"n\": 8}, {\"threshold\": 0.339, \"p\": 42, \"fpr\": 1.0, \"tpr\": 1.0, \"n\": 8}, {\"threshold\": 0.34, \"p\": 42, \"fpr\": 1.0, \"tpr\": 1.0, \"n\": 8}, {\"threshold\": 0.341, \"p\": 42, \"fpr\": 1.0, \"tpr\": 1.0, \"n\": 8}, {\"threshold\": 0.342, \"p\": 42, \"fpr\": 1.0, \"tpr\": 1.0, \"n\": 8}, {\"threshold\": 0.343, \"p\": 42, \"fpr\": 1.0, \"tpr\": 1.0, \"n\": 8}, {\"threshold\": 0.344, \"p\": 42, \"fpr\": 1.0, \"tpr\": 1.0, \"n\": 8}, {\"threshold\": 0.345, \"p\": 42, \"fpr\": 1.0, \"tpr\": 1.0, \"n\": 8}, {\"threshold\": 0.346, \"p\": 42, \"fpr\": 1.0, \"tpr\": 1.0, \"n\": 8}, {\"threshold\": 0.347, \"p\": 42, \"fpr\": 1.0, \"tpr\": 1.0, \"n\": 8}, {\"threshold\": 0.348, \"p\": 42, \"fpr\": 1.0, \"tpr\": 1.0, \"n\": 8}, {\"threshold\": 0.349, \"p\": 42, \"fpr\": 1.0, \"tpr\": 1.0, \"n\": 8}, {\"threshold\": 0.35, \"p\": 42, \"fpr\": 1.0, \"tpr\": 1.0, \"n\": 8}, {\"threshold\": 0.351, \"p\": 42, \"fpr\": 1.0, \"tpr\": 1.0, \"n\": 8}, {\"threshold\": 0.352, \"p\": 42, \"fpr\": 1.0, \"tpr\": 1.0, \"n\": 8}, {\"threshold\": 0.353, \"p\": 42, \"fpr\": 1.0, \"tpr\": 1.0, \"n\": 8}, {\"threshold\": 0.354, \"p\": 42, \"fpr\": 1.0, \"tpr\": 1.0, \"n\": 8}, {\"threshold\": 0.355, \"p\": 42, \"fpr\": 1.0, \"tpr\": 1.0, \"n\": 8}, {\"threshold\": 0.356, \"p\": 42, \"fpr\": 1.0, \"tpr\": 1.0, \"n\": 8}, {\"threshold\": 0.357, \"p\": 42, \"fpr\": 1.0, \"tpr\": 1.0, \"n\": 8}, {\"threshold\": 0.358, \"p\": 42, \"fpr\": 1.0, \"tpr\": 1.0, \"n\": 8}, {\"threshold\": 0.359, \"p\": 42, \"fpr\": 1.0, \"tpr\": 1.0, \"n\": 8}, {\"threshold\": 0.36, \"p\": 42, \"fpr\": 1.0, \"tpr\": 1.0, \"n\": 8}, {\"threshold\": 0.361, \"p\": 42, \"fpr\": 1.0, \"tpr\": 1.0, \"n\": 8}, {\"threshold\": 0.362, \"p\": 42, \"fpr\": 1.0, \"tpr\": 1.0, \"n\": 8}, {\"threshold\": 0.363, \"p\": 42, \"fpr\": 1.0, \"tpr\": 1.0, \"n\": 8}, {\"threshold\": 0.364, \"p\": 42, \"fpr\": 1.0, \"tpr\": 1.0, \"n\": 8}, {\"threshold\": 0.365, \"p\": 42, \"fpr\": 1.0, \"tpr\": 1.0, \"n\": 8}, {\"threshold\": 0.366, \"p\": 42, \"fpr\": 1.0, \"tpr\": 1.0, \"n\": 8}, {\"threshold\": 0.367, \"p\": 42, \"fpr\": 1.0, \"tpr\": 1.0, \"n\": 8}, {\"threshold\": 0.368, \"p\": 42, \"fpr\": 1.0, \"tpr\": 1.0, \"n\": 8}, {\"threshold\": 0.369, \"p\": 42, \"fpr\": 1.0, \"tpr\": 1.0, \"n\": 8}, {\"threshold\": 0.37, \"p\": 42, \"fpr\": 1.0, \"tpr\": 1.0, \"n\": 8}, {\"threshold\": 0.371, \"p\": 42, \"fpr\": 1.0, \"tpr\": 1.0, \"n\": 8}, {\"threshold\": 0.372, \"p\": 42, \"fpr\": 1.0, \"tpr\": 1.0, \"n\": 8}, {\"threshold\": 0.373, \"p\": 42, \"fpr\": 1.0, \"tpr\": 1.0, \"n\": 8}, {\"threshold\": 0.374, \"p\": 42, \"fpr\": 1.0, \"tpr\": 1.0, \"n\": 8}, {\"threshold\": 0.375, \"p\": 42, \"fpr\": 1.0, \"tpr\": 1.0, \"n\": 8}, {\"threshold\": 0.376, \"p\": 42, \"fpr\": 1.0, \"tpr\": 1.0, \"n\": 8}, {\"threshold\": 0.377, \"p\": 42, \"fpr\": 1.0, \"tpr\": 1.0, \"n\": 8}, {\"threshold\": 0.378, \"p\": 42, \"fpr\": 1.0, \"tpr\": 1.0, \"n\": 8}, {\"threshold\": 0.379, \"p\": 42, \"fpr\": 1.0, \"tpr\": 1.0, \"n\": 8}, {\"threshold\": 0.38, \"p\": 42, \"fpr\": 1.0, \"tpr\": 1.0, \"n\": 8}, {\"threshold\": 0.381, \"p\": 42, \"fpr\": 1.0, \"tpr\": 1.0, \"n\": 8}, {\"threshold\": 0.382, \"p\": 42, \"fpr\": 1.0, \"tpr\": 1.0, \"n\": 8}, {\"threshold\": 0.383, \"p\": 42, \"fpr\": 1.0, \"tpr\": 1.0, \"n\": 8}, {\"threshold\": 0.384, \"p\": 42, \"fpr\": 1.0, \"tpr\": 1.0, \"n\": 8}, {\"threshold\": 0.385, \"p\": 42, \"fpr\": 1.0, \"tpr\": 1.0, \"n\": 8}, {\"threshold\": 0.386, \"p\": 42, \"fpr\": 1.0, \"tpr\": 1.0, \"n\": 8}, {\"threshold\": 0.387, \"p\": 42, \"fpr\": 1.0, \"tpr\": 1.0, \"n\": 8}, {\"threshold\": 0.388, \"p\": 42, \"fpr\": 1.0, \"tpr\": 1.0, \"n\": 8}, {\"threshold\": 0.389, \"p\": 42, \"fpr\": 1.0, \"tpr\": 1.0, \"n\": 8}, {\"threshold\": 0.39, \"p\": 42, \"fpr\": 1.0, \"tpr\": 1.0, \"n\": 8}, {\"threshold\": 0.391, \"p\": 42, \"fpr\": 1.0, \"tpr\": 1.0, \"n\": 8}, {\"threshold\": 0.392, \"p\": 42, \"fpr\": 1.0, \"tpr\": 1.0, \"n\": 8}, {\"threshold\": 0.393, \"p\": 42, \"fpr\": 1.0, \"tpr\": 1.0, \"n\": 8}, {\"threshold\": 0.394, \"p\": 42, \"fpr\": 1.0, \"tpr\": 1.0, \"n\": 8}, {\"threshold\": 0.395, \"p\": 42, \"fpr\": 1.0, \"tpr\": 1.0, \"n\": 8}, {\"threshold\": 0.396, \"p\": 42, \"fpr\": 1.0, \"tpr\": 1.0, \"n\": 8}, {\"threshold\": 0.397, \"p\": 42, \"fpr\": 1.0, \"tpr\": 1.0, \"n\": 8}, {\"threshold\": 0.398, \"p\": 42, \"fpr\": 1.0, \"tpr\": 1.0, \"n\": 8}, {\"threshold\": 0.399, \"p\": 42, \"fpr\": 1.0, \"tpr\": 1.0, \"n\": 8}, {\"threshold\": 0.4, \"p\": 42, \"fpr\": 1.0, \"tpr\": 1.0, \"n\": 8}, {\"threshold\": 0.401, \"p\": 42, \"fpr\": 1.0, \"tpr\": 1.0, \"n\": 8}, {\"threshold\": 0.402, \"p\": 42, \"fpr\": 1.0, \"tpr\": 1.0, \"n\": 8}, {\"threshold\": 0.403, \"p\": 42, \"fpr\": 1.0, \"tpr\": 1.0, \"n\": 8}, {\"threshold\": 0.404, \"p\": 42, \"fpr\": 1.0, \"tpr\": 1.0, \"n\": 8}, {\"threshold\": 0.405, \"p\": 42, \"fpr\": 1.0, \"tpr\": 1.0, \"n\": 8}, {\"threshold\": 0.406, \"p\": 42, \"fpr\": 1.0, \"tpr\": 1.0, \"n\": 8}, {\"threshold\": 0.407, \"p\": 42, \"fpr\": 1.0, \"tpr\": 1.0, \"n\": 8}, {\"threshold\": 0.408, \"p\": 42, \"fpr\": 1.0, \"tpr\": 1.0, \"n\": 8}, {\"threshold\": 0.409, \"p\": 42, \"fpr\": 1.0, \"tpr\": 1.0, \"n\": 8}, {\"threshold\": 0.41, \"p\": 42, \"fpr\": 1.0, \"tpr\": 1.0, \"n\": 8}, {\"threshold\": 0.411, \"p\": 42, \"fpr\": 1.0, \"tpr\": 1.0, \"n\": 8}, {\"threshold\": 0.412, \"p\": 42, \"fpr\": 1.0, \"tpr\": 1.0, \"n\": 8}, {\"threshold\": 0.413, \"p\": 42, \"fpr\": 1.0, \"tpr\": 1.0, \"n\": 8}, {\"threshold\": 0.414, \"p\": 42, \"fpr\": 1.0, \"tpr\": 1.0, \"n\": 8}, {\"threshold\": 0.415, \"p\": 42, \"fpr\": 1.0, \"tpr\": 1.0, \"n\": 8}, {\"threshold\": 0.416, \"p\": 42, \"fpr\": 1.0, \"tpr\": 1.0, \"n\": 8}, {\"threshold\": 0.417, \"p\": 42, \"fpr\": 1.0, \"tpr\": 1.0, \"n\": 8}, {\"threshold\": 0.418, \"p\": 42, \"fpr\": 1.0, \"tpr\": 1.0, \"n\": 8}, {\"threshold\": 0.419, \"p\": 42, \"fpr\": 1.0, \"tpr\": 1.0, \"n\": 8}, {\"threshold\": 0.42, \"p\": 42, \"fpr\": 1.0, \"tpr\": 1.0, \"n\": 8}, {\"threshold\": 0.421, \"p\": 42, \"fpr\": 1.0, \"tpr\": 1.0, \"n\": 8}, {\"threshold\": 0.422, \"p\": 42, \"fpr\": 1.0, \"tpr\": 1.0, \"n\": 8}, {\"threshold\": 0.423, \"p\": 42, \"fpr\": 1.0, \"tpr\": 1.0, \"n\": 8}, {\"threshold\": 0.424, \"p\": 42, \"fpr\": 1.0, \"tpr\": 1.0, \"n\": 8}, {\"threshold\": 0.425, \"p\": 42, \"fpr\": 1.0, \"tpr\": 1.0, \"n\": 8}, {\"threshold\": 0.426, \"p\": 42, \"fpr\": 1.0, \"tpr\": 1.0, \"n\": 8}, {\"threshold\": 0.427, \"p\": 42, \"fpr\": 1.0, \"tpr\": 1.0, \"n\": 8}, {\"threshold\": 0.428, \"p\": 42, \"fpr\": 1.0, \"tpr\": 1.0, \"n\": 8}, {\"threshold\": 0.429, \"p\": 42, \"fpr\": 1.0, \"tpr\": 1.0, \"n\": 8}, {\"threshold\": 0.43, \"p\": 42, \"fpr\": 1.0, \"tpr\": 1.0, \"n\": 8}, {\"threshold\": 0.431, \"p\": 42, \"fpr\": 1.0, \"tpr\": 1.0, \"n\": 8}, {\"threshold\": 0.432, \"p\": 42, \"fpr\": 1.0, \"tpr\": 1.0, \"n\": 8}, {\"threshold\": 0.433, \"p\": 42, \"fpr\": 1.0, \"tpr\": 1.0, \"n\": 8}, {\"threshold\": 0.434, \"p\": 42, \"fpr\": 1.0, \"tpr\": 1.0, \"n\": 8}, {\"threshold\": 0.435, \"p\": 42, \"fpr\": 1.0, \"tpr\": 1.0, \"n\": 8}, {\"threshold\": 0.436, \"p\": 42, \"fpr\": 1.0, \"tpr\": 1.0, \"n\": 8}, {\"threshold\": 0.437, \"p\": 42, \"fpr\": 1.0, \"tpr\": 1.0, \"n\": 8}, {\"threshold\": 0.438, \"p\": 42, \"fpr\": 1.0, \"tpr\": 1.0, \"n\": 8}, {\"threshold\": 0.439, \"p\": 42, \"fpr\": 1.0, \"tpr\": 1.0, \"n\": 8}, {\"threshold\": 0.44, \"p\": 42, \"fpr\": 1.0, \"tpr\": 1.0, \"n\": 8}, {\"threshold\": 0.441, \"p\": 42, \"fpr\": 1.0, \"tpr\": 1.0, \"n\": 8}, {\"threshold\": 0.442, \"p\": 42, \"fpr\": 1.0, \"tpr\": 1.0, \"n\": 8}, {\"threshold\": 0.443, \"p\": 42, \"fpr\": 1.0, \"tpr\": 1.0, \"n\": 8}, {\"threshold\": 0.444, \"p\": 42, \"fpr\": 1.0, \"tpr\": 1.0, \"n\": 8}, {\"threshold\": 0.445, \"p\": 42, \"fpr\": 1.0, \"tpr\": 1.0, \"n\": 8}, {\"threshold\": 0.446, \"p\": 42, \"fpr\": 1.0, \"tpr\": 1.0, \"n\": 8}, {\"threshold\": 0.447, \"p\": 42, \"fpr\": 1.0, \"tpr\": 1.0, \"n\": 8}, {\"threshold\": 0.448, \"p\": 42, \"fpr\": 1.0, \"tpr\": 1.0, \"n\": 8}, {\"threshold\": 0.449, \"p\": 42, \"fpr\": 1.0, \"tpr\": 1.0, \"n\": 8}, {\"threshold\": 0.45, \"p\": 42, \"fpr\": 1.0, \"tpr\": 1.0, \"n\": 8}, {\"threshold\": 0.451, \"p\": 42, \"fpr\": 1.0, \"tpr\": 1.0, \"n\": 8}, {\"threshold\": 0.452, \"p\": 42, \"fpr\": 1.0, \"tpr\": 1.0, \"n\": 8}, {\"threshold\": 0.453, \"p\": 42, \"fpr\": 1.0, \"tpr\": 1.0, \"n\": 8}, {\"threshold\": 0.454, \"p\": 42, \"fpr\": 1.0, \"tpr\": 1.0, \"n\": 8}, {\"threshold\": 0.455, \"p\": 42, \"fpr\": 1.0, \"tpr\": 1.0, \"n\": 8}, {\"threshold\": 0.456, \"p\": 42, \"fpr\": 1.0, \"tpr\": 1.0, \"n\": 8}, {\"threshold\": 0.457, \"p\": 42, \"fpr\": 1.0, \"tpr\": 1.0, \"n\": 8}, {\"threshold\": 0.458, \"p\": 42, \"fpr\": 1.0, \"tpr\": 1.0, \"n\": 8}, {\"threshold\": 0.459, \"p\": 42, \"fpr\": 1.0, \"tpr\": 1.0, \"n\": 8}, {\"threshold\": 0.46, \"p\": 42, \"fpr\": 1.0, \"tpr\": 1.0, \"n\": 8}, {\"threshold\": 0.461, \"p\": 42, \"fpr\": 1.0, \"tpr\": 1.0, \"n\": 8}, {\"threshold\": 0.462, \"p\": 42, \"fpr\": 1.0, \"tpr\": 1.0, \"n\": 8}, {\"threshold\": 0.463, \"p\": 42, \"fpr\": 1.0, \"tpr\": 1.0, \"n\": 8}, {\"threshold\": 0.464, \"p\": 42, \"fpr\": 1.0, \"tpr\": 1.0, \"n\": 8}, {\"threshold\": 0.465, \"p\": 42, \"fpr\": 1.0, \"tpr\": 1.0, \"n\": 8}, {\"threshold\": 0.466, \"p\": 42, \"fpr\": 1.0, \"tpr\": 1.0, \"n\": 8}, {\"threshold\": 0.467, \"p\": 42, \"fpr\": 1.0, \"tpr\": 1.0, \"n\": 8}, {\"threshold\": 0.468, \"p\": 42, \"fpr\": 1.0, \"tpr\": 1.0, \"n\": 8}, {\"threshold\": 0.469, \"p\": 42, \"fpr\": 1.0, \"tpr\": 1.0, \"n\": 8}, {\"threshold\": 0.47, \"p\": 42, \"fpr\": 1.0, \"tpr\": 1.0, \"n\": 8}, {\"threshold\": 0.471, \"p\": 42, \"fpr\": 1.0, \"tpr\": 1.0, \"n\": 8}, {\"threshold\": 0.472, \"p\": 42, \"fpr\": 1.0, \"tpr\": 1.0, \"n\": 8}, {\"threshold\": 0.473, \"p\": 42, \"fpr\": 1.0, \"tpr\": 1.0, \"n\": 8}, {\"threshold\": 0.474, \"p\": 42, \"fpr\": 1.0, \"tpr\": 1.0, \"n\": 8}, {\"threshold\": 0.475, \"p\": 42, \"fpr\": 1.0, \"tpr\": 1.0, \"n\": 8}, {\"threshold\": 0.476, \"p\": 42, \"fpr\": 1.0, \"tpr\": 1.0, \"n\": 8}, {\"threshold\": 0.477, \"p\": 42, \"fpr\": 1.0, \"tpr\": 1.0, \"n\": 8}, {\"threshold\": 0.478, \"p\": 42, \"fpr\": 1.0, \"tpr\": 1.0, \"n\": 8}, {\"threshold\": 0.479, \"p\": 42, \"fpr\": 1.0, \"tpr\": 1.0, \"n\": 8}, {\"threshold\": 0.48, \"p\": 42, \"fpr\": 1.0, \"tpr\": 1.0, \"n\": 8}, {\"threshold\": 0.481, \"p\": 42, \"fpr\": 1.0, \"tpr\": 1.0, \"n\": 8}, {\"threshold\": 0.482, \"p\": 42, \"fpr\": 1.0, \"tpr\": 1.0, \"n\": 8}, {\"threshold\": 0.483, \"p\": 42, \"fpr\": 1.0, \"tpr\": 1.0, \"n\": 8}, {\"threshold\": 0.484, \"p\": 42, \"fpr\": 1.0, \"tpr\": 1.0, \"n\": 8}, {\"threshold\": 0.485, \"p\": 42, \"fpr\": 1.0, \"tpr\": 1.0, \"n\": 8}, {\"threshold\": 0.486, \"p\": 42, \"fpr\": 1.0, \"tpr\": 1.0, \"n\": 8}, {\"threshold\": 0.487, \"p\": 42, \"fpr\": 1.0, \"tpr\": 1.0, \"n\": 8}, {\"threshold\": 0.488, \"p\": 42, \"fpr\": 1.0, \"tpr\": 1.0, \"n\": 8}, {\"threshold\": 0.489, \"p\": 42, \"fpr\": 1.0, \"tpr\": 1.0, \"n\": 8}, {\"threshold\": 0.49, \"p\": 42, \"fpr\": 1.0, \"tpr\": 1.0, \"n\": 8}, {\"threshold\": 0.491, \"p\": 42, \"fpr\": 1.0, \"tpr\": 1.0, \"n\": 8}, {\"threshold\": 0.492, \"p\": 42, \"fpr\": 1.0, \"tpr\": 1.0, \"n\": 8}, {\"threshold\": 0.493, \"p\": 42, \"fpr\": 1.0, \"tpr\": 1.0, \"n\": 8}, {\"threshold\": 0.494, \"p\": 42, \"fpr\": 1.0, \"tpr\": 1.0, \"n\": 8}, {\"threshold\": 0.495, \"p\": 42, \"fpr\": 1.0, \"tpr\": 1.0, \"n\": 8}, {\"threshold\": 0.496, \"p\": 42, \"fpr\": 1.0, \"tpr\": 1.0, \"n\": 8}, {\"threshold\": 0.497, \"p\": 42, \"fpr\": 1.0, \"tpr\": 1.0, \"n\": 8}, {\"threshold\": 0.498, \"p\": 42, \"fpr\": 1.0, \"tpr\": 1.0, \"n\": 8}, {\"threshold\": 0.499, \"p\": 42, \"fpr\": 1.0, \"tpr\": 1.0, \"n\": 8}, {\"threshold\": 0.5, \"p\": 42, \"fpr\": 1.0, \"tpr\": 1.0, \"n\": 8}, {\"threshold\": 0.501, \"p\": 42, \"fpr\": 1.0, \"tpr\": 1.0, \"n\": 8}, {\"threshold\": 0.502, \"p\": 42, \"fpr\": 1.0, \"tpr\": 1.0, \"n\": 8}, {\"threshold\": 0.503, \"p\": 42, \"fpr\": 1.0, \"tpr\": 1.0, \"n\": 8}, {\"threshold\": 0.504, \"p\": 42, \"fpr\": 1.0, \"tpr\": 1.0, \"n\": 8}, {\"threshold\": 0.505, \"p\": 42, \"fpr\": 1.0, \"tpr\": 1.0, \"n\": 8}, {\"threshold\": 0.506, \"p\": 42, \"fpr\": 1.0, \"tpr\": 1.0, \"n\": 8}, {\"threshold\": 0.507, \"p\": 42, \"fpr\": 1.0, \"tpr\": 1.0, \"n\": 8}, {\"threshold\": 0.508, \"p\": 42, \"fpr\": 1.0, \"tpr\": 1.0, \"n\": 8}, {\"threshold\": 0.509, \"p\": 42, \"fpr\": 1.0, \"tpr\": 1.0, \"n\": 8}, {\"threshold\": 0.51, \"p\": 42, \"fpr\": 1.0, \"tpr\": 1.0, \"n\": 8}, {\"threshold\": 0.511, \"p\": 42, \"fpr\": 1.0, \"tpr\": 1.0, \"n\": 8}, {\"threshold\": 0.512, \"p\": 42, \"fpr\": 1.0, \"tpr\": 1.0, \"n\": 8}, {\"threshold\": 0.513, \"p\": 42, \"fpr\": 1.0, \"tpr\": 1.0, \"n\": 8}, {\"threshold\": 0.514, \"p\": 42, \"fpr\": 1.0, \"tpr\": 1.0, \"n\": 8}, {\"threshold\": 0.515, \"p\": 42, \"fpr\": 1.0, \"tpr\": 1.0, \"n\": 8}, {\"threshold\": 0.516, \"p\": 42, \"fpr\": 1.0, \"tpr\": 1.0, \"n\": 8}, {\"threshold\": 0.517, \"p\": 42, \"fpr\": 1.0, \"tpr\": 1.0, \"n\": 8}, {\"threshold\": 0.518, \"p\": 42, \"fpr\": 1.0, \"tpr\": 1.0, \"n\": 8}, {\"threshold\": 0.519, \"p\": 42, \"fpr\": 1.0, \"tpr\": 1.0, \"n\": 8}, {\"threshold\": 0.52, \"p\": 42, \"fpr\": 1.0, \"tpr\": 1.0, \"n\": 8}, {\"threshold\": 0.521, \"p\": 42, \"fpr\": 1.0, \"tpr\": 1.0, \"n\": 8}, {\"threshold\": 0.522, \"p\": 42, \"fpr\": 1.0, \"tpr\": 1.0, \"n\": 8}, {\"threshold\": 0.523, \"p\": 42, \"fpr\": 1.0, \"tpr\": 1.0, \"n\": 8}, {\"threshold\": 0.524, \"p\": 42, \"fpr\": 1.0, \"tpr\": 1.0, \"n\": 8}, {\"threshold\": 0.525, \"p\": 42, \"fpr\": 1.0, \"tpr\": 1.0, \"n\": 8}, {\"threshold\": 0.526, \"p\": 42, \"fpr\": 1.0, \"tpr\": 1.0, \"n\": 8}, {\"threshold\": 0.527, \"p\": 42, \"fpr\": 1.0, \"tpr\": 1.0, \"n\": 8}, {\"threshold\": 0.528, \"p\": 42, \"fpr\": 1.0, \"tpr\": 1.0, \"n\": 8}, {\"threshold\": 0.529, \"p\": 42, \"fpr\": 1.0, \"tpr\": 1.0, \"n\": 8}, {\"threshold\": 0.53, \"p\": 42, \"fpr\": 1.0, \"tpr\": 1.0, \"n\": 8}, {\"threshold\": 0.531, \"p\": 42, \"fpr\": 1.0, \"tpr\": 1.0, \"n\": 8}, {\"threshold\": 0.532, \"p\": 42, \"fpr\": 1.0, \"tpr\": 1.0, \"n\": 8}, {\"threshold\": 0.533, \"p\": 42, \"fpr\": 1.0, \"tpr\": 1.0, \"n\": 8}, {\"threshold\": 0.534, \"p\": 42, \"fpr\": 1.0, \"tpr\": 1.0, \"n\": 8}, {\"threshold\": 0.535, \"p\": 42, \"fpr\": 1.0, \"tpr\": 1.0, \"n\": 8}, {\"threshold\": 0.536, \"p\": 42, \"fpr\": 1.0, \"tpr\": 1.0, \"n\": 8}, {\"threshold\": 0.537, \"p\": 42, \"fpr\": 1.0, \"tpr\": 1.0, \"n\": 8}, {\"threshold\": 0.538, \"p\": 42, \"fpr\": 1.0, \"tpr\": 1.0, \"n\": 8}, {\"threshold\": 0.539, \"p\": 42, \"fpr\": 1.0, \"tpr\": 1.0, \"n\": 8}, {\"threshold\": 0.54, \"p\": 42, \"fpr\": 1.0, \"tpr\": 1.0, \"n\": 8}, {\"threshold\": 0.541, \"p\": 42, \"fpr\": 1.0, \"tpr\": 1.0, \"n\": 8}, {\"threshold\": 0.542, \"p\": 42, \"fpr\": 1.0, \"tpr\": 1.0, \"n\": 8}, {\"threshold\": 0.543, \"p\": 42, \"fpr\": 1.0, \"tpr\": 1.0, \"n\": 8}, {\"threshold\": 0.544, \"p\": 42, \"fpr\": 1.0, \"tpr\": 1.0, \"n\": 8}, {\"threshold\": 0.545, \"p\": 42, \"fpr\": 1.0, \"tpr\": 1.0, \"n\": 8}, {\"threshold\": 0.546, \"p\": 42, \"fpr\": 1.0, \"tpr\": 1.0, \"n\": 8}, {\"threshold\": 0.547, \"p\": 42, \"fpr\": 1.0, \"tpr\": 1.0, \"n\": 8}, {\"threshold\": 0.548, \"p\": 42, \"fpr\": 1.0, \"tpr\": 1.0, \"n\": 8}, {\"threshold\": 0.549, \"p\": 42, \"fpr\": 1.0, \"tpr\": 1.0, \"n\": 8}, {\"threshold\": 0.55, \"p\": 42, \"fpr\": 1.0, \"tpr\": 1.0, \"n\": 8}, {\"threshold\": 0.551, \"p\": 42, \"fpr\": 1.0, \"tpr\": 1.0, \"n\": 8}, {\"threshold\": 0.552, \"p\": 42, \"fpr\": 1.0, \"tpr\": 1.0, \"n\": 8}, {\"threshold\": 0.553, \"p\": 42, \"fpr\": 1.0, \"tpr\": 1.0, \"n\": 8}, {\"threshold\": 0.554, \"p\": 42, \"fpr\": 1.0, \"tpr\": 1.0, \"n\": 8}, {\"threshold\": 0.555, \"p\": 42, \"fpr\": 1.0, \"tpr\": 1.0, \"n\": 8}, {\"threshold\": 0.556, \"p\": 42, \"fpr\": 1.0, \"tpr\": 1.0, \"n\": 8}, {\"threshold\": 0.557, \"p\": 42, \"fpr\": 1.0, \"tpr\": 1.0, \"n\": 8}, {\"threshold\": 0.558, \"p\": 42, \"fpr\": 1.0, \"tpr\": 1.0, \"n\": 8}, {\"threshold\": 0.559, \"p\": 42, \"fpr\": 1.0, \"tpr\": 1.0, \"n\": 8}, {\"threshold\": 0.56, \"p\": 42, \"fpr\": 1.0, \"tpr\": 1.0, \"n\": 8}, {\"threshold\": 0.561, \"p\": 42, \"fpr\": 1.0, \"tpr\": 1.0, \"n\": 8}, {\"threshold\": 0.562, \"p\": 42, \"fpr\": 1.0, \"tpr\": 1.0, \"n\": 8}, {\"threshold\": 0.563, \"p\": 42, \"fpr\": 1.0, \"tpr\": 1.0, \"n\": 8}, {\"threshold\": 0.564, \"p\": 42, \"fpr\": 1.0, \"tpr\": 1.0, \"n\": 8}, {\"threshold\": 0.565, \"p\": 42, \"fpr\": 1.0, \"tpr\": 1.0, \"n\": 8}, {\"threshold\": 0.566, \"p\": 42, \"fpr\": 1.0, \"tpr\": 1.0, \"n\": 8}, {\"threshold\": 0.567, \"p\": 42, \"fpr\": 1.0, \"tpr\": 1.0, \"n\": 8}, {\"threshold\": 0.568, \"p\": 42, \"fpr\": 1.0, \"tpr\": 1.0, \"n\": 8}, {\"threshold\": 0.569, \"p\": 42, \"fpr\": 1.0, \"tpr\": 1.0, \"n\": 8}, {\"threshold\": 0.57, \"p\": 42, \"fpr\": 1.0, \"tpr\": 1.0, \"n\": 8}, {\"threshold\": 0.571, \"p\": 42, \"fpr\": 1.0, \"tpr\": 1.0, \"n\": 8}, {\"threshold\": 0.572, \"p\": 42, \"fpr\": 1.0, \"tpr\": 1.0, \"n\": 8}, {\"threshold\": 0.573, \"p\": 42, \"fpr\": 1.0, \"tpr\": 1.0, \"n\": 8}, {\"threshold\": 0.574, \"p\": 42, \"fpr\": 1.0, \"tpr\": 1.0, \"n\": 8}, {\"threshold\": 0.575, \"p\": 42, \"fpr\": 1.0, \"tpr\": 1.0, \"n\": 8}, {\"threshold\": 0.576, \"p\": 42, \"fpr\": 1.0, \"tpr\": 1.0, \"n\": 8}, {\"threshold\": 0.577, \"p\": 42, \"fpr\": 1.0, \"tpr\": 1.0, \"n\": 8}, {\"threshold\": 0.578, \"p\": 42, \"fpr\": 1.0, \"tpr\": 1.0, \"n\": 8}, {\"threshold\": 0.579, \"p\": 42, \"fpr\": 1.0, \"tpr\": 1.0, \"n\": 8}, {\"threshold\": 0.58, \"p\": 42, \"fpr\": 1.0, \"tpr\": 1.0, \"n\": 8}, {\"threshold\": 0.581, \"p\": 42, \"fpr\": 1.0, \"tpr\": 1.0, \"n\": 8}, {\"threshold\": 0.582, \"p\": 42, \"fpr\": 1.0, \"tpr\": 1.0, \"n\": 8}, {\"threshold\": 0.583, \"p\": 42, \"fpr\": 1.0, \"tpr\": 1.0, \"n\": 8}, {\"threshold\": 0.584, \"p\": 42, \"fpr\": 1.0, \"tpr\": 1.0, \"n\": 8}, {\"threshold\": 0.585, \"p\": 42, \"fpr\": 1.0, \"tpr\": 1.0, \"n\": 8}, {\"threshold\": 0.586, \"p\": 42, \"fpr\": 1.0, \"tpr\": 1.0, \"n\": 8}, {\"threshold\": 0.587, \"p\": 42, \"fpr\": 1.0, \"tpr\": 1.0, \"n\": 8}, {\"threshold\": 0.588, \"p\": 42, \"fpr\": 0.875, \"tpr\": 1.0, \"n\": 8}, {\"threshold\": 0.589, \"p\": 42, \"fpr\": 0.875, \"tpr\": 1.0, \"n\": 8}, {\"threshold\": 0.59, \"p\": 42, \"fpr\": 0.875, \"tpr\": 1.0, \"n\": 8}, {\"threshold\": 0.591, \"p\": 42, \"fpr\": 0.875, \"tpr\": 1.0, \"n\": 8}, {\"threshold\": 0.592, \"p\": 42, \"fpr\": 0.875, \"tpr\": 1.0, \"n\": 8}, {\"threshold\": 0.593, \"p\": 42, \"fpr\": 0.875, \"tpr\": 1.0, \"n\": 8}, {\"threshold\": 0.594, \"p\": 42, \"fpr\": 0.875, \"tpr\": 1.0, \"n\": 8}, {\"threshold\": 0.595, \"p\": 42, \"fpr\": 0.875, \"tpr\": 1.0, \"n\": 8}, {\"threshold\": 0.596, \"p\": 42, \"fpr\": 0.875, \"tpr\": 1.0, \"n\": 8}, {\"threshold\": 0.597, \"p\": 42, \"fpr\": 0.875, \"tpr\": 1.0, \"n\": 8}, {\"threshold\": 0.598, \"p\": 42, \"fpr\": 0.875, \"tpr\": 1.0, \"n\": 8}, {\"threshold\": 0.599, \"p\": 42, \"fpr\": 0.875, \"tpr\": 1.0, \"n\": 8}, {\"threshold\": 0.6, \"p\": 42, \"fpr\": 0.875, \"tpr\": 1.0, \"n\": 8}, {\"threshold\": 0.601, \"p\": 42, \"fpr\": 0.875, \"tpr\": 1.0, \"n\": 8}, {\"threshold\": 0.602, \"p\": 42, \"fpr\": 0.875, \"tpr\": 1.0, \"n\": 8}, {\"threshold\": 0.603, \"p\": 42, \"fpr\": 0.875, \"tpr\": 1.0, \"n\": 8}, {\"threshold\": 0.604, \"p\": 42, \"fpr\": 0.875, \"tpr\": 1.0, \"n\": 8}, {\"threshold\": 0.605, \"p\": 42, \"fpr\": 0.875, \"tpr\": 1.0, \"n\": 8}, {\"threshold\": 0.606, \"p\": 42, \"fpr\": 0.875, \"tpr\": 1.0, \"n\": 8}, {\"threshold\": 0.607, \"p\": 42, \"fpr\": 0.875, \"tpr\": 1.0, \"n\": 8}, {\"threshold\": 0.608, \"p\": 42, \"fpr\": 0.875, \"tpr\": 1.0, \"n\": 8}, {\"threshold\": 0.609, \"p\": 42, \"fpr\": 0.875, \"tpr\": 1.0, \"n\": 8}, {\"threshold\": 0.61, \"p\": 42, \"fpr\": 0.875, \"tpr\": 1.0, \"n\": 8}, {\"threshold\": 0.611, \"p\": 42, \"fpr\": 0.875, \"tpr\": 1.0, \"n\": 8}, {\"threshold\": 0.612, \"p\": 42, \"fpr\": 0.875, \"tpr\": 1.0, \"n\": 8}, {\"threshold\": 0.613, \"p\": 42, \"fpr\": 0.875, \"tpr\": 1.0, \"n\": 8}, {\"threshold\": 0.614, \"p\": 42, \"fpr\": 0.875, \"tpr\": 1.0, \"n\": 8}, {\"threshold\": 0.615, \"p\": 42, \"fpr\": 0.875, \"tpr\": 1.0, \"n\": 8}, {\"threshold\": 0.616, \"p\": 42, \"fpr\": 0.875, \"tpr\": 1.0, \"n\": 8}, {\"threshold\": 0.617, \"p\": 42, \"fpr\": 0.875, \"tpr\": 1.0, \"n\": 8}, {\"threshold\": 0.618, \"p\": 42, \"fpr\": 0.875, \"tpr\": 1.0, \"n\": 8}, {\"threshold\": 0.619, \"p\": 42, \"fpr\": 0.875, \"tpr\": 1.0, \"n\": 8}, {\"threshold\": 0.62, \"p\": 42, \"fpr\": 0.875, \"tpr\": 1.0, \"n\": 8}, {\"threshold\": 0.621, \"p\": 42, \"fpr\": 0.875, \"tpr\": 1.0, \"n\": 8}, {\"threshold\": 0.622, \"p\": 42, \"fpr\": 0.875, \"tpr\": 1.0, \"n\": 8}, {\"threshold\": 0.623, \"p\": 42, \"fpr\": 0.875, \"tpr\": 1.0, \"n\": 8}, {\"threshold\": 0.624, \"p\": 42, \"fpr\": 0.875, \"tpr\": 1.0, \"n\": 8}, {\"threshold\": 0.625, \"p\": 42, \"fpr\": 0.875, \"tpr\": 1.0, \"n\": 8}, {\"threshold\": 0.626, \"p\": 42, \"fpr\": 0.875, \"tpr\": 1.0, \"n\": 8}, {\"threshold\": 0.627, \"p\": 42, \"fpr\": 0.875, \"tpr\": 1.0, \"n\": 8}, {\"threshold\": 0.628, \"p\": 42, \"fpr\": 0.875, \"tpr\": 1.0, \"n\": 8}, {\"threshold\": 0.629, \"p\": 42, \"fpr\": 0.875, \"tpr\": 1.0, \"n\": 8}, {\"threshold\": 0.63, \"p\": 42, \"fpr\": 0.875, \"tpr\": 1.0, \"n\": 8}, {\"threshold\": 0.631, \"p\": 42, \"fpr\": 0.875, \"tpr\": 1.0, \"n\": 8}, {\"threshold\": 0.632, \"p\": 42, \"fpr\": 0.875, \"tpr\": 1.0, \"n\": 8}, {\"threshold\": 0.633, \"p\": 42, \"fpr\": 0.875, \"tpr\": 1.0, \"n\": 8}, {\"threshold\": 0.634, \"p\": 42, \"fpr\": 0.875, \"tpr\": 1.0, \"n\": 8}, {\"threshold\": 0.635, \"p\": 42, \"fpr\": 0.875, \"tpr\": 1.0, \"n\": 8}, {\"threshold\": 0.636, \"p\": 42, \"fpr\": 0.875, \"tpr\": 1.0, \"n\": 8}, {\"threshold\": 0.637, \"p\": 42, \"fpr\": 0.875, \"tpr\": 1.0, \"n\": 8}, {\"threshold\": 0.638, \"p\": 42, \"fpr\": 0.875, \"tpr\": 1.0, \"n\": 8}, {\"threshold\": 0.639, \"p\": 42, \"fpr\": 0.875, \"tpr\": 1.0, \"n\": 8}, {\"threshold\": 0.64, \"p\": 42, \"fpr\": 0.875, \"tpr\": 1.0, \"n\": 8}, {\"threshold\": 0.641, \"p\": 42, \"fpr\": 0.875, \"tpr\": 1.0, \"n\": 8}, {\"threshold\": 0.642, \"p\": 42, \"fpr\": 0.875, \"tpr\": 1.0, \"n\": 8}, {\"threshold\": 0.643, \"p\": 42, \"fpr\": 0.875, \"tpr\": 1.0, \"n\": 8}, {\"threshold\": 0.644, \"p\": 42, \"fpr\": 0.875, \"tpr\": 1.0, \"n\": 8}, {\"threshold\": 0.645, \"p\": 42, \"fpr\": 0.875, \"tpr\": 1.0, \"n\": 8}, {\"threshold\": 0.646, \"p\": 42, \"fpr\": 0.875, \"tpr\": 1.0, \"n\": 8}, {\"threshold\": 0.647, \"p\": 42, \"fpr\": 0.875, \"tpr\": 1.0, \"n\": 8}, {\"threshold\": 0.648, \"p\": 42, \"fpr\": 0.875, \"tpr\": 1.0, \"n\": 8}, {\"threshold\": 0.649, \"p\": 42, \"fpr\": 0.875, \"tpr\": 1.0, \"n\": 8}, {\"threshold\": 0.65, \"p\": 42, \"fpr\": 0.875, \"tpr\": 1.0, \"n\": 8}, {\"threshold\": 0.651, \"p\": 42, \"fpr\": 0.875, \"tpr\": 1.0, \"n\": 8}, {\"threshold\": 0.652, \"p\": 42, \"fpr\": 0.875, \"tpr\": 1.0, \"n\": 8}, {\"threshold\": 0.653, \"p\": 42, \"fpr\": 0.875, \"tpr\": 1.0, \"n\": 8}, {\"threshold\": 0.654, \"p\": 42, \"fpr\": 0.875, \"tpr\": 1.0, \"n\": 8}, {\"threshold\": 0.655, \"p\": 42, \"fpr\": 0.875, \"tpr\": 1.0, \"n\": 8}, {\"threshold\": 0.656, \"p\": 42, \"fpr\": 0.875, \"tpr\": 1.0, \"n\": 8}, {\"threshold\": 0.657, \"p\": 42, \"fpr\": 0.875, \"tpr\": 1.0, \"n\": 8}, {\"threshold\": 0.658, \"p\": 42, \"fpr\": 0.875, \"tpr\": 1.0, \"n\": 8}, {\"threshold\": 0.659, \"p\": 42, \"fpr\": 0.875, \"tpr\": 1.0, \"n\": 8}, {\"threshold\": 0.66, \"p\": 42, \"fpr\": 0.875, \"tpr\": 1.0, \"n\": 8}, {\"threshold\": 0.661, \"p\": 42, \"fpr\": 0.875, \"tpr\": 1.0, \"n\": 8}, {\"threshold\": 0.662, \"p\": 42, \"fpr\": 0.875, \"tpr\": 1.0, \"n\": 8}, {\"threshold\": 0.663, \"p\": 42, \"fpr\": 0.875, \"tpr\": 1.0, \"n\": 8}, {\"threshold\": 0.664, \"p\": 42, \"fpr\": 0.875, \"tpr\": 1.0, \"n\": 8}, {\"threshold\": 0.665, \"p\": 42, \"fpr\": 0.875, \"tpr\": 1.0, \"n\": 8}, {\"threshold\": 0.666, \"p\": 42, \"fpr\": 0.875, \"tpr\": 1.0, \"n\": 8}, {\"threshold\": 0.667, \"p\": 42, \"fpr\": 0.875, \"tpr\": 1.0, \"n\": 8}, {\"threshold\": 0.668, \"p\": 42, \"fpr\": 0.875, \"tpr\": 1.0, \"n\": 8}, {\"threshold\": 0.669, \"p\": 42, \"fpr\": 0.875, \"tpr\": 1.0, \"n\": 8}, {\"threshold\": 0.67, \"p\": 42, \"fpr\": 0.875, \"tpr\": 1.0, \"n\": 8}, {\"threshold\": 0.671, \"p\": 42, \"fpr\": 0.875, \"tpr\": 1.0, \"n\": 8}, {\"threshold\": 0.672, \"p\": 42, \"fpr\": 0.875, \"tpr\": 1.0, \"n\": 8}, {\"threshold\": 0.673, \"p\": 42, \"fpr\": 0.875, \"tpr\": 1.0, \"n\": 8}, {\"threshold\": 0.674, \"p\": 42, \"fpr\": 0.875, \"tpr\": 1.0, \"n\": 8}, {\"threshold\": 0.675, \"p\": 42, \"fpr\": 0.875, \"tpr\": 1.0, \"n\": 8}, {\"threshold\": 0.676, \"p\": 42, \"fpr\": 0.875, \"tpr\": 1.0, \"n\": 8}, {\"threshold\": 0.677, \"p\": 42, \"fpr\": 0.875, \"tpr\": 1.0, \"n\": 8}, {\"threshold\": 0.678, \"p\": 42, \"fpr\": 0.875, \"tpr\": 1.0, \"n\": 8}, {\"threshold\": 0.679, \"p\": 42, \"fpr\": 0.875, \"tpr\": 1.0, \"n\": 8}, {\"threshold\": 0.68, \"p\": 42, \"fpr\": 0.875, \"tpr\": 1.0, \"n\": 8}, {\"threshold\": 0.681, \"p\": 42, \"fpr\": 0.875, \"tpr\": 1.0, \"n\": 8}, {\"threshold\": 0.682, \"p\": 42, \"fpr\": 0.875, \"tpr\": 1.0, \"n\": 8}, {\"threshold\": 0.683, \"p\": 42, \"fpr\": 0.875, \"tpr\": 1.0, \"n\": 8}, {\"threshold\": 0.684, \"p\": 42, \"fpr\": 0.875, \"tpr\": 1.0, \"n\": 8}, {\"threshold\": 0.685, \"p\": 42, \"fpr\": 0.875, \"tpr\": 1.0, \"n\": 8}, {\"threshold\": 0.686, \"p\": 42, \"fpr\": 0.875, \"tpr\": 1.0, \"n\": 8}, {\"threshold\": 0.687, \"p\": 42, \"fpr\": 0.875, \"tpr\": 1.0, \"n\": 8}, {\"threshold\": 0.688, \"p\": 42, \"fpr\": 0.875, \"tpr\": 1.0, \"n\": 8}, {\"threshold\": 0.689, \"p\": 42, \"fpr\": 0.875, \"tpr\": 1.0, \"n\": 8}, {\"threshold\": 0.69, \"p\": 42, \"fpr\": 0.875, \"tpr\": 1.0, \"n\": 8}, {\"threshold\": 0.691, \"p\": 42, \"fpr\": 0.875, \"tpr\": 1.0, \"n\": 8}, {\"threshold\": 0.692, \"p\": 42, \"fpr\": 0.875, \"tpr\": 1.0, \"n\": 8}, {\"threshold\": 0.693, \"p\": 42, \"fpr\": 0.875, \"tpr\": 1.0, \"n\": 8}, {\"threshold\": 0.694, \"p\": 42, \"fpr\": 0.875, \"tpr\": 1.0, \"n\": 8}, {\"threshold\": 0.695, \"p\": 42, \"fpr\": 0.875, \"tpr\": 1.0, \"n\": 8}, {\"threshold\": 0.696, \"p\": 42, \"fpr\": 0.875, \"tpr\": 1.0, \"n\": 8}, {\"threshold\": 0.697, \"p\": 42, \"fpr\": 0.875, \"tpr\": 1.0, \"n\": 8}, {\"threshold\": 0.698, \"p\": 42, \"fpr\": 0.875, \"tpr\": 1.0, \"n\": 8}, {\"threshold\": 0.699, \"p\": 42, \"fpr\": 0.875, \"tpr\": 1.0, \"n\": 8}, {\"threshold\": 0.7, \"p\": 42, \"fpr\": 0.875, \"tpr\": 1.0, \"n\": 8}, {\"threshold\": 0.701, \"p\": 42, \"fpr\": 0.875, \"tpr\": 1.0, \"n\": 8}, {\"threshold\": 0.702, \"p\": 42, \"fpr\": 0.875, \"tpr\": 1.0, \"n\": 8}, {\"threshold\": 0.703, \"p\": 42, \"fpr\": 0.875, \"tpr\": 1.0, \"n\": 8}, {\"threshold\": 0.704, \"p\": 42, \"fpr\": 0.875, \"tpr\": 1.0, \"n\": 8}, {\"threshold\": 0.705, \"p\": 42, \"fpr\": 0.875, \"tpr\": 1.0, \"n\": 8}, {\"threshold\": 0.706, \"p\": 42, \"fpr\": 0.875, \"tpr\": 1.0, \"n\": 8}, {\"threshold\": 0.707, \"p\": 42, \"fpr\": 0.875, \"tpr\": 1.0, \"n\": 8}, {\"threshold\": 0.708, \"p\": 42, \"fpr\": 0.875, \"tpr\": 1.0, \"n\": 8}, {\"threshold\": 0.709, \"p\": 42, \"fpr\": 0.875, \"tpr\": 1.0, \"n\": 8}, {\"threshold\": 0.71, \"p\": 42, \"fpr\": 0.875, \"tpr\": 1.0, \"n\": 8}, {\"threshold\": 0.711, \"p\": 42, \"fpr\": 0.875, \"tpr\": 1.0, \"n\": 8}, {\"threshold\": 0.712, \"p\": 42, \"fpr\": 0.875, \"tpr\": 1.0, \"n\": 8}, {\"threshold\": 0.713, \"p\": 42, \"fpr\": 0.875, \"tpr\": 1.0, \"n\": 8}, {\"threshold\": 0.714, \"p\": 42, \"fpr\": 0.875, \"tpr\": 1.0, \"n\": 8}, {\"threshold\": 0.715, \"p\": 42, \"fpr\": 0.875, \"tpr\": 1.0, \"n\": 8}, {\"threshold\": 0.716, \"p\": 42, \"fpr\": 0.875, \"tpr\": 1.0, \"n\": 8}, {\"threshold\": 0.717, \"p\": 42, \"fpr\": 0.875, \"tpr\": 1.0, \"n\": 8}, {\"threshold\": 0.718, \"p\": 42, \"fpr\": 0.875, \"tpr\": 1.0, \"n\": 8}, {\"threshold\": 0.719, \"p\": 42, \"fpr\": 0.875, \"tpr\": 1.0, \"n\": 8}, {\"threshold\": 0.72, \"p\": 42, \"fpr\": 0.875, \"tpr\": 1.0, \"n\": 8}, {\"threshold\": 0.721, \"p\": 42, \"fpr\": 0.875, \"tpr\": 1.0, \"n\": 8}, {\"threshold\": 0.722, \"p\": 42, \"fpr\": 0.875, \"tpr\": 1.0, \"n\": 8}, {\"threshold\": 0.723, \"p\": 42, \"fpr\": 0.875, \"tpr\": 1.0, \"n\": 8}, {\"threshold\": 0.724, \"p\": 42, \"fpr\": 0.875, \"tpr\": 1.0, \"n\": 8}, {\"threshold\": 0.725, \"p\": 42, \"fpr\": 0.875, \"tpr\": 1.0, \"n\": 8}, {\"threshold\": 0.726, \"p\": 42, \"fpr\": 0.875, \"tpr\": 1.0, \"n\": 8}, {\"threshold\": 0.727, \"p\": 42, \"fpr\": 0.875, \"tpr\": 1.0, \"n\": 8}, {\"threshold\": 0.728, \"p\": 42, \"fpr\": 0.875, \"tpr\": 1.0, \"n\": 8}, {\"threshold\": 0.729, \"p\": 42, \"fpr\": 0.875, \"tpr\": 1.0, \"n\": 8}, {\"threshold\": 0.73, \"p\": 42, \"fpr\": 0.875, \"tpr\": 1.0, \"n\": 8}, {\"threshold\": 0.731, \"p\": 42, \"fpr\": 0.875, \"tpr\": 1.0, \"n\": 8}, {\"threshold\": 0.732, \"p\": 42, \"fpr\": 0.875, \"tpr\": 1.0, \"n\": 8}, {\"threshold\": 0.733, \"p\": 42, \"fpr\": 0.875, \"tpr\": 1.0, \"n\": 8}, {\"threshold\": 0.734, \"p\": 42, \"fpr\": 0.875, \"tpr\": 1.0, \"n\": 8}, {\"threshold\": 0.735, \"p\": 42, \"fpr\": 0.875, \"tpr\": 1.0, \"n\": 8}, {\"threshold\": 0.736, \"p\": 42, \"fpr\": 0.875, \"tpr\": 0.9761904761904762, \"n\": 8}, {\"threshold\": 0.737, \"p\": 42, \"fpr\": 0.875, \"tpr\": 0.9761904761904762, \"n\": 8}, {\"threshold\": 0.738, \"p\": 42, \"fpr\": 0.875, \"tpr\": 0.9761904761904762, \"n\": 8}, {\"threshold\": 0.739, \"p\": 42, \"fpr\": 0.875, \"tpr\": 0.9761904761904762, \"n\": 8}, {\"threshold\": 0.74, \"p\": 42, \"fpr\": 0.875, \"tpr\": 0.9761904761904762, \"n\": 8}, {\"threshold\": 0.741, \"p\": 42, \"fpr\": 0.875, \"tpr\": 0.9761904761904762, \"n\": 8}, {\"threshold\": 0.742, \"p\": 42, \"fpr\": 0.875, \"tpr\": 0.9761904761904762, \"n\": 8}, {\"threshold\": 0.743, \"p\": 42, \"fpr\": 0.875, \"tpr\": 0.9761904761904762, \"n\": 8}, {\"threshold\": 0.744, \"p\": 42, \"fpr\": 0.875, \"tpr\": 0.9761904761904762, \"n\": 8}, {\"threshold\": 0.745, \"p\": 42, \"fpr\": 0.875, \"tpr\": 0.9761904761904762, \"n\": 8}, {\"threshold\": 0.746, \"p\": 42, \"fpr\": 0.875, \"tpr\": 0.9761904761904762, \"n\": 8}, {\"threshold\": 0.747, \"p\": 42, \"fpr\": 0.875, \"tpr\": 0.9761904761904762, \"n\": 8}, {\"threshold\": 0.748, \"p\": 42, \"fpr\": 0.875, \"tpr\": 0.9761904761904762, \"n\": 8}, {\"threshold\": 0.749, \"p\": 42, \"fpr\": 0.875, \"tpr\": 0.9761904761904762, \"n\": 8}, {\"threshold\": 0.75, \"p\": 42, \"fpr\": 0.875, \"tpr\": 0.9761904761904762, \"n\": 8}, {\"threshold\": 0.751, \"p\": 42, \"fpr\": 0.875, \"tpr\": 0.9761904761904762, \"n\": 8}, {\"threshold\": 0.752, \"p\": 42, \"fpr\": 0.875, \"tpr\": 0.9761904761904762, \"n\": 8}, {\"threshold\": 0.753, \"p\": 42, \"fpr\": 0.875, \"tpr\": 0.9761904761904762, \"n\": 8}, {\"threshold\": 0.754, \"p\": 42, \"fpr\": 0.875, \"tpr\": 0.9761904761904762, \"n\": 8}, {\"threshold\": 0.755, \"p\": 42, \"fpr\": 0.875, \"tpr\": 0.9761904761904762, \"n\": 8}, {\"threshold\": 0.756, \"p\": 42, \"fpr\": 0.875, \"tpr\": 0.9761904761904762, \"n\": 8}, {\"threshold\": 0.757, \"p\": 42, \"fpr\": 0.875, \"tpr\": 0.9761904761904762, \"n\": 8}, {\"threshold\": 0.758, \"p\": 42, \"fpr\": 0.875, \"tpr\": 0.9761904761904762, \"n\": 8}, {\"threshold\": 0.759, \"p\": 42, \"fpr\": 0.875, \"tpr\": 0.9761904761904762, \"n\": 8}, {\"threshold\": 0.76, \"p\": 42, \"fpr\": 0.875, \"tpr\": 0.9761904761904762, \"n\": 8}, {\"threshold\": 0.761, \"p\": 42, \"fpr\": 0.875, \"tpr\": 0.9761904761904762, \"n\": 8}, {\"threshold\": 0.762, \"p\": 42, \"fpr\": 0.875, \"tpr\": 0.9761904761904762, \"n\": 8}, {\"threshold\": 0.763, \"p\": 42, \"fpr\": 0.875, \"tpr\": 0.9761904761904762, \"n\": 8}, {\"threshold\": 0.764, \"p\": 42, \"fpr\": 0.875, \"tpr\": 0.9761904761904762, \"n\": 8}, {\"threshold\": 0.765, \"p\": 42, \"fpr\": 0.875, \"tpr\": 0.9761904761904762, \"n\": 8}, {\"threshold\": 0.766, \"p\": 42, \"fpr\": 0.875, \"tpr\": 0.9761904761904762, \"n\": 8}, {\"threshold\": 0.767, \"p\": 42, \"fpr\": 0.875, \"tpr\": 0.9761904761904762, \"n\": 8}, {\"threshold\": 0.768, \"p\": 42, \"fpr\": 0.875, \"tpr\": 0.9761904761904762, \"n\": 8}, {\"threshold\": 0.769, \"p\": 42, \"fpr\": 0.875, \"tpr\": 0.9761904761904762, \"n\": 8}, {\"threshold\": 0.77, \"p\": 42, \"fpr\": 0.875, \"tpr\": 0.9761904761904762, \"n\": 8}, {\"threshold\": 0.771, \"p\": 42, \"fpr\": 0.875, \"tpr\": 0.9761904761904762, \"n\": 8}, {\"threshold\": 0.772, \"p\": 42, \"fpr\": 0.875, \"tpr\": 0.9761904761904762, \"n\": 8}, {\"threshold\": 0.773, \"p\": 42, \"fpr\": 0.875, \"tpr\": 0.9761904761904762, \"n\": 8}, {\"threshold\": 0.774, \"p\": 42, \"fpr\": 0.875, \"tpr\": 0.9761904761904762, \"n\": 8}, {\"threshold\": 0.775, \"p\": 42, \"fpr\": 0.875, \"tpr\": 0.9761904761904762, \"n\": 8}, {\"threshold\": 0.776, \"p\": 42, \"fpr\": 0.875, \"tpr\": 0.9761904761904762, \"n\": 8}, {\"threshold\": 0.777, \"p\": 42, \"fpr\": 0.875, \"tpr\": 0.9761904761904762, \"n\": 8}, {\"threshold\": 0.778, \"p\": 42, \"fpr\": 0.875, \"tpr\": 0.9761904761904762, \"n\": 8}, {\"threshold\": 0.779, \"p\": 42, \"fpr\": 0.875, \"tpr\": 0.9761904761904762, \"n\": 8}, {\"threshold\": 0.78, \"p\": 42, \"fpr\": 0.875, \"tpr\": 0.9761904761904762, \"n\": 8}, {\"threshold\": 0.781, \"p\": 42, \"fpr\": 0.875, \"tpr\": 0.9761904761904762, \"n\": 8}, {\"threshold\": 0.782, \"p\": 42, \"fpr\": 0.875, \"tpr\": 0.9761904761904762, \"n\": 8}, {\"threshold\": 0.783, \"p\": 42, \"fpr\": 0.875, \"tpr\": 0.9761904761904762, \"n\": 8}, {\"threshold\": 0.784, \"p\": 42, \"fpr\": 0.875, \"tpr\": 0.9761904761904762, \"n\": 8}, {\"threshold\": 0.785, \"p\": 42, \"fpr\": 0.875, \"tpr\": 0.9761904761904762, \"n\": 8}, {\"threshold\": 0.786, \"p\": 42, \"fpr\": 0.875, \"tpr\": 0.9761904761904762, \"n\": 8}, {\"threshold\": 0.787, \"p\": 42, \"fpr\": 0.875, \"tpr\": 0.9761904761904762, \"n\": 8}, {\"threshold\": 0.788, \"p\": 42, \"fpr\": 0.875, \"tpr\": 0.9761904761904762, \"n\": 8}, {\"threshold\": 0.789, \"p\": 42, \"fpr\": 0.875, \"tpr\": 0.9761904761904762, \"n\": 8}, {\"threshold\": 0.79, \"p\": 42, \"fpr\": 0.875, \"tpr\": 0.9761904761904762, \"n\": 8}, {\"threshold\": 0.791, \"p\": 42, \"fpr\": 0.875, \"tpr\": 0.9761904761904762, \"n\": 8}, {\"threshold\": 0.792, \"p\": 42, \"fpr\": 0.875, \"tpr\": 0.9761904761904762, \"n\": 8}, {\"threshold\": 0.793, \"p\": 42, \"fpr\": 0.875, \"tpr\": 0.9761904761904762, \"n\": 8}, {\"threshold\": 0.794, \"p\": 42, \"fpr\": 0.875, \"tpr\": 0.9761904761904762, \"n\": 8}, {\"threshold\": 0.795, \"p\": 42, \"fpr\": 0.875, \"tpr\": 0.9761904761904762, \"n\": 8}, {\"threshold\": 0.796, \"p\": 42, \"fpr\": 0.875, \"tpr\": 0.9761904761904762, \"n\": 8}, {\"threshold\": 0.797, \"p\": 42, \"fpr\": 0.875, \"tpr\": 0.9761904761904762, \"n\": 8}, {\"threshold\": 0.798, \"p\": 42, \"fpr\": 0.875, \"tpr\": 0.9761904761904762, \"n\": 8}, {\"threshold\": 0.799, \"p\": 42, \"fpr\": 0.875, \"tpr\": 0.9761904761904762, \"n\": 8}, {\"threshold\": 0.8, \"p\": 42, \"fpr\": 0.875, \"tpr\": 0.9761904761904762, \"n\": 8}, {\"threshold\": 0.801, \"p\": 42, \"fpr\": 0.875, \"tpr\": 0.9761904761904762, \"n\": 8}, {\"threshold\": 0.802, \"p\": 42, \"fpr\": 0.875, \"tpr\": 0.9761904761904762, \"n\": 8}, {\"threshold\": 0.803, \"p\": 42, \"fpr\": 0.875, \"tpr\": 0.9761904761904762, \"n\": 8}, {\"threshold\": 0.804, \"p\": 42, \"fpr\": 0.875, \"tpr\": 0.9761904761904762, \"n\": 8}, {\"threshold\": 0.805, \"p\": 42, \"fpr\": 0.875, \"tpr\": 0.9761904761904762, \"n\": 8}, {\"threshold\": 0.806, \"p\": 42, \"fpr\": 0.875, \"tpr\": 0.9761904761904762, \"n\": 8}, {\"threshold\": 0.807, \"p\": 42, \"fpr\": 0.875, \"tpr\": 0.9761904761904762, \"n\": 8}, {\"threshold\": 0.808, \"p\": 42, \"fpr\": 0.875, \"tpr\": 0.9761904761904762, \"n\": 8}, {\"threshold\": 0.809, \"p\": 42, \"fpr\": 0.875, \"tpr\": 0.9761904761904762, \"n\": 8}, {\"threshold\": 0.81, \"p\": 42, \"fpr\": 0.875, \"tpr\": 0.9761904761904762, \"n\": 8}, {\"threshold\": 0.811, \"p\": 42, \"fpr\": 0.875, \"tpr\": 0.9761904761904762, \"n\": 8}, {\"threshold\": 0.812, \"p\": 42, \"fpr\": 0.875, \"tpr\": 0.9761904761904762, \"n\": 8}, {\"threshold\": 0.813, \"p\": 42, \"fpr\": 0.875, \"tpr\": 0.9761904761904762, \"n\": 8}, {\"threshold\": 0.814, \"p\": 42, \"fpr\": 0.875, \"tpr\": 0.9761904761904762, \"n\": 8}, {\"threshold\": 0.815, \"p\": 42, \"fpr\": 0.875, \"tpr\": 0.9761904761904762, \"n\": 8}, {\"threshold\": 0.816, \"p\": 42, \"fpr\": 0.875, \"tpr\": 0.9761904761904762, \"n\": 8}, {\"threshold\": 0.817, \"p\": 42, \"fpr\": 0.875, \"tpr\": 0.9761904761904762, \"n\": 8}, {\"threshold\": 0.818, \"p\": 42, \"fpr\": 0.875, \"tpr\": 0.9761904761904762, \"n\": 8}, {\"threshold\": 0.819, \"p\": 42, \"fpr\": 0.875, \"tpr\": 0.9761904761904762, \"n\": 8}, {\"threshold\": 0.82, \"p\": 42, \"fpr\": 0.875, \"tpr\": 0.9761904761904762, \"n\": 8}, {\"threshold\": 0.821, \"p\": 42, \"fpr\": 0.875, \"tpr\": 0.9761904761904762, \"n\": 8}, {\"threshold\": 0.822, \"p\": 42, \"fpr\": 0.875, \"tpr\": 0.9761904761904762, \"n\": 8}, {\"threshold\": 0.823, \"p\": 42, \"fpr\": 0.875, \"tpr\": 0.9761904761904762, \"n\": 8}, {\"threshold\": 0.824, \"p\": 42, \"fpr\": 0.875, \"tpr\": 0.9761904761904762, \"n\": 8}, {\"threshold\": 0.825, \"p\": 42, \"fpr\": 0.875, \"tpr\": 0.9761904761904762, \"n\": 8}, {\"threshold\": 0.826, \"p\": 42, \"fpr\": 0.875, \"tpr\": 0.9761904761904762, \"n\": 8}, {\"threshold\": 0.827, \"p\": 42, \"fpr\": 0.875, \"tpr\": 0.9761904761904762, \"n\": 8}, {\"threshold\": 0.828, \"p\": 42, \"fpr\": 0.875, \"tpr\": 0.9761904761904762, \"n\": 8}, {\"threshold\": 0.829, \"p\": 42, \"fpr\": 0.875, \"tpr\": 0.9761904761904762, \"n\": 8}, {\"threshold\": 0.83, \"p\": 42, \"fpr\": 0.875, \"tpr\": 0.9761904761904762, \"n\": 8}, {\"threshold\": 0.831, \"p\": 42, \"fpr\": 0.875, \"tpr\": 0.9761904761904762, \"n\": 8}, {\"threshold\": 0.832, \"p\": 42, \"fpr\": 0.75, \"tpr\": 0.9761904761904762, \"n\": 8}, {\"threshold\": 0.833, \"p\": 42, \"fpr\": 0.75, \"tpr\": 0.9761904761904762, \"n\": 8}, {\"threshold\": 0.834, \"p\": 42, \"fpr\": 0.75, \"tpr\": 0.9761904761904762, \"n\": 8}, {\"threshold\": 0.835, \"p\": 42, \"fpr\": 0.75, \"tpr\": 0.9761904761904762, \"n\": 8}, {\"threshold\": 0.836, \"p\": 42, \"fpr\": 0.75, \"tpr\": 0.9761904761904762, \"n\": 8}, {\"threshold\": 0.837, \"p\": 42, \"fpr\": 0.75, \"tpr\": 0.9761904761904762, \"n\": 8}, {\"threshold\": 0.838, \"p\": 42, \"fpr\": 0.75, \"tpr\": 0.9761904761904762, \"n\": 8}, {\"threshold\": 0.839, \"p\": 42, \"fpr\": 0.75, \"tpr\": 0.9761904761904762, \"n\": 8}, {\"threshold\": 0.84, \"p\": 42, \"fpr\": 0.75, \"tpr\": 0.9761904761904762, \"n\": 8}, {\"threshold\": 0.841, \"p\": 42, \"fpr\": 0.75, \"tpr\": 0.9761904761904762, \"n\": 8}, {\"threshold\": 0.842, \"p\": 42, \"fpr\": 0.75, \"tpr\": 0.9761904761904762, \"n\": 8}, {\"threshold\": 0.843, \"p\": 42, \"fpr\": 0.75, \"tpr\": 0.9761904761904762, \"n\": 8}, {\"threshold\": 0.844, \"p\": 42, \"fpr\": 0.75, \"tpr\": 0.9761904761904762, \"n\": 8}, {\"threshold\": 0.845, \"p\": 42, \"fpr\": 0.75, \"tpr\": 0.9761904761904762, \"n\": 8}, {\"threshold\": 0.846, \"p\": 42, \"fpr\": 0.75, \"tpr\": 0.9761904761904762, \"n\": 8}, {\"threshold\": 0.847, \"p\": 42, \"fpr\": 0.75, \"tpr\": 0.9761904761904762, \"n\": 8}, {\"threshold\": 0.848, \"p\": 42, \"fpr\": 0.75, \"tpr\": 0.9761904761904762, \"n\": 8}, {\"threshold\": 0.849, \"p\": 42, \"fpr\": 0.75, \"tpr\": 0.9761904761904762, \"n\": 8}, {\"threshold\": 0.85, \"p\": 42, \"fpr\": 0.75, \"tpr\": 0.9761904761904762, \"n\": 8}, {\"threshold\": 0.851, \"p\": 42, \"fpr\": 0.75, \"tpr\": 0.9761904761904762, \"n\": 8}, {\"threshold\": 0.852, \"p\": 42, \"fpr\": 0.75, \"tpr\": 0.9761904761904762, \"n\": 8}, {\"threshold\": 0.853, \"p\": 42, \"fpr\": 0.75, \"tpr\": 0.9761904761904762, \"n\": 8}, {\"threshold\": 0.854, \"p\": 42, \"fpr\": 0.75, \"tpr\": 0.9761904761904762, \"n\": 8}, {\"threshold\": 0.855, \"p\": 42, \"fpr\": 0.75, \"tpr\": 0.9761904761904762, \"n\": 8}, {\"threshold\": 0.856, \"p\": 42, \"fpr\": 0.75, \"tpr\": 0.9761904761904762, \"n\": 8}, {\"threshold\": 0.857, \"p\": 42, \"fpr\": 0.75, \"tpr\": 0.9761904761904762, \"n\": 8}, {\"threshold\": 0.858, \"p\": 42, \"fpr\": 0.75, \"tpr\": 0.9761904761904762, \"n\": 8}, {\"threshold\": 0.859, \"p\": 42, \"fpr\": 0.75, \"tpr\": 0.9761904761904762, \"n\": 8}, {\"threshold\": 0.86, \"p\": 42, \"fpr\": 0.75, \"tpr\": 0.9761904761904762, \"n\": 8}, {\"threshold\": 0.861, \"p\": 42, \"fpr\": 0.75, \"tpr\": 0.9761904761904762, \"n\": 8}, {\"threshold\": 0.862, \"p\": 42, \"fpr\": 0.75, \"tpr\": 0.9761904761904762, \"n\": 8}, {\"threshold\": 0.863, \"p\": 42, \"fpr\": 0.75, \"tpr\": 0.9761904761904762, \"n\": 8}, {\"threshold\": 0.864, \"p\": 42, \"fpr\": 0.75, \"tpr\": 0.9761904761904762, \"n\": 8}, {\"threshold\": 0.865, \"p\": 42, \"fpr\": 0.75, \"tpr\": 0.9761904761904762, \"n\": 8}, {\"threshold\": 0.866, \"p\": 42, \"fpr\": 0.75, \"tpr\": 0.9761904761904762, \"n\": 8}, {\"threshold\": 0.867, \"p\": 42, \"fpr\": 0.75, \"tpr\": 0.9761904761904762, \"n\": 8}, {\"threshold\": 0.868, \"p\": 42, \"fpr\": 0.75, \"tpr\": 0.9761904761904762, \"n\": 8}, {\"threshold\": 0.869, \"p\": 42, \"fpr\": 0.75, \"tpr\": 0.9523809523809523, \"n\": 8}, {\"threshold\": 0.87, \"p\": 42, \"fpr\": 0.75, \"tpr\": 0.9523809523809523, \"n\": 8}, {\"threshold\": 0.871, \"p\": 42, \"fpr\": 0.75, \"tpr\": 0.9523809523809523, \"n\": 8}, {\"threshold\": 0.872, \"p\": 42, \"fpr\": 0.75, \"tpr\": 0.9523809523809523, \"n\": 8}, {\"threshold\": 0.873, \"p\": 42, \"fpr\": 0.75, \"tpr\": 0.9523809523809523, \"n\": 8}, {\"threshold\": 0.874, \"p\": 42, \"fpr\": 0.75, \"tpr\": 0.9523809523809523, \"n\": 8}, {\"threshold\": 0.875, \"p\": 42, \"fpr\": 0.75, \"tpr\": 0.9523809523809523, \"n\": 8}, {\"threshold\": 0.876, \"p\": 42, \"fpr\": 0.75, \"tpr\": 0.9523809523809523, \"n\": 8}, {\"threshold\": 0.877, \"p\": 42, \"fpr\": 0.75, \"tpr\": 0.9523809523809523, \"n\": 8}, {\"threshold\": 0.878, \"p\": 42, \"fpr\": 0.75, \"tpr\": 0.9523809523809523, \"n\": 8}, {\"threshold\": 0.879, \"p\": 42, \"fpr\": 0.75, \"tpr\": 0.9523809523809523, \"n\": 8}, {\"threshold\": 0.88, \"p\": 42, \"fpr\": 0.75, \"tpr\": 0.9523809523809523, \"n\": 8}, {\"threshold\": 0.881, \"p\": 42, \"fpr\": 0.75, \"tpr\": 0.9523809523809523, \"n\": 8}, {\"threshold\": 0.882, \"p\": 42, \"fpr\": 0.75, \"tpr\": 0.9523809523809523, \"n\": 8}, {\"threshold\": 0.883, \"p\": 42, \"fpr\": 0.75, \"tpr\": 0.9523809523809523, \"n\": 8}, {\"threshold\": 0.884, \"p\": 42, \"fpr\": 0.75, \"tpr\": 0.9523809523809523, \"n\": 8}, {\"threshold\": 0.885, \"p\": 42, \"fpr\": 0.75, \"tpr\": 0.9523809523809523, \"n\": 8}, {\"threshold\": 0.886, \"p\": 42, \"fpr\": 0.75, \"tpr\": 0.9523809523809523, \"n\": 8}, {\"threshold\": 0.887, \"p\": 42, \"fpr\": 0.75, \"tpr\": 0.9523809523809523, \"n\": 8}, {\"threshold\": 0.888, \"p\": 42, \"fpr\": 0.75, \"tpr\": 0.9523809523809523, \"n\": 8}, {\"threshold\": 0.889, \"p\": 42, \"fpr\": 0.75, \"tpr\": 0.9523809523809523, \"n\": 8}, {\"threshold\": 0.89, \"p\": 42, \"fpr\": 0.75, \"tpr\": 0.9523809523809523, \"n\": 8}, {\"threshold\": 0.891, \"p\": 42, \"fpr\": 0.75, \"tpr\": 0.9523809523809523, \"n\": 8}, {\"threshold\": 0.892, \"p\": 42, \"fpr\": 0.75, \"tpr\": 0.9523809523809523, \"n\": 8}, {\"threshold\": 0.893, \"p\": 42, \"fpr\": 0.75, \"tpr\": 0.9523809523809523, \"n\": 8}, {\"threshold\": 0.894, \"p\": 42, \"fpr\": 0.75, \"tpr\": 0.9523809523809523, \"n\": 8}, {\"threshold\": 0.895, \"p\": 42, \"fpr\": 0.75, \"tpr\": 0.9523809523809523, \"n\": 8}, {\"threshold\": 0.896, \"p\": 42, \"fpr\": 0.75, \"tpr\": 0.9523809523809523, \"n\": 8}, {\"threshold\": 0.897, \"p\": 42, \"fpr\": 0.75, \"tpr\": 0.9523809523809523, \"n\": 8}, {\"threshold\": 0.898, \"p\": 42, \"fpr\": 0.75, \"tpr\": 0.9523809523809523, \"n\": 8}, {\"threshold\": 0.899, \"p\": 42, \"fpr\": 0.75, \"tpr\": 0.9523809523809523, \"n\": 8}, {\"threshold\": 0.9, \"p\": 42, \"fpr\": 0.75, \"tpr\": 0.9523809523809523, \"n\": 8}, {\"threshold\": 0.901, \"p\": 42, \"fpr\": 0.75, \"tpr\": 0.9523809523809523, \"n\": 8}, {\"threshold\": 0.902, \"p\": 42, \"fpr\": 0.75, \"tpr\": 0.9523809523809523, \"n\": 8}, {\"threshold\": 0.903, \"p\": 42, \"fpr\": 0.75, \"tpr\": 0.9523809523809523, \"n\": 8}, {\"threshold\": 0.904, \"p\": 42, \"fpr\": 0.75, \"tpr\": 0.9523809523809523, \"n\": 8}, {\"threshold\": 0.905, \"p\": 42, \"fpr\": 0.75, \"tpr\": 0.9523809523809523, \"n\": 8}, {\"threshold\": 0.906, \"p\": 42, \"fpr\": 0.75, \"tpr\": 0.9523809523809523, \"n\": 8}, {\"threshold\": 0.907, \"p\": 42, \"fpr\": 0.75, \"tpr\": 0.9523809523809523, \"n\": 8}, {\"threshold\": 0.908, \"p\": 42, \"fpr\": 0.75, \"tpr\": 0.9523809523809523, \"n\": 8}, {\"threshold\": 0.909, \"p\": 42, \"fpr\": 0.75, \"tpr\": 0.9285714285714286, \"n\": 8}, {\"threshold\": 0.91, \"p\": 42, \"fpr\": 0.75, \"tpr\": 0.9285714285714286, \"n\": 8}, {\"threshold\": 0.911, \"p\": 42, \"fpr\": 0.75, \"tpr\": 0.9285714285714286, \"n\": 8}, {\"threshold\": 0.912, \"p\": 42, \"fpr\": 0.75, \"tpr\": 0.9285714285714286, \"n\": 8}, {\"threshold\": 0.913, \"p\": 42, \"fpr\": 0.75, \"tpr\": 0.9285714285714286, \"n\": 8}, {\"threshold\": 0.914, \"p\": 42, \"fpr\": 0.625, \"tpr\": 0.9285714285714286, \"n\": 8}, {\"threshold\": 0.915, \"p\": 42, \"fpr\": 0.625, \"tpr\": 0.9285714285714286, \"n\": 8}, {\"threshold\": 0.916, \"p\": 42, \"fpr\": 0.625, \"tpr\": 0.9285714285714286, \"n\": 8}, {\"threshold\": 0.917, \"p\": 42, \"fpr\": 0.625, \"tpr\": 0.9285714285714286, \"n\": 8}, {\"threshold\": 0.918, \"p\": 42, \"fpr\": 0.625, \"tpr\": 0.9285714285714286, \"n\": 8}, {\"threshold\": 0.919, \"p\": 42, \"fpr\": 0.625, \"tpr\": 0.9285714285714286, \"n\": 8}, {\"threshold\": 0.92, \"p\": 42, \"fpr\": 0.625, \"tpr\": 0.9285714285714286, \"n\": 8}, {\"threshold\": 0.921, \"p\": 42, \"fpr\": 0.625, \"tpr\": 0.9285714285714286, \"n\": 8}, {\"threshold\": 0.922, \"p\": 42, \"fpr\": 0.625, \"tpr\": 0.9285714285714286, \"n\": 8}, {\"threshold\": 0.923, \"p\": 42, \"fpr\": 0.625, \"tpr\": 0.9285714285714286, \"n\": 8}, {\"threshold\": 0.924, \"p\": 42, \"fpr\": 0.625, \"tpr\": 0.9047619047619048, \"n\": 8}, {\"threshold\": 0.925, \"p\": 42, \"fpr\": 0.625, \"tpr\": 0.9047619047619048, \"n\": 8}, {\"threshold\": 0.926, \"p\": 42, \"fpr\": 0.625, \"tpr\": 0.9047619047619048, \"n\": 8}, {\"threshold\": 0.927, \"p\": 42, \"fpr\": 0.625, \"tpr\": 0.9047619047619048, \"n\": 8}, {\"threshold\": 0.928, \"p\": 42, \"fpr\": 0.625, \"tpr\": 0.8809523809523809, \"n\": 8}, {\"threshold\": 0.929, \"p\": 42, \"fpr\": 0.625, \"tpr\": 0.8809523809523809, \"n\": 8}, {\"threshold\": 0.93, \"p\": 42, \"fpr\": 0.625, \"tpr\": 0.8809523809523809, \"n\": 8}, {\"threshold\": 0.931, \"p\": 42, \"fpr\": 0.625, \"tpr\": 0.8809523809523809, \"n\": 8}, {\"threshold\": 0.932, \"p\": 42, \"fpr\": 0.5, \"tpr\": 0.8809523809523809, \"n\": 8}, {\"threshold\": 0.933, \"p\": 42, \"fpr\": 0.5, \"tpr\": 0.8809523809523809, \"n\": 8}, {\"threshold\": 0.934, \"p\": 42, \"fpr\": 0.5, \"tpr\": 0.8809523809523809, \"n\": 8}, {\"threshold\": 0.935, \"p\": 42, \"fpr\": 0.5, \"tpr\": 0.8809523809523809, \"n\": 8}, {\"threshold\": 0.936, \"p\": 42, \"fpr\": 0.5, \"tpr\": 0.8809523809523809, \"n\": 8}, {\"threshold\": 0.937, \"p\": 42, \"fpr\": 0.5, \"tpr\": 0.8809523809523809, \"n\": 8}, {\"threshold\": 0.938, \"p\": 42, \"fpr\": 0.5, \"tpr\": 0.8809523809523809, \"n\": 8}, {\"threshold\": 0.939, \"p\": 42, \"fpr\": 0.5, \"tpr\": 0.8809523809523809, \"n\": 8}, {\"threshold\": 0.94, \"p\": 42, \"fpr\": 0.5, \"tpr\": 0.8809523809523809, \"n\": 8}, {\"threshold\": 0.941, \"p\": 42, \"fpr\": 0.5, \"tpr\": 0.8809523809523809, \"n\": 8}, {\"threshold\": 0.942, \"p\": 42, \"fpr\": 0.5, \"tpr\": 0.8809523809523809, \"n\": 8}, {\"threshold\": 0.943, \"p\": 42, \"fpr\": 0.5, \"tpr\": 0.8809523809523809, \"n\": 8}, {\"threshold\": 0.944, \"p\": 42, \"fpr\": 0.5, \"tpr\": 0.8809523809523809, \"n\": 8}, {\"threshold\": 0.945, \"p\": 42, \"fpr\": 0.5, \"tpr\": 0.8809523809523809, \"n\": 8}, {\"threshold\": 0.946, \"p\": 42, \"fpr\": 0.5, \"tpr\": 0.8809523809523809, \"n\": 8}, {\"threshold\": 0.947, \"p\": 42, \"fpr\": 0.5, \"tpr\": 0.8809523809523809, \"n\": 8}, {\"threshold\": 0.948, \"p\": 42, \"fpr\": 0.5, \"tpr\": 0.8809523809523809, \"n\": 8}, {\"threshold\": 0.949, \"p\": 42, \"fpr\": 0.5, \"tpr\": 0.8809523809523809, \"n\": 8}, {\"threshold\": 0.95, \"p\": 42, \"fpr\": 0.5, \"tpr\": 0.8809523809523809, \"n\": 8}, {\"threshold\": 0.951, \"p\": 42, \"fpr\": 0.5, \"tpr\": 0.8809523809523809, \"n\": 8}, {\"threshold\": 0.952, \"p\": 42, \"fpr\": 0.5, \"tpr\": 0.8809523809523809, \"n\": 8}, {\"threshold\": 0.953, \"p\": 42, \"fpr\": 0.5, \"tpr\": 0.8809523809523809, \"n\": 8}, {\"threshold\": 0.954, \"p\": 42, \"fpr\": 0.5, \"tpr\": 0.8809523809523809, \"n\": 8}, {\"threshold\": 0.955, \"p\": 42, \"fpr\": 0.5, \"tpr\": 0.8809523809523809, \"n\": 8}, {\"threshold\": 0.956, \"p\": 42, \"fpr\": 0.5, \"tpr\": 0.8809523809523809, \"n\": 8}, {\"threshold\": 0.957, \"p\": 42, \"fpr\": 0.5, \"tpr\": 0.8809523809523809, \"n\": 8}, {\"threshold\": 0.958, \"p\": 42, \"fpr\": 0.5, \"tpr\": 0.8809523809523809, \"n\": 8}, {\"threshold\": 0.959, \"p\": 42, \"fpr\": 0.5, \"tpr\": 0.8809523809523809, \"n\": 8}, {\"threshold\": 0.96, \"p\": 42, \"fpr\": 0.5, \"tpr\": 0.8809523809523809, \"n\": 8}, {\"threshold\": 0.961, \"p\": 42, \"fpr\": 0.5, \"tpr\": 0.8809523809523809, \"n\": 8}, {\"threshold\": 0.962, \"p\": 42, \"fpr\": 0.5, \"tpr\": 0.8809523809523809, \"n\": 8}, {\"threshold\": 0.963, \"p\": 42, \"fpr\": 0.5, \"tpr\": 0.8809523809523809, \"n\": 8}, {\"threshold\": 0.964, \"p\": 42, \"fpr\": 0.5, \"tpr\": 0.8809523809523809, \"n\": 8}, {\"threshold\": 0.965, \"p\": 42, \"fpr\": 0.5, \"tpr\": 0.8809523809523809, \"n\": 8}, {\"threshold\": 0.966, \"p\": 42, \"fpr\": 0.5, \"tpr\": 0.8809523809523809, \"n\": 8}, {\"threshold\": 0.967, \"p\": 42, \"fpr\": 0.5, \"tpr\": 0.8809523809523809, \"n\": 8}, {\"threshold\": 0.968, \"p\": 42, \"fpr\": 0.5, \"tpr\": 0.8809523809523809, \"n\": 8}, {\"threshold\": 0.969, \"p\": 42, \"fpr\": 0.5, \"tpr\": 0.8809523809523809, \"n\": 8}, {\"threshold\": 0.97, \"p\": 42, \"fpr\": 0.5, \"tpr\": 0.8809523809523809, \"n\": 8}, {\"threshold\": 0.971, \"p\": 42, \"fpr\": 0.5, \"tpr\": 0.8571428571428571, \"n\": 8}, {\"threshold\": 0.972, \"p\": 42, \"fpr\": 0.5, \"tpr\": 0.8571428571428571, \"n\": 8}, {\"threshold\": 0.973, \"p\": 42, \"fpr\": 0.5, \"tpr\": 0.8333333333333334, \"n\": 8}, {\"threshold\": 0.974, \"p\": 42, \"fpr\": 0.5, \"tpr\": 0.8095238095238095, \"n\": 8}, {\"threshold\": 0.975, \"p\": 42, \"fpr\": 0.5, \"tpr\": 0.7857142857142857, \"n\": 8}, {\"threshold\": 0.976, \"p\": 42, \"fpr\": 0.5, \"tpr\": 0.7857142857142857, \"n\": 8}, {\"threshold\": 0.977, \"p\": 42, \"fpr\": 0.5, \"tpr\": 0.7857142857142857, \"n\": 8}, {\"threshold\": 0.978, \"p\": 42, \"fpr\": 0.5, \"tpr\": 0.7857142857142857, \"n\": 8}, {\"threshold\": 0.979, \"p\": 42, \"fpr\": 0.375, \"tpr\": 0.7857142857142857, \"n\": 8}, {\"threshold\": 0.98, \"p\": 42, \"fpr\": 0.375, \"tpr\": 0.7619047619047619, \"n\": 8}, {\"threshold\": 0.981, \"p\": 42, \"fpr\": 0.375, \"tpr\": 0.7619047619047619, \"n\": 8}, {\"threshold\": 0.982, \"p\": 42, \"fpr\": 0.375, \"tpr\": 0.7619047619047619, \"n\": 8}, {\"threshold\": 0.983, \"p\": 42, \"fpr\": 0.375, \"tpr\": 0.7619047619047619, \"n\": 8}, {\"threshold\": 0.984, \"p\": 42, \"fpr\": 0.375, \"tpr\": 0.7380952380952381, \"n\": 8}, {\"threshold\": 0.985, \"p\": 42, \"fpr\": 0.375, \"tpr\": 0.6904761904761905, \"n\": 8}, {\"threshold\": 0.986, \"p\": 42, \"fpr\": 0.375, \"tpr\": 0.6904761904761905, \"n\": 8}, {\"threshold\": 0.987, \"p\": 42, \"fpr\": 0.375, \"tpr\": 0.6666666666666666, \"n\": 8}, {\"threshold\": 0.988, \"p\": 42, \"fpr\": 0.375, \"tpr\": 0.6428571428571429, \"n\": 8}, {\"threshold\": 0.989, \"p\": 42, \"fpr\": 0.375, \"tpr\": 0.6428571428571429, \"n\": 8}, {\"threshold\": 0.99, \"p\": 42, \"fpr\": 0.375, \"tpr\": 0.6190476190476191, \"n\": 8}, {\"threshold\": 0.991, \"p\": 42, \"fpr\": 0.375, \"tpr\": 0.6190476190476191, \"n\": 8}, {\"threshold\": 0.992, \"p\": 42, \"fpr\": 0.375, \"tpr\": 0.6190476190476191, \"n\": 8}, {\"threshold\": 0.993, \"p\": 42, \"fpr\": 0.375, \"tpr\": 0.5952380952380952, \"n\": 8}, {\"threshold\": 0.994, \"p\": 42, \"fpr\": 0.375, \"tpr\": 0.5952380952380952, \"n\": 8}, {\"threshold\": 0.995, \"p\": 42, \"fpr\": 0.375, \"tpr\": 0.5952380952380952, \"n\": 8}, {\"threshold\": 0.996, \"p\": 42, \"fpr\": 0.375, \"tpr\": 0.5714285714285714, \"n\": 8}, {\"threshold\": 0.997, \"p\": 42, \"fpr\": 0.375, \"tpr\": 0.5, \"n\": 8}, {\"threshold\": 0.998, \"p\": 42, \"fpr\": 0.125, \"tpr\": 0.47619047619047616, \"n\": 8}, {\"threshold\": 0.999, \"p\": 42, \"fpr\": 0.125, \"tpr\": 0.3333333333333333, \"n\": 8}, {\"threshold\": 1.0, \"p\": 42, \"fpr\": 0.0, \"tpr\": 0.0, \"n\": 8}]}]]}, e);\n",
       "                });\n",
       "            })();\n",
       "        "
      ]
     },
     "metadata": {},
     "output_type": "display_data"
    }
   ],
   "source": [
    "sentiment_model.show(view='Evaluation')"
   ]
  },
  {
   "cell_type": "code",
   "execution_count": 18,
   "metadata": {},
   "outputs": [],
   "source": [
    "diaper_champ_reviews['predicted sentiment'] = sentiment_model.predict(diaper_champ_reviews, output_type='probability')"
   ]
  },
  {
   "cell_type": "code",
   "execution_count": 19,
   "metadata": {},
   "outputs": [],
   "source": [
    "diaper_champ_reviews = diaper_champ_reviews.sort('predicted sentiment', ascending=False)"
   ]
  },
  {
   "cell_type": "code",
   "execution_count": 21,
   "metadata": {},
   "outputs": [
    {
     "data": {
      "text/plain": [
       "'I have never written a review for Amazon but I saw some of the poor reviews on the Diaper Champ and had to add my two cents . . .When my sister got pregnant she could not decide if she should register for the Diaper Champ or the Diaper Genie.  She left it up to me and after reviewing both items I went with the Diaper Champ . . .  The idea of having to continually purchase bags for the Diaper Genie seemed like a waste when the Diaper Champ lets you use any type of bag . . .  My nephew is now over two years old and while he has begun potty training, my sister still uses the Diaper Champ I gave her . . .When it came time for me to choose a diaper disposal system, I put the Diaper Champ on my registry.  Yes, it can be a bit tricky to open (I found using two hands works best) but then again do I want something that is holding wet and otherwise dirty diapers to open easily?  True, the mechanism sometimes won\\'t \"swing\" the dirty diaper into the pail but HELLO that is a sign that it is probably time to put in a new bag.  Yes, it can eventually start to smell if you don\\'t change it regularly . . . but then again if you used a metal safe lined with carbon to hold your kids diapers eventually baby poop and pee smell would emanate from it if you didn\\'t clean it out regularly . . . Realistically the thing holds dirty stinky diapers and yep it is going to smell when you open it but hey . . . my kids tush smells when I wipe it but I still love him :)My personal tip . . . if you belong to a wholesale club like BJ\\'s, Costco or Sam\\'s check to see if they have the Glad Kitchen Bags.  The BJ\\'s we shop in has a box of 200 for $9.99.  As long as you do not attempt to overstuff them (i.e., get lazy and don\\'t change the bag regularly) they work perfectly.  I also use them in the small garbage pails in our apartment.  I could wait for a sale and use a coupon (the way I shop for most things) but it takes months to go through the box and I like knowing they are always on hand . . . At about $.05 a bag, the super duper box of bags makes my life easy and that as any parent knows is ***PRICELESS***.'"
      ]
     },
     "execution_count": 21,
     "metadata": {},
     "output_type": "execute_result"
    }
   ],
   "source": [
    "diaper_champ_reviews['review'].head()[1]"
   ]
  },
  {
   "cell_type": "code",
   "execution_count": 22,
   "metadata": {},
   "outputs": [],
   "source": [
    "selected_words = ['awesome', 'great', 'fantastic', 'amazing', 'love', 'horrible', 'bad', 'terrible', 'awful', 'wow', 'hate']"
   ]
  },
  {
   "cell_type": "code",
   "execution_count": 27,
   "metadata": {},
   "outputs": [
    {
     "name": "stdout",
     "output_type": "stream",
     "text": [
      "awesome 0\n",
      "great 0\n",
      "fantastic 0\n",
      "amazing 0\n",
      "love 1\n",
      "horrible 0\n",
      "bad 0\n",
      "terrible 0\n",
      "awful 0\n",
      "wow 0\n",
      "hate 0\n"
     ]
    }
   ],
   "source": [
    "for voc in selected_words:\n",
    "    if voc in diaper_champ_reviews['word_count'][1]:\n",
    "        print voc, 1\n",
    "    else:\n",
    "        print voc, 0"
   ]
  },
  {
   "cell_type": "code",
   "execution_count": 28,
   "metadata": {},
   "outputs": [
    {
     "name": "stdout",
     "output_type": "stream",
     "text": [
      "{'shop': 2, 'belong': 1, 'bags.': 1, 'decide': 1, \"don't\": 2, 'tip': 1, 'over': 1, 'hands': 1, 'years': 1, '(i': 1, 'through': 1, 'mechanism': 1, 'go': 1, 'yep': 1, 'still': 2, 'seemed': 1, 'true,': 1, 'costco': 1, 'personal': 1, 'disposal': 1, 'stinky': 1, 'had': 1, 'him': 1, 'to': 14, 'perfectly.': 1, 'going': 1, 'tush': 1, 'choose': 1, 'easy': 1, 'wet': 1, 'has': 2, 'gave': 1, 'regularly': 2, 'eventually': 2, 'them': 2, 'get': 1, 'safe': 1, 'amazon': 1, 'should': 1, 'they': 3, 'probably': 1, 'not': 2, 'using': 1, 'bit': 1, 'now': 1, 'wipe': 1, 'diaper': 10, 'best)': 1, 'like': 3, 'pregnant': 1, 'pee': 1, 'system,': 1, 'bag': 2, 'she': 3, 'always': 1, 'small': 1, \"won't\": 1, 'went': 1, 'works': 1, 'old': 1, '(the': 1, 'add': 1, 'some': 1, 'idea': 1, 'emanate': 1, 'sign': 1, 'see': 1, '.when': 2, 'are': 1, 'begun': 1, 'nephew': 1, 'our': 1, 'out': 1, 'yes,': 2, 'both': 1, 'for': 7, 'review': 1, 'continually': 1, 'written': 1, 'then': 2, 'new': 1, 'can': 2, 'knowing': 1, 'be': 1, 'lazy': 1, 'parent': 1, 'got': 1, 'never': 1, 'diapers': 3, 'easily?': 1, '$.05': 1, 'found': 1, 'put': 2, 'carbon': 1, 'apartment.': 1, 'super': 1, '$9.99.': 1, 'change': 2, 'wait': 1, 'box': 3, 'on': 3, 'sister': 2, 'things)': 1, 'her': 1, 'items': 1, 'could': 2, 'months': 1, 'registry.': 1, 'thing': 1, 'makes': 1, 'or': 2, \"bj's\": 1, 'otherwise': 1, 'love': 1, 'garbage': 1, 'coupon': 1, 'into': 1, 'hey': 1, 'champ': 6, 'overstuff': 1, 'training,': 1, 'open': 3, 'your': 1, 'smells': 1, 'use': 3, 'from': 1, 'takes': 1, 'would': 1, 'potty': 1, 'genie.': 1, 'lets': 1, 'long': 1, 'realistically': 1, 'cents': 1, 'of': 5, 'way': 1, 'regularly)': 1, 'kitchen': 1, 'type': 1, 'start': 1, 'a': 12, 'life': 1, 'knows': 1, \"bj's,\": 1, 'club': 1, 'duper': 1, 'about': 1, 'but': 7, 'kids': 2, '\"swing\"': 1, 'baby': 1, 'hold': 1, 'with': 2, 'glad': 1, 'he': 1, 'me': 2, 'waste': 1, 'wholesale': 1, 'work': 1, 'up': 1, 'reviews': 1, 'i': 12, 'while': 1, 'dirty': 3, '.': 25, 'my': 7, 'something': 1, 'and': 10, '(i.e.,': 1, 'register': 1, 'have': 2, 'do': 2, 'reviewing': 1, 'is': 6, \"didn't\": 1, 'it': 12, 'as': 3, 'at': 1, 'want': 1, 'in': 4, 'saw': 1, 'any': 2, 'if': 6, 'bags': 2, 'holds': 1, 'when': 3, '***priceless***.': 1, 'check': 1, 'pails': 1, 'also': 1, 'that': 4, 'holding': 1, 'you': 7, 'smell': 3, 'poor': 1, '200': 1, 'poop': 1, 'used': 1, 'pail': 1, 'again': 2, 'after': 1, \"sam's\": 1, 'hand': 1, 'most': 1, 'uses': 1, 'two': 3, 'tricky': 1, 'purchase': 1, 'lined': 1, 'attempt': 1, 'we': 1, 'sometimes': 1, 'metal': 1, 'sale': 1, 'having': 1, 'came': 1, 'clean': 1, 'time': 2, 'genie': 1, 'the': 20, 'left': 1, 'bag.': 1, 'hello': 1, 'bag,': 1, ':)my': 1}\n"
     ]
    }
   ],
   "source": [
    "print diaper_champ_reviews['word_count'][1]"
   ]
  },
  {
   "cell_type": "code",
   "execution_count": null,
   "metadata": {},
   "outputs": [],
   "source": []
  }
 ],
 "metadata": {
  "kernelspec": {
   "display_name": "Python 2",
   "language": "python",
   "name": "python2"
  },
  "language_info": {
   "codemirror_mode": {
    "name": "ipython",
    "version": 2
   },
   "file_extension": ".py",
   "mimetype": "text/x-python",
   "name": "python",
   "nbconvert_exporter": "python",
   "pygments_lexer": "ipython2",
   "version": "2.7.11"
  }
 },
 "nbformat": 4,
 "nbformat_minor": 2
}
